{
 "cells": [
  {
   "cell_type": "markdown",
   "metadata": {},
   "source": [
    "#  Проект: объединение баз и нахождение выбросов"
   ]
  },
  {
   "cell_type": "code",
   "execution_count": 69,
   "metadata": {},
   "outputs": [],
   "source": [
    "# imports\n",
    "import pandas as pd\n",
    "import numpy as np\n",
    "import matplotlib.pyplot as plt\n",
    "import seaborn as sns\n",
    "\n",
    "# remove the limit on the number of displayed columns\n",
    "pd.set_option('display.max_columns', None)"
   ]
  },
  {
   "cell_type": "markdown",
   "metadata": {},
   "source": [
    "### 1. Чтение данных"
   ]
  },
  {
   "cell_type": "code",
   "execution_count": 70,
   "metadata": {},
   "outputs": [],
   "source": [
    "# база с ценами конкурентов\n",
    "pars_df = pd.read_excel('data/Data_TSUM.xlsx', sheet_name='Data_Parsing')\n",
    "\n",
    "# внутренняя база компании\n",
    "comp_df = pd.read_excel('data/Data_TSUM.xlsx', sheet_name='Data_Company')\n"
   ]
  },
  {
   "cell_type": "code",
   "execution_count": 71,
   "metadata": {},
   "outputs": [
    {
     "name": "stdout",
     "output_type": "stream",
     "text": [
      "Parsing data:\n"
     ]
    },
    {
     "data": {
      "text/html": [
       "<div>\n",
       "<style scoped>\n",
       "    .dataframe tbody tr th:only-of-type {\n",
       "        vertical-align: middle;\n",
       "    }\n",
       "\n",
       "    .dataframe tbody tr th {\n",
       "        vertical-align: top;\n",
       "    }\n",
       "\n",
       "    .dataframe thead th {\n",
       "        text-align: right;\n",
       "    }\n",
       "</style>\n",
       "<table border=\"1\" class=\"dataframe\">\n",
       "  <thead>\n",
       "    <tr style=\"text-align: right;\">\n",
       "      <th></th>\n",
       "      <th>brand</th>\n",
       "      <th>Category</th>\n",
       "      <th>producer_id</th>\n",
       "      <th>producer_color</th>\n",
       "      <th>price</th>\n",
       "    </tr>\n",
       "  </thead>\n",
       "  <tbody>\n",
       "    <tr>\n",
       "      <th>0</th>\n",
       "      <td>Valentino</td>\n",
       "      <td>Shoes</td>\n",
       "      <td>aaaaa1111_11</td>\n",
       "      <td>black</td>\n",
       "      <td>167</td>\n",
       "    </tr>\n",
       "    <tr>\n",
       "      <th>1</th>\n",
       "      <td>Valentino</td>\n",
       "      <td>Shoes</td>\n",
       "      <td>aaaaa1111_12</td>\n",
       "      <td>black</td>\n",
       "      <td>188</td>\n",
       "    </tr>\n",
       "    <tr>\n",
       "      <th>2</th>\n",
       "      <td>Valentino</td>\n",
       "      <td>Shoes</td>\n",
       "      <td>aaaaa1111_13</td>\n",
       "      <td>black</td>\n",
       "      <td>184</td>\n",
       "    </tr>\n",
       "    <tr>\n",
       "      <th>3</th>\n",
       "      <td>Valentino</td>\n",
       "      <td>Shoes</td>\n",
       "      <td>aaaaa1111_14</td>\n",
       "      <td>bla//ck</td>\n",
       "      <td>196</td>\n",
       "    </tr>\n",
       "    <tr>\n",
       "      <th>4</th>\n",
       "      <td>Valentino</td>\n",
       "      <td>Shoes</td>\n",
       "      <td>aaaaa1111_15</td>\n",
       "      <td>bla\\\\ck</td>\n",
       "      <td>250</td>\n",
       "    </tr>\n",
       "  </tbody>\n",
       "</table>\n",
       "</div>"
      ],
      "text/plain": [
       "       brand Category   producer_id producer_color  price\n",
       "0  Valentino    Shoes  aaaaa1111_11          black    167\n",
       "1  Valentino    Shoes  aaaaa1111_12          black    188\n",
       "2  Valentino    Shoes  aaaaa1111_13          black    184\n",
       "3  Valentino    Shoes  aaaaa1111_14        bla//ck    196\n",
       "4  Valentino    Shoes  aaaaa1111_15        bla\\\\ck    250"
      ]
     },
     "metadata": {},
     "output_type": "display_data"
    },
    {
     "name": "stdout",
     "output_type": "stream",
     "text": [
      "Company data:\n"
     ]
    },
    {
     "data": {
      "text/html": [
       "<div>\n",
       "<style scoped>\n",
       "    .dataframe tbody tr th:only-of-type {\n",
       "        vertical-align: middle;\n",
       "    }\n",
       "\n",
       "    .dataframe tbody tr th {\n",
       "        vertical-align: top;\n",
       "    }\n",
       "\n",
       "    .dataframe thead th {\n",
       "        text-align: right;\n",
       "    }\n",
       "</style>\n",
       "<table border=\"1\" class=\"dataframe\">\n",
       "  <thead>\n",
       "    <tr style=\"text-align: right;\">\n",
       "      <th></th>\n",
       "      <th>brand</th>\n",
       "      <th>Category</th>\n",
       "      <th>item_id</th>\n",
       "      <th>color_id</th>\n",
       "      <th>current price</th>\n",
       "    </tr>\n",
       "  </thead>\n",
       "  <tbody>\n",
       "    <tr>\n",
       "      <th>0</th>\n",
       "      <td>Valentino</td>\n",
       "      <td>Shoes</td>\n",
       "      <td>aaaaa111111</td>\n",
       "      <td>black</td>\n",
       "      <td>247</td>\n",
       "    </tr>\n",
       "    <tr>\n",
       "      <th>1</th>\n",
       "      <td>Valentino</td>\n",
       "      <td>Shoes</td>\n",
       "      <td>aaaaa111112</td>\n",
       "      <td>black</td>\n",
       "      <td>161</td>\n",
       "    </tr>\n",
       "    <tr>\n",
       "      <th>2</th>\n",
       "      <td>Valentino</td>\n",
       "      <td>Shoes</td>\n",
       "      <td>aaaaa111113</td>\n",
       "      <td>black</td>\n",
       "      <td>234</td>\n",
       "    </tr>\n",
       "    <tr>\n",
       "      <th>3</th>\n",
       "      <td>Valentino</td>\n",
       "      <td>Shoes</td>\n",
       "      <td>aaaaa111114</td>\n",
       "      <td>black</td>\n",
       "      <td>167</td>\n",
       "    </tr>\n",
       "    <tr>\n",
       "      <th>4</th>\n",
       "      <td>Valentino</td>\n",
       "      <td>Shoes</td>\n",
       "      <td>aaaaa111115</td>\n",
       "      <td>black</td>\n",
       "      <td>153</td>\n",
       "    </tr>\n",
       "  </tbody>\n",
       "</table>\n",
       "</div>"
      ],
      "text/plain": [
       "       brand Category      item_id color_id  current price\n",
       "0  Valentino    Shoes  aaaaa111111    black            247\n",
       "1  Valentino    Shoes  aaaaa111112    black            161\n",
       "2  Valentino    Shoes  aaaaa111113    black            234\n",
       "3  Valentino    Shoes  aaaaa111114    black            167\n",
       "4  Valentino    Shoes  aaaaa111115    black            153"
      ]
     },
     "metadata": {},
     "output_type": "display_data"
    }
   ],
   "source": [
    "#  Убедимся, что данные прочитаны корректно\n",
    "print('Parsing data:')\n",
    "display(pars_df.head())\n",
    "\n",
    "print('Company data:')\n",
    "display(comp_df.head())"
   ]
  },
  {
   "cell_type": "markdown",
   "metadata": {},
   "source": [
    "### 2. Предобработка данных для объединения"
   ]
  },
  {
   "cell_type": "markdown",
   "metadata": {},
   "source": [
    "Для объединения данных стоит использовать признак `producer_id` из таблицы `pars_df` и признак `item_id` из таблицы `comp_df`.  \n",
    "\n",
    "В базе парсинга есть два id, однозначно определяющие товар: producer_id и producer_color.\n",
    "\n",
    "В базе компании есть два аналогичных поля: item_id и color_id.  \n",
    "Используем их для объединения.  \n",
    "\n",
    "Для начала приведем данные к единой форме, а именно:  \n",
    "- В признаке `producer_id` удалим символ нижнего подчеркивания \n",
    "- В признаке `producer_color` удалим следующие служебные символы: `_, -, ~, \\\\, //`  "
   ]
  },
  {
   "cell_type": "code",
   "execution_count": 72,
   "metadata": {},
   "outputs": [
    {
     "data": {
      "text/plain": [
       "~~~red      33\n",
       "white_~     21\n",
       "black        9\n",
       "bla//ck      3\n",
       "bla\\\\ck      3\n",
       "bla__ck      3\n",
       "bla\\\\c~k     3\n",
       "Name: producer_color, dtype: int64"
      ]
     },
     "execution_count": 72,
     "metadata": {},
     "output_type": "execute_result"
    }
   ],
   "source": [
    "pars_df.producer_color.value_counts()"
   ]
  },
  {
   "cell_type": "code",
   "execution_count": 73,
   "metadata": {},
   "outputs": [
    {
     "data": {
      "text/plain": [
       "aaaaa1111_11    1\n",
       "sssss1111_17    1\n",
       "sssss1111_15    1\n",
       "sssss1111_14    1\n",
       "sssss1111_13    1\n",
       "               ..\n",
       "aaaaa1111_35    1\n",
       "aaaaa1111_34    1\n",
       "aaaaa1111_33    1\n",
       "aaaaa1111_32    1\n",
       "sssss1111_35    1\n",
       "Name: producer_id, Length: 75, dtype: int64"
      ]
     },
     "execution_count": 73,
     "metadata": {},
     "output_type": "execute_result"
    }
   ],
   "source": [
    "pars_df.producer_id.value_counts()"
   ]
  },
  {
   "cell_type": "code",
   "execution_count": 74,
   "metadata": {},
   "outputs": [],
   "source": [
    "def remove_special_symbols(s: str, symbols: list = None) -> str:\n",
    "    \"\"\"\n",
    "    Функция очистки строкового значения от служебных символов\n",
    "    типа '_', '-', '~', '\\\\', '//'.\n",
    "\n",
    "    Args:\n",
    "        s (str): переданное значение, строка. Может содержать:\n",
    "            - только буквы, пример: black;\n",
    "            - буквы и цифры, пример: aaaaa111112;\n",
    "            - буквы с примесью служб.символов, пример: white_~\n",
    "            - буквы и цифры с примесью служб.символов, пример: sssss1111_14\n",
    "        symbols (list, optional): Список технических символов, подлежащих удалению из строки.\n",
    "        Если равен None - то удаляются все символы кроме букв и чисел. Defaults to None.\n",
    "\n",
    "    Returns:\n",
    "        str: значение очищенное от спец.символов с сохранением последовательности букв и чисел.\n",
    "    \"\"\"\n",
    "    # Проверим состоит ли строка только из цифр или букв\n",
    "    if not s.isalnum():\n",
    "        if symbols:\n",
    "            return ''.join([char for char in s if char not in symbols])\n",
    "        \n",
    "        # if symbols list is None\n",
    "        return ''.join([char for char in s if char.isalnum()])\n",
    "    \n",
    "    return s\n",
    "    "
   ]
  },
  {
   "cell_type": "code",
   "execution_count": 75,
   "metadata": {},
   "outputs": [],
   "source": [
    "technical_symbols = ['_', '-', '~', '\\\\', '/']\n",
    "\n",
    "for col in ['producer_id', 'producer_color']:\n",
    "    pars_df[col] = pars_df[col].apply(remove_special_symbols,\n",
    "                                      symbols=technical_symbols\n",
    "                                      )\n"
   ]
  },
  {
   "cell_type": "markdown",
   "metadata": {},
   "source": [
    "Для удобства объединения данных приведем названия признаков к одинковые значениям."
   ]
  },
  {
   "cell_type": "code",
   "execution_count": 76,
   "metadata": {},
   "outputs": [],
   "source": [
    "pars_df.columns = ['brand', 'category', 'item_id', 'color', 'price']\n",
    "comp_df.columns = ['brand', 'category', 'item_id', 'color', 'price']"
   ]
  },
  {
   "cell_type": "markdown",
   "metadata": {},
   "source": [
    "### 3. Объединение данных"
   ]
  },
  {
   "cell_type": "code",
   "execution_count": 77,
   "metadata": {},
   "outputs": [
    {
     "name": "stdout",
     "output_type": "stream",
     "text": [
      "<class 'pandas.core.frame.DataFrame'>\n",
      "Int64Index: 75 entries, 0 to 74\n",
      "Data columns (total 6 columns):\n",
      " #   Column      Non-Null Count  Dtype \n",
      "---  ------      --------------  ----- \n",
      " 0   brand       75 non-null     object\n",
      " 1   category    75 non-null     object\n",
      " 2   item_id     75 non-null     object\n",
      " 3   color       75 non-null     object\n",
      " 4   price_pars  75 non-null     int64 \n",
      " 5   price_comp  75 non-null     int64 \n",
      "dtypes: int64(2), object(4)\n",
      "memory usage: 4.1+ KB\n"
     ]
    },
    {
     "data": {
      "text/html": [
       "<div>\n",
       "<style scoped>\n",
       "    .dataframe tbody tr th:only-of-type {\n",
       "        vertical-align: middle;\n",
       "    }\n",
       "\n",
       "    .dataframe tbody tr th {\n",
       "        vertical-align: top;\n",
       "    }\n",
       "\n",
       "    .dataframe thead th {\n",
       "        text-align: right;\n",
       "    }\n",
       "</style>\n",
       "<table border=\"1\" class=\"dataframe\">\n",
       "  <thead>\n",
       "    <tr style=\"text-align: right;\">\n",
       "      <th></th>\n",
       "      <th>brand</th>\n",
       "      <th>category</th>\n",
       "      <th>item_id</th>\n",
       "      <th>color</th>\n",
       "      <th>price_pars</th>\n",
       "      <th>price_comp</th>\n",
       "    </tr>\n",
       "  </thead>\n",
       "  <tbody>\n",
       "    <tr>\n",
       "      <th>0</th>\n",
       "      <td>Valentino</td>\n",
       "      <td>Shoes</td>\n",
       "      <td>aaaaa111111</td>\n",
       "      <td>black</td>\n",
       "      <td>167</td>\n",
       "      <td>247</td>\n",
       "    </tr>\n",
       "    <tr>\n",
       "      <th>1</th>\n",
       "      <td>Valentino</td>\n",
       "      <td>Shoes</td>\n",
       "      <td>aaaaa111112</td>\n",
       "      <td>black</td>\n",
       "      <td>188</td>\n",
       "      <td>161</td>\n",
       "    </tr>\n",
       "    <tr>\n",
       "      <th>2</th>\n",
       "      <td>Valentino</td>\n",
       "      <td>Shoes</td>\n",
       "      <td>aaaaa111113</td>\n",
       "      <td>black</td>\n",
       "      <td>184</td>\n",
       "      <td>234</td>\n",
       "    </tr>\n",
       "  </tbody>\n",
       "</table>\n",
       "</div>"
      ],
      "text/plain": [
       "       brand category      item_id  color  price_pars  price_comp\n",
       "0  Valentino    Shoes  aaaaa111111  black         167         247\n",
       "1  Valentino    Shoes  aaaaa111112  black         188         161\n",
       "2  Valentino    Shoes  aaaaa111113  black         184         234"
      ]
     },
     "metadata": {},
     "output_type": "display_data"
    }
   ],
   "source": [
    "df = pars_df.merge(comp_df[['item_id', 'color', 'price']],\n",
    "                   left_on=['item_id', 'color'],\n",
    "                   right_on=['item_id', 'color'],\n",
    "                   suffixes=('_pars', '_comp')\n",
    "                   )\n",
    "df.info()\n",
    "display(df.head(3))"
   ]
  },
  {
   "cell_type": "markdown",
   "metadata": {},
   "source": [
    "### 4. Добавление нового признака"
   ]
  },
  {
   "cell_type": "markdown",
   "metadata": {},
   "source": [
    "Добавление нового признака разницы цен в % (цена конкурента к нашей цене)"
   ]
  },
  {
   "cell_type": "code",
   "execution_count": 78,
   "metadata": {},
   "outputs": [],
   "source": [
    "df['price_diff_percentage'] = np.round(df['price_pars'] / df['price_comp'] * 100, 2)"
   ]
  },
  {
   "cell_type": "markdown",
   "metadata": {},
   "source": [
    "### 5. Определение сильных отклонений"
   ]
  },
  {
   "cell_type": "markdown",
   "metadata": {},
   "source": [
    "Посмотрим какое кол-во уникальных значений содержат признаки `brand` и `category`"
   ]
  },
  {
   "cell_type": "code",
   "execution_count": 79,
   "metadata": {},
   "outputs": [
    {
     "name": "stdout",
     "output_type": "stream",
     "text": [
      "feat. 'brand', unique values: 3: ['Valentino' 'Brioni' 'Stone Island']\n",
      "feat. 'category', unique values: 2: ['Shoes' 'Bags']\n"
     ]
    }
   ],
   "source": [
    "features = ['brand', 'category']\n",
    "for feat in features:\n",
    "    unique_values = df[feat].unique()\n",
    "    # print(unique_values)\n",
    "    print(f\"feat. '{feat}', unique values: {len(unique_values)}: {unique_values}\")"
   ]
  },
  {
   "cell_type": "markdown",
   "metadata": {},
   "source": [
    "Посмотрим на сбалансированность классов в этих признаках"
   ]
  },
  {
   "cell_type": "code",
   "execution_count": 80,
   "metadata": {},
   "outputs": [
    {
     "data": {
      "text/plain": [
       "Valentino       0.333333\n",
       "Brioni          0.333333\n",
       "Stone Island    0.333333\n",
       "Name: brand, dtype: float64"
      ]
     },
     "metadata": {},
     "output_type": "display_data"
    },
    {
     "data": {
      "text/plain": [
       "Shoes    0.56\n",
       "Bags     0.44\n",
       "Name: category, dtype: float64"
      ]
     },
     "metadata": {},
     "output_type": "display_data"
    }
   ],
   "source": [
    "features = ['brand', 'category']\n",
    "for feat in features:\n",
    "    display(df[feat].value_counts(normalize=True))\n",
    "    "
   ]
  },
  {
   "cell_type": "markdown",
   "metadata": {},
   "source": [
    "В целом классы более менее сбалансированны. "
   ]
  },
  {
   "cell_type": "markdown",
   "metadata": {},
   "source": [
    "#### Признак price_diff_percentage"
   ]
  },
  {
   "cell_type": "markdown",
   "metadata": {},
   "source": [
    "Посмотрим на распределение признака в целом"
   ]
  },
  {
   "cell_type": "code",
   "execution_count": 99,
   "metadata": {},
   "outputs": [
    {
     "data": {
      "image/png": "[encoded data removed]",
      "text/plain": [
       "<Figure size 1800x600 with 2 Axes>"
      ]
     },
     "metadata": {},
     "output_type": "display_data"
    }
   ],
   "source": [
    "fig, axes = plt.subplots(nrows=1, ncols=2, figsize=(18, 6))\n",
    "histplot1 = sns.histplot(data=df, x='price_diff_percentage', ax=axes[0,]);\n",
    "histplot1.set_title('price_diff_percentage distribution');\n",
    "\n",
    "boxplot1 = sns.boxplot(data=df, x='price_diff_percentage', ax=axes[1]);\n",
    "boxplot1.set_title('price_diff_percentage Boxplot');"
   ]
  },
  {
   "cell_type": "markdown",
   "metadata": {},
   "source": [
    "Сам признак имеет небольшой правый хвост.  Медиана находится на уровне 97. Самые частые наблюдения имеют значение признака в диапазоне от 82 до 118, что соответвует 25 и 75 квартилю.  "
   ]
  },
  {
   "cell_type": "markdown",
   "metadata": {},
   "source": [
    "Посмотрим на распределение целевого признака `price_diff_percentage` в разрезе бренда"
   ]
  },
  {
   "cell_type": "code",
   "execution_count": 110,
   "metadata": {},
   "outputs": [
    {
     "data": {
      "image/png": "[encoded data removed]",
      "text/plain": [
       "<Figure size 1800x600 with 2 Axes>"
      ]
     },
     "metadata": {},
     "output_type": "display_data"
    }
   ],
   "source": [
    "\n",
    "fig, axes = plt.subplots(nrows=1, ncols=2, figsize=(18, 6))\n",
    "histplot = sns.histplot(data=df, x='price_diff_percentage', hue='brand', multiple=\"dodge\", shrink=.8, bins=4, ax=axes[0]);\n",
    "histplot.set_title('price_diff_percentage distribution');\n",
    "\n",
    "boxplot = sns.boxplot(data=df, x='price_diff_percentage', y='brand', ax=axes[1]);\n",
    "boxplot.set_title('price_diff_percentage Boxplot');"
   ]
  },
  {
   "cell_type": "markdown",
   "metadata": {},
   "source": [
    "Из распределения видно, что в данных больше всего товаров с ценой в районе 90 - 110 и в районе 60-80.  \n",
    "По ящикам с усами видно, бренд Valentino имеет самый большой разброс в разнице цен. Бренд Stone Island, наоборот, имеет меньший разброс значений, но равную первому бренду медиану."
   ]
  },
  {
   "cell_type": "markdown",
   "metadata": {},
   "source": [
    "Посмотрим на распределение целевого признака `price_diff_percentage` в разрезе категории."
   ]
  },
  {
   "cell_type": "code",
   "execution_count": 113,
   "metadata": {},
   "outputs": [
    {
     "data": {
      "image/png": "[encoded data removed]",
      "text/plain": [
       "<Figure size 1800x600 with 2 Axes>"
      ]
     },
     "metadata": {},
     "output_type": "display_data"
    }
   ],
   "source": [
    "fig, axes = plt.subplots(nrows=1, ncols=2, figsize=(18, 6))\n",
    "histplot = sns.histplot(data=df, x='price_diff_percentage', hue='category', multiple=\"dodge\", shrink=.8, bins=4, ax=axes[0]);\n",
    "histplot.set_title('price_diff_percentage distribution');\n",
    "\n",
    "boxplot = sns.boxplot(data=df, x='price_diff_percentage', y='category', ax=axes[1]);\n",
    "boxplot.set_title('price_diff_percentage Boxplot');\n"
   ]
  },
  {
   "cell_type": "markdown",
   "metadata": {},
   "source": [
    "Самая частая разница в ценах наблюдается в диапазоне 90-110%. При этом разброс разницы значений в двух категориях почти одинаков, но чаще большая разница наблюдается в категории shoes."
   ]
  },
  {
   "cell_type": "markdown",
   "metadata": {},
   "source": [
    "Определить сильные отклонения от среднего в разности цен в пределах бренда-категории"
   ]
  },
  {
   "cell_type": "code",
   "execution_count": 114,
   "metadata": {},
   "outputs": [
    {
     "name": "stdout",
     "output_type": "stream",
     "text": [
      "Outliers count: 1\n"
     ]
    }
   ],
   "source": [
    "def outliers_iqr_mod(data, feature, left=1.5, right=1.5):\n",
    "    x = data[feature]\n",
    "    quartile_1, quartile_3 = x.quantile(0.25), x.quantile(0.75),\n",
    "    iqr = quartile_3 - quartile_1\n",
    "    lower_bound = quartile_1 - (iqr * left)\n",
    "    upper_bound = quartile_3 + (iqr * right)\n",
    "    outliers = data[(x < lower_bound) | (x > upper_bound)]\n",
    "    cleaned = data[(x >= lower_bound) & (x <= upper_bound)]\n",
    "    \n",
    "    return outliers, cleaned\n",
    "\n",
    "\n",
    "outliers, cleaned = outliers_iqr_mod(df, 'price_diff_percentage', left=1.3, right=1.3)\n",
    "\n",
    "print(f\"Outliers count: {outliers.shape[0]}\")"
   ]
  },
  {
   "cell_type": "markdown",
   "metadata": {},
   "source": [
    "Вся выборка имеет только один выброс, при этом критерий выброса был намеренно ужесточен до 1.3 межквартильного размаха.  \n",
    "Посмотрим на выбросы в пределах бренда-категории."
   ]
  },
  {
   "cell_type": "code",
   "execution_count": 115,
   "metadata": {},
   "outputs": [
    {
     "data": {
      "text/html": [
       "<div>\n",
       "<style scoped>\n",
       "    .dataframe tbody tr th:only-of-type {\n",
       "        vertical-align: middle;\n",
       "    }\n",
       "\n",
       "    .dataframe tbody tr th {\n",
       "        vertical-align: top;\n",
       "    }\n",
       "\n",
       "    .dataframe thead th {\n",
       "        text-align: right;\n",
       "    }\n",
       "</style>\n",
       "<table border=\"1\" class=\"dataframe\">\n",
       "  <thead>\n",
       "    <tr style=\"text-align: right;\">\n",
       "      <th></th>\n",
       "      <th>brand</th>\n",
       "      <th>category</th>\n",
       "      <th>item_id</th>\n",
       "      <th>color</th>\n",
       "      <th>price_pars</th>\n",
       "      <th>price_comp</th>\n",
       "      <th>price_diff_percentage</th>\n",
       "    </tr>\n",
       "  </thead>\n",
       "  <tbody>\n",
       "    <tr>\n",
       "      <th>30</th>\n",
       "      <td>Brioni</td>\n",
       "      <td>Shoes</td>\n",
       "      <td>bbbbb111116</td>\n",
       "      <td>black</td>\n",
       "      <td>190</td>\n",
       "      <td>283</td>\n",
       "      <td>67.14</td>\n",
       "    </tr>\n",
       "    <tr>\n",
       "      <th>31</th>\n",
       "      <td>Brioni</td>\n",
       "      <td>Shoes</td>\n",
       "      <td>bbbbb111117</td>\n",
       "      <td>black</td>\n",
       "      <td>291</td>\n",
       "      <td>198</td>\n",
       "      <td>146.97</td>\n",
       "    </tr>\n",
       "    <tr>\n",
       "      <th>32</th>\n",
       "      <td>Brioni</td>\n",
       "      <td>Shoes</td>\n",
       "      <td>bbbbb111118</td>\n",
       "      <td>white</td>\n",
       "      <td>165</td>\n",
       "      <td>235</td>\n",
       "      <td>70.21</td>\n",
       "    </tr>\n",
       "    <tr>\n",
       "      <th>34</th>\n",
       "      <td>Brioni</td>\n",
       "      <td>Shoes</td>\n",
       "      <td>bbbbb111120</td>\n",
       "      <td>white</td>\n",
       "      <td>169</td>\n",
       "      <td>256</td>\n",
       "      <td>66.02</td>\n",
       "    </tr>\n",
       "    <tr>\n",
       "      <th>38</th>\n",
       "      <td>Brioni</td>\n",
       "      <td>Shoes</td>\n",
       "      <td>bbbbb111124</td>\n",
       "      <td>white</td>\n",
       "      <td>298</td>\n",
       "      <td>183</td>\n",
       "      <td>162.84</td>\n",
       "    </tr>\n",
       "    <tr>\n",
       "      <th>65</th>\n",
       "      <td>Stone Island</td>\n",
       "      <td>Bags</td>\n",
       "      <td>sssss111126</td>\n",
       "      <td>red</td>\n",
       "      <td>255</td>\n",
       "      <td>159</td>\n",
       "      <td>160.38</td>\n",
       "    </tr>\n",
       "  </tbody>\n",
       "</table>\n",
       "</div>"
      ],
      "text/plain": [
       "           brand category      item_id  color  price_pars  price_comp  \\\n",
       "30        Brioni    Shoes  bbbbb111116  black         190         283   \n",
       "31        Brioni    Shoes  bbbbb111117  black         291         198   \n",
       "32        Brioni    Shoes  bbbbb111118  white         165         235   \n",
       "34        Brioni    Shoes  bbbbb111120  white         169         256   \n",
       "38        Brioni    Shoes  bbbbb111124  white         298         183   \n",
       "65  Stone Island     Bags  sssss111126    red         255         159   \n",
       "\n",
       "    price_diff_percentage  \n",
       "30                  67.14  \n",
       "31                 146.97  \n",
       "32                  70.21  \n",
       "34                  66.02  \n",
       "38                 162.84  \n",
       "65                 160.38  "
      ]
     },
     "metadata": {},
     "output_type": "display_data"
    }
   ],
   "source": [
    "from itertools import product\n",
    "\n",
    "out_ind = np.array([], dtype='int64')\n",
    "\n",
    "brands = df.brand.unique()\n",
    "categories = df.category.unique()\n",
    "for brand, category in product(brands, categories, repeat=1):\n",
    "    cur_df = df[(df['brand'] == brand) & (df['category'] == category)]\n",
    "    \n",
    "    outliers, _ = outliers_iqr_mod(cur_df, 'price_diff_percentage', left=1.3, right=1.3)\n",
    "    if outliers.shape[0]:\n",
    "        out_ind = np.append(out_ind, list(outliers.index.values))\n",
    "\n",
    "#  Посмотрим на определенные выбросы\n",
    "display(df.iloc[out_ind])"
   ]
  },
  {
   "cell_type": "markdown",
   "metadata": {},
   "source": [
    "Как видно, в выбросы попали 5 товаров марки Brioni в категории Shoes, а так же 1 сумка марки Stone Island. 3 товара из 6 имеют высокую разницу в ценах и 3 низкую."
   ]
  },
  {
   "cell_type": "markdown",
   "metadata": {},
   "source": [
    "Принято решение удалить записи с выбросами из выборки."
   ]
  },
  {
   "cell_type": "code",
   "execution_count": 116,
   "metadata": {},
   "outputs": [],
   "source": [
    "df.drop(index=out_ind, inplace=True)"
   ]
  },
  {
   "cell_type": "markdown",
   "metadata": {},
   "source": [
    "### 6. Запись в Excel файл"
   ]
  },
  {
   "cell_type": "code",
   "execution_count": 117,
   "metadata": {},
   "outputs": [],
   "source": [
    "path_to_result = 'data/Data_TSUM_processed.xlsx'\n",
    "df.to_excel(path_to_result,\n",
    "            sheet_name='Combined_Data'\n",
    "        )"
   ]
  },
  {
   "cell_type": "markdown",
   "metadata": {},
   "source": [
    "### 7. Заключение"
   ]
  },
  {
   "cell_type": "markdown",
   "metadata": {},
   "source": [
    "В рамках данного мини-проекта на очень небольшом наборе данных я отработал на практике такие важные для работы с данными навыки как:  \n",
    "- Чтение и запись данных в Excel файл   \n",
    "- Чистка данных  \n",
    "- Слияние данных по ключу  \n",
    "- Добавление новых признаков на основе имеющихся  \n",
    "- Визуализация данных  \n",
    "- Поиск и обработка выбросов  "
   ]
  },
  {
   "cell_type": "code",
   "execution_count": null,
   "metadata": {},
   "outputs": [],
   "source": []
  }
 ],
 "metadata": {
  "kernelspec": {
   "display_name": "base",
   "language": "python",
   "name": "python3"
  },
  "language_info": {
   "codemirror_mode": {
    "name": "ipython",
    "version": 3
   },
   "file_extension": ".py",
   "mimetype": "text/x-python",
   "name": "python",
   "nbconvert_exporter": "python",
   "pygments_lexer": "ipython3",
   "version": "3.9.13"
  }
 },
 "nbformat": 4,
 "nbformat_minor": 2
}
