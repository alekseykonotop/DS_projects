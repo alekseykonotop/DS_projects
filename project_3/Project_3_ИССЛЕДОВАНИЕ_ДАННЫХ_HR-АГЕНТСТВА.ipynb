{
 "cells": [
  {
   "cell_type": "markdown",
   "id": "f16139ac-6fb9-4c88-a330-78f2c604127f",
   "metadata": {},
   "source": [
    "# ПРОЕКТ 3. ИССЛЕДОВАНИЕ ДАННЫХ HR-АГЕНТСТВА"
   ]
  },
  {
   "cell_type": "markdown",
   "id": "a77c3313-02ba-4f26-90de-60dbbc1292be",
   "metadata": {},
   "source": [
    "Основная цель проекта: практика по статистическим тестам в контексте EDA"
   ]
  },
  {
   "cell_type": "markdown",
   "id": "363165a6-8b9d-4502-8c5a-2337518156b5",
   "metadata": {},
   "source": [
    "## Легенда"
   ]
  },
  {
   "cell_type": "markdown",
   "id": "ff79c2b5-b77b-4d4d-b07b-bc6b39abb853",
   "metadata": {},
   "source": [
    "HR-агентство изучает тренды на рынке труда в IT. Компания хочет провести исследование на основе данных о зарплатах в сфере Data Science за 2020–2022 годы и получить некоторые выводы."
   ]
  },
  {
   "cell_type": "markdown",
   "id": "6c9eeb12-610a-48a5-9a33-5276ee8a7681",
   "metadata": {},
   "source": [
    "Оригинальный датасет: [**“Data Science Job Salaries” (kaggle.com)**](https://www.kaggle.com/datasets/ruchi798/data-science-job-salaries)"
   ]
  },
  {
   "cell_type": "markdown",
   "id": "0af72012-a21a-457f-bfb7-91dfda91309e",
   "metadata": {},
   "source": [
    "Исследуем данные и сделаем выводы по полученным результатам. Подкрепим свои рассуждения и выводы визуализациями и с проверим помощью статистического тестирования, являются ли выводы статистически значимыми.\n",
    "\n",
    "**В процессе своего анализа необходимо:**  \n",
    "1. Выяснить, какие факторы влияют на зарплату специалиста Data Scientist.\n",
    "2. Ответить на ключевые вопросы HR-агентства:\n",
    "    - Наблюдается ли ежегодный рост зарплат у специалистов Data Scientist?\n",
    "    - Как соотносятся зарплаты Data Scientist и Data Engineer в 2022 году?\n",
    "    - Как соотносятся зарплаты специалистов Data Scientist в компаниях различных размеров?\n",
    "    - Есть ли связь между наличием должностей Data Scientist и Data Engineer и размером компании?\n",
    "3. Если в данных мы найдём интересные закономерности, также отметим их в своём анализе.\n",
    "\n",
    "**Продемонстрируем использование разных тестов** для проверки статистической значимости сделанных выводов:  \n",
    "- тесты для количественного признака:\n",
    "  - для одной выборки;\n",
    "  - для двух выборок;\n",
    "  - для нескольких выборок;\n",
    "- тест для категориальных признаков."
   ]
  },
  {
   "cell_type": "markdown",
   "id": "393904f5-0584-44db-87c9-36d14f3f641f",
   "metadata": {},
   "source": [
    "**ОПИСАНИЕ ПРИЗНАКОВ**\n",
    "| НАИМЕНОВАНИЕ СТОЛБЦА  | ОПИСАНИЕ |\n",
    "| :---          |     :---     |\n",
    "| `work_year`  | Год, в котором была выплачена зарплата. |\n",
    "| `experience_level`  | Опыт работы на этой должности в течение года со следующими возможными значениями:  \n",
    "|    | - *`EN` — Entry-level/Junior*;\n",
    "|    | - *`MI` — Mid-level/Intermediate*;\n",
    "|    | - *`SE` — Senior-level/Expert*;\n",
    "|    | - *`EX` — Executive-level/Director*.|\n",
    "| `employment_type`  | Тип трудоустройства для этой роли:  |\n",
    "|   | - *`PT` — неполный рабочий день*;  |\n",
    "|   | - *`FT` — полный рабочий день;*  |\n",
    "|   | - *`CT` — контракт;*  |\n",
    "|   | - *`FL` — фриланс.*  |\n",
    "| `job_title`  | Роль, в которой соискатель работал в течение года.  |\n",
    "| `salary`  | Общая выплаченная валовая сумма заработной платы.  |\n",
    "| `salary_currency`  | Валюта выплачиваемой заработной платы в виде кода валюты ISO 4217.  |\n",
    "| `salary_in_usd`  | Зарплата в долларах США (валютный курс, делённый на среднее значение курса доллара США за соответствующий год через fxdata.foorilla.com).  |\n",
    "| `employee_residence`  | Основная страна проживания сотрудника в течение рабочего года в виде кода страны ISO 3166.  |\n",
    "| `remote_ratio`  | Общий объём работы, выполняемой удалённо. Возможные значения:  |\n",
    "|   | - *`0` — удалённой работы нет (менее 20 %);*  |\n",
    "|   | - *`50` — частично удалённая работа;*  |\n",
    "|   | - *`100` — полностью удалённая работа (более 80 %).*  |\n",
    "| `company_location`  | Страна главного офиса работодателя или филиала по контракту в виде кода страны ISO 3166.  |\n",
    "| `company_size`  | Среднее количество людей, работавших в компании в течение года:  |\n",
    "|   | - *`S` — менее 50 сотрудников (небольшая компания);*  |\n",
    "|   | - *`M` — от 50 до 250 сотрудников (средняя компания);*  |\n",
    "|   | - *`L` — более 250 сотрудников (крупная компания).*  |\n",
    "\n"
   ]
  },
  {
   "cell_type": "markdown",
   "id": "5d2f2e05-e7ac-474c-a2d9-c7d0a7f767c9",
   "metadata": {},
   "source": [
    "## Загрузка данных"
   ]
  },
  {
   "cell_type": "code",
   "execution_count": 1,
   "id": "0e883675-1887-4f00-8f36-d8d03dde308c",
   "metadata": {},
   "outputs": [],
   "source": [
    "# загружаем необходимые библиотеки\n",
    "import pandas as pd\n",
    "import numpy as np\n",
    "\n",
    "from scipy import stats\n",
    "import statsmodels.api as sm\n",
    "from statsmodels import stats as sms\n",
    "\n",
    "import matplotlib.pyplot as plt\n",
    "import seaborn as sns\n",
    "\n",
    "%matplotlib inline\n",
    "\n",
    "# делаем визуальную настройку графиков\n",
    "sns.set_theme(\"notebook\") \n",
    "sns.set_palette(\"Set2\") "
   ]
  },
  {
   "cell_type": "code",
   "execution_count": null,
   "id": "b605c82d-1622-4bdb-ae47-88f7e0050d87",
   "metadata": {},
   "outputs": [],
   "source": []
  }
 ],
 "metadata": {
  "kernelspec": {
   "display_name": "Python 3 (ipykernel)",
   "language": "python",
   "name": "python3"
  },
  "language_info": {
   "codemirror_mode": {
    "name": "ipython",
    "version": 3
   },
   "file_extension": ".py",
   "mimetype": "text/x-python",
   "name": "python",
   "nbconvert_exporter": "python",
   "pygments_lexer": "ipython3",
   "version": "3.12.3"
  }
 },
 "nbformat": 4,
 "nbformat_minor": 5
}
