{
 "cells": [
  {
   "cell_type": "markdown",
   "id": "f16139ac-6fb9-4c88-a330-78f2c604127f",
   "metadata": {},
   "source": [
    "# ПРОЕКТ 3. ИССЛЕДОВАНИЕ ДАННЫХ HR-АГЕНТСТВА"
   ]
  },
  {
   "cell_type": "markdown",
   "id": "f85b3ee8-022b-4e36-aacd-146e96ca6416",
   "metadata": {},
   "source": [
    "##  ОГЛАВЛЕНИЕ\n",
    "[**1. Базовый анализ структуры данных**](https://github.com/alekseykonotop/DS_projects/tree/main/project_3/Project_3_DS_Salary_Research.ipynb#Базовый-анализ-структуры-данных)  \n",
    "[**2. Преобразование данных**](https://github.com/alekseykonotop/DS_projects/tree/main/project_3/Project_3_DS_Salary_Research.ipynb#Преобразование-данных)  \n",
    "[**3. Разведывательный анализ - EDA**](https://github.com/alekseykonotop/DS_projects/tree/main/project_3/Project_3_DS_Salary_Research.ipynb#Разведывательный-анализ---EDA)  \n",
    "\n",
    "\n",
    "[**4. Ответы на вопросы бизнеса**](https://github.com/alekseykonotop/DS_projects/tree/main/project_3/Project_3_DS_Salary_Research.ipynb#Ответы-на-вопросы-бизнеса)  \n",
    "- [**4.1 Наблюдается ли ежегодный рост зарплат у специалистов Data Scientist?**](https://github.com/alekseykonotop/DS_projects/tree/main/project_3/Project_3_DS_Salary_Research.ipynb#4.1-Наблюдается-ли-ежегодный-рост-зарплат-у-специалистов-Data-Scientist?)  \n",
    "- [**4.2 Как соотносятся зарплаты Data Scientist и Data Engineer в 2022 году?**](https://github.com/alekseykonotop/DS_projects/tree/main/project_3/Project_3_DS_Salary_Research.ipynb#4.2-Как-соотносятся-зарплаты-Data-Scientist-и-Data-Engineer-в-2022-году?)  \n",
    "- [**4.3 Как соотносятся зарплаты специалистов Data Scientist в компаниях различных размеров?**](https://github.com/alekseykonotop/DS_projects/tree/main/project_3/Project_3_DS_Salary_Research.ipynb#4.3-Как-соотносятся-зарплаты-специалистов-Data-Scientist-в-компаниях-различных-размеров?)  \n",
    "- [**4.4 Есть ли связь между наличием должностей Data Scientist и Data Engineer и размером компании?**](https://github.com/alekseykonotop/DS_projects/tree/main/project_3/Project_3_DS_Salary_Research.ipynb#4.4-Есть-ли-связь-между-наличием-должностей-Data-Scientist-и-Data-Engineer-и-размером-компании?)\n",
    "- [**4.5 Какие факторы влияют на зарплату специалиста Data Scientist?**](https://github.com/alekseykonotop/DS_projects/tree/main/project_3/Project_3_DS_Salary_Research.ipynb#4.5-Какие-факторы-влияют-на-зарплату-специалиста-Data-Scientist?)  \n",
    "    - [**1. Есть ли ежегодный рост уровня заработной платы?**](https://github.com/alekseykonotop/DS_projects/tree/main/project_3/Project_3_DS_Salary_Research.ipynb#1.-Есть-ли-ежегодный-рост-уровня-заработной-платы?)\n",
    "    - [**2. Влияет ли опыт работы на уровень заработной платы?**](https://github.com/alekseykonotop/DS_projects/tree/main/project_3/Project_3_DS_Salary_Research.ipynb#2.-Влияет-ли-опыт-работы-на-уровень-заработной-платы?)\n",
    "     \n",
    "     \n",
    "[**3. Ответы на поставленные вопросы**](https://github.com/alekseykonotop/DS_projects/tree/main/project_3/Project_3_DS_Salary_Research.ipynb#Ответы-на-поставленные-вопросы)   \n",
    "[**4. Итоги**](https://github.com/alekseykonotop/DS_projects/tree/main/project_3/Project_3_DS_Salary_Research.ipynb#Итоги)  \n",
    "\n"
   ]
  },
  {
   "cell_type": "markdown",
   "id": "5d2f2e05-e7ac-474c-a2d9-c7d0a7f767c9",
   "metadata": {},
   "source": [
    "## Загрузка данных"
   ]
  },
  {
   "cell_type": "code",
   "execution_count": 1,
   "id": "0e883675-1887-4f00-8f36-d8d03dde308c",
   "metadata": {},
   "outputs": [],
   "source": [
    "# загружаем необходимые библиотеки\n",
    "import pandas as pd\n",
    "import numpy as np\n",
    "\n",
    "from scipy import stats\n",
    "import statsmodels.api as sm\n",
    "from statsmodels import stats as sms\n",
    "\n",
    "import matplotlib.pyplot as plt\n",
    "import seaborn as sns\n",
    "\n",
    "%matplotlib inline\n",
    "\n",
    "from pprint import pprint\n",
    "\n",
    "# !pip install -q country_converter\n",
    "import country_converter\n",
    "\n",
    "# делаем визуальную настройку графиков\n",
    "sns.set_theme(\"notebook\") \n",
    "sns.set_palette(\"Set2\") \n",
    "\n",
    "DATA_PATH = 'data/ds_salaries.csv'"
   ]
  },
  {
   "cell_type": "markdown",
   "id": "393904f5-0584-44db-87c9-36d14f3f641f",
   "metadata": {},
   "source": [
    "**ОПИСАНИЕ ПРИЗНАКОВ**\n",
    "| НАИМЕНОВАНИЕ СТОЛБЦА  | ОПИСАНИЕ |\n",
    "| :---          |     :---     |\n",
    "| `work_year`  | Год, в котором была выплачена зарплата. |\n",
    "| `experience_level`  | Опыт работы на этой должности в течение года со следующими возможными значениями:  \n",
    "|    | - *`EN` — Entry-level/Junior*;\n",
    "|    | - *`MI` — Mid-level/Intermediate*;\n",
    "|    | - *`SE` — Senior-level/Expert*;\n",
    "|    | - *`EX` — Executive-level/Director*.|\n",
    "| `employment_type`  | Тип трудоустройства для этой роли:  |\n",
    "|   | - *`PT` — неполный рабочий день*;  |\n",
    "|   | - *`FT` — полный рабочий день;*  |\n",
    "|   | - *`CT` — контракт;*  |\n",
    "|   | - *`FL` — фриланс.*  |\n",
    "| `job_title`  | Роль, в которой соискатель работал в течение года.  |\n",
    "| `salary`  | Общая выплаченная валовая сумма заработной платы.  |\n",
    "| `salary_currency`  | Валюта выплачиваемой заработной платы в виде кода валюты ISO 4217.  |\n",
    "| `salary_in_usd`  | Зарплата в долларах США (валютный курс, делённый на среднее значение курса доллара США за соответствующий год через fxdata.foorilla.com).  |\n",
    "| `employee_residence`  | Основная страна проживания сотрудника в течение рабочего года в виде кода страны ISO 3166.  |\n",
    "| `remote_ratio`  | Общий объём работы, выполняемой удалённо. Возможные значения:  |\n",
    "|   | - *`0` — удалённой работы нет (менее 20 %);*  |\n",
    "|   | - *`50` — частично удалённая работа;*  |\n",
    "|   | - *`100` — полностью удалённая работа (более 80 %).*  |\n",
    "| `company_location`  | Страна главного офиса работодателя или филиала по контракту в виде кода страны ISO 3166.  |\n",
    "| `company_size`  | Среднее количество людей, работавших в компании в течение года:  |\n",
    "|   | - *`S` — менее 50 сотрудников (небольшая компания);*  |\n",
    "|   | - *`M` — от 50 до 250 сотрудников (средняя компания);*  |\n",
    "|   | - *`L` — более 250 сотрудников (крупная компания).*  |\n",
    "\n"
   ]
  },
  {
   "cell_type": "markdown",
   "id": "334ac1a3-e6db-40f1-80c5-004953712401",
   "metadata": {},
   "source": [
    "## Базовый анализ структуры данных\n",
    "[❎ **К ОГЛАВЛЕНИЮ**](#ОГЛАВЛЕНИЕ)"
   ]
  },
  {
   "cell_type": "code",
   "execution_count": 2,
   "id": "a43510ae-7140-48f8-87f9-1e4b34008ca0",
   "metadata": {},
   "outputs": [
    {
     "name": "stdout",
     "output_type": "stream",
     "text": [
      "<class 'pandas.core.frame.DataFrame'>\n",
      "Index: 607 entries, 0 to 606\n",
      "Data columns (total 11 columns):\n",
      " #   Column              Non-Null Count  Dtype \n",
      "---  ------              --------------  ----- \n",
      " 0   work_year           607 non-null    int64 \n",
      " 1   experience_level    607 non-null    object\n",
      " 2   employment_type     607 non-null    object\n",
      " 3   job_title           607 non-null    object\n",
      " 4   salary              607 non-null    int64 \n",
      " 5   salary_currency     607 non-null    object\n",
      " 6   salary_in_usd       607 non-null    int64 \n",
      " 7   employee_residence  607 non-null    object\n",
      " 8   remote_ratio        607 non-null    int64 \n",
      " 9   company_location    607 non-null    object\n",
      " 10  company_size        607 non-null    object\n",
      "dtypes: int64(4), object(7)\n",
      "memory usage: 56.9+ KB\n"
     ]
    },
    {
     "data": {
      "text/plain": [
       "None"
      ]
     },
     "metadata": {},
     "output_type": "display_data"
    },
    {
     "data": {
      "text/html": [
       "<div>\n",
       "<style scoped>\n",
       "    .dataframe tbody tr th:only-of-type {\n",
       "        vertical-align: middle;\n",
       "    }\n",
       "\n",
       "    .dataframe tbody tr th {\n",
       "        vertical-align: top;\n",
       "    }\n",
       "\n",
       "    .dataframe thead th {\n",
       "        text-align: right;\n",
       "    }\n",
       "</style>\n",
       "<table border=\"1\" class=\"dataframe\">\n",
       "  <thead>\n",
       "    <tr style=\"text-align: right;\">\n",
       "      <th></th>\n",
       "      <th>work_year</th>\n",
       "      <th>experience_level</th>\n",
       "      <th>employment_type</th>\n",
       "      <th>job_title</th>\n",
       "      <th>salary</th>\n",
       "      <th>salary_currency</th>\n",
       "      <th>salary_in_usd</th>\n",
       "      <th>employee_residence</th>\n",
       "      <th>remote_ratio</th>\n",
       "      <th>company_location</th>\n",
       "      <th>company_size</th>\n",
       "    </tr>\n",
       "  </thead>\n",
       "  <tbody>\n",
       "    <tr>\n",
       "      <th>0</th>\n",
       "      <td>2020</td>\n",
       "      <td>MI</td>\n",
       "      <td>FT</td>\n",
       "      <td>Data Scientist</td>\n",
       "      <td>70000</td>\n",
       "      <td>EUR</td>\n",
       "      <td>79833</td>\n",
       "      <td>DE</td>\n",
       "      <td>0</td>\n",
       "      <td>DE</td>\n",
       "      <td>L</td>\n",
       "    </tr>\n",
       "    <tr>\n",
       "      <th>1</th>\n",
       "      <td>2020</td>\n",
       "      <td>SE</td>\n",
       "      <td>FT</td>\n",
       "      <td>Machine Learning Scientist</td>\n",
       "      <td>260000</td>\n",
       "      <td>USD</td>\n",
       "      <td>260000</td>\n",
       "      <td>JP</td>\n",
       "      <td>0</td>\n",
       "      <td>JP</td>\n",
       "      <td>S</td>\n",
       "    </tr>\n",
       "    <tr>\n",
       "      <th>2</th>\n",
       "      <td>2020</td>\n",
       "      <td>SE</td>\n",
       "      <td>FT</td>\n",
       "      <td>Big Data Engineer</td>\n",
       "      <td>85000</td>\n",
       "      <td>GBP</td>\n",
       "      <td>109024</td>\n",
       "      <td>GB</td>\n",
       "      <td>50</td>\n",
       "      <td>GB</td>\n",
       "      <td>M</td>\n",
       "    </tr>\n",
       "    <tr>\n",
       "      <th>3</th>\n",
       "      <td>2020</td>\n",
       "      <td>MI</td>\n",
       "      <td>FT</td>\n",
       "      <td>Product Data Analyst</td>\n",
       "      <td>20000</td>\n",
       "      <td>USD</td>\n",
       "      <td>20000</td>\n",
       "      <td>HN</td>\n",
       "      <td>0</td>\n",
       "      <td>HN</td>\n",
       "      <td>S</td>\n",
       "    </tr>\n",
       "    <tr>\n",
       "      <th>4</th>\n",
       "      <td>2020</td>\n",
       "      <td>SE</td>\n",
       "      <td>FT</td>\n",
       "      <td>Machine Learning Engineer</td>\n",
       "      <td>150000</td>\n",
       "      <td>USD</td>\n",
       "      <td>150000</td>\n",
       "      <td>US</td>\n",
       "      <td>50</td>\n",
       "      <td>US</td>\n",
       "      <td>L</td>\n",
       "    </tr>\n",
       "  </tbody>\n",
       "</table>\n",
       "</div>"
      ],
      "text/plain": [
       "   work_year experience_level employment_type                   job_title  \\\n",
       "0       2020               MI              FT              Data Scientist   \n",
       "1       2020               SE              FT  Machine Learning Scientist   \n",
       "2       2020               SE              FT           Big Data Engineer   \n",
       "3       2020               MI              FT        Product Data Analyst   \n",
       "4       2020               SE              FT   Machine Learning Engineer   \n",
       "\n",
       "   salary salary_currency  salary_in_usd employee_residence  remote_ratio  \\\n",
       "0   70000             EUR          79833                 DE             0   \n",
       "1  260000             USD         260000                 JP             0   \n",
       "2   85000             GBP         109024                 GB            50   \n",
       "3   20000             USD          20000                 HN             0   \n",
       "4  150000             USD         150000                 US            50   \n",
       "\n",
       "  company_location company_size  \n",
       "0               DE            L  \n",
       "1               JP            S  \n",
       "2               GB            M  \n",
       "3               HN            S  \n",
       "4               US            L  "
      ]
     },
     "metadata": {},
     "output_type": "display_data"
    }
   ],
   "source": [
    "# чтение данных\n",
    "data = pd.read_csv(DATA_PATH, index_col=0)\n",
    "display(data.info())\n",
    "display(data.head())"
   ]
  },
  {
   "cell_type": "markdown",
   "id": "d451eb64-d714-4e2d-9b08-4d4c55855e03",
   "metadata": {},
   "source": [
    "Проверим данные на наличие полных дубликатов."
   ]
  },
  {
   "cell_type": "code",
   "execution_count": 3,
   "id": "703b61bb-277c-4c0d-af26-45a7d0fc287b",
   "metadata": {},
   "outputs": [
    {
     "name": "stdout",
     "output_type": "stream",
     "text": [
      "Количество дубликатов: 42\n"
     ]
    }
   ],
   "source": [
    "print('Количество дубликатов: {}'.format(data[data.duplicated()].shape[0]))"
   ]
  },
  {
   "cell_type": "code",
   "execution_count": 4,
   "id": "c7e0e586-4451-4e8a-af48-e51192fa461a",
   "metadata": {},
   "outputs": [
    {
     "data": {
      "text/html": [
       "<div>\n",
       "<style scoped>\n",
       "    .dataframe tbody tr th:only-of-type {\n",
       "        vertical-align: middle;\n",
       "    }\n",
       "\n",
       "    .dataframe tbody tr th {\n",
       "        vertical-align: top;\n",
       "    }\n",
       "\n",
       "    .dataframe thead th {\n",
       "        text-align: right;\n",
       "    }\n",
       "</style>\n",
       "<table border=\"1\" class=\"dataframe\">\n",
       "  <thead>\n",
       "    <tr style=\"text-align: right;\">\n",
       "      <th></th>\n",
       "      <th>work_year</th>\n",
       "      <th>experience_level</th>\n",
       "      <th>employment_type</th>\n",
       "      <th>job_title</th>\n",
       "      <th>salary</th>\n",
       "      <th>salary_currency</th>\n",
       "      <th>salary_in_usd</th>\n",
       "      <th>employee_residence</th>\n",
       "      <th>remote_ratio</th>\n",
       "      <th>company_location</th>\n",
       "      <th>company_size</th>\n",
       "    </tr>\n",
       "  </thead>\n",
       "  <tbody>\n",
       "    <tr>\n",
       "      <th>count</th>\n",
       "      <td>607.0</td>\n",
       "      <td>607</td>\n",
       "      <td>607</td>\n",
       "      <td>607</td>\n",
       "      <td>607.0</td>\n",
       "      <td>607</td>\n",
       "      <td>607.0</td>\n",
       "      <td>607</td>\n",
       "      <td>607.0</td>\n",
       "      <td>607</td>\n",
       "      <td>607</td>\n",
       "    </tr>\n",
       "    <tr>\n",
       "      <th>unique</th>\n",
       "      <td>NaN</td>\n",
       "      <td>4</td>\n",
       "      <td>4</td>\n",
       "      <td>50</td>\n",
       "      <td>NaN</td>\n",
       "      <td>17</td>\n",
       "      <td>NaN</td>\n",
       "      <td>57</td>\n",
       "      <td>NaN</td>\n",
       "      <td>50</td>\n",
       "      <td>3</td>\n",
       "    </tr>\n",
       "    <tr>\n",
       "      <th>top</th>\n",
       "      <td>NaN</td>\n",
       "      <td>SE</td>\n",
       "      <td>FT</td>\n",
       "      <td>Data Scientist</td>\n",
       "      <td>NaN</td>\n",
       "      <td>USD</td>\n",
       "      <td>NaN</td>\n",
       "      <td>US</td>\n",
       "      <td>NaN</td>\n",
       "      <td>US</td>\n",
       "      <td>M</td>\n",
       "    </tr>\n",
       "    <tr>\n",
       "      <th>freq</th>\n",
       "      <td>NaN</td>\n",
       "      <td>280</td>\n",
       "      <td>588</td>\n",
       "      <td>143</td>\n",
       "      <td>NaN</td>\n",
       "      <td>398</td>\n",
       "      <td>NaN</td>\n",
       "      <td>332</td>\n",
       "      <td>NaN</td>\n",
       "      <td>355</td>\n",
       "      <td>326</td>\n",
       "    </tr>\n",
       "    <tr>\n",
       "      <th>mean</th>\n",
       "      <td>2021.0</td>\n",
       "      <td>NaN</td>\n",
       "      <td>NaN</td>\n",
       "      <td>NaN</td>\n",
       "      <td>324000.0</td>\n",
       "      <td>NaN</td>\n",
       "      <td>112298.0</td>\n",
       "      <td>NaN</td>\n",
       "      <td>71.0</td>\n",
       "      <td>NaN</td>\n",
       "      <td>NaN</td>\n",
       "    </tr>\n",
       "    <tr>\n",
       "      <th>std</th>\n",
       "      <td>1.0</td>\n",
       "      <td>NaN</td>\n",
       "      <td>NaN</td>\n",
       "      <td>NaN</td>\n",
       "      <td>1544357.0</td>\n",
       "      <td>NaN</td>\n",
       "      <td>70957.0</td>\n",
       "      <td>NaN</td>\n",
       "      <td>41.0</td>\n",
       "      <td>NaN</td>\n",
       "      <td>NaN</td>\n",
       "    </tr>\n",
       "    <tr>\n",
       "      <th>min</th>\n",
       "      <td>2020.0</td>\n",
       "      <td>NaN</td>\n",
       "      <td>NaN</td>\n",
       "      <td>NaN</td>\n",
       "      <td>4000.0</td>\n",
       "      <td>NaN</td>\n",
       "      <td>2859.0</td>\n",
       "      <td>NaN</td>\n",
       "      <td>0.0</td>\n",
       "      <td>NaN</td>\n",
       "      <td>NaN</td>\n",
       "    </tr>\n",
       "    <tr>\n",
       "      <th>25%</th>\n",
       "      <td>2021.0</td>\n",
       "      <td>NaN</td>\n",
       "      <td>NaN</td>\n",
       "      <td>NaN</td>\n",
       "      <td>70000.0</td>\n",
       "      <td>NaN</td>\n",
       "      <td>62726.0</td>\n",
       "      <td>NaN</td>\n",
       "      <td>50.0</td>\n",
       "      <td>NaN</td>\n",
       "      <td>NaN</td>\n",
       "    </tr>\n",
       "    <tr>\n",
       "      <th>50%</th>\n",
       "      <td>2022.0</td>\n",
       "      <td>NaN</td>\n",
       "      <td>NaN</td>\n",
       "      <td>NaN</td>\n",
       "      <td>115000.0</td>\n",
       "      <td>NaN</td>\n",
       "      <td>101570.0</td>\n",
       "      <td>NaN</td>\n",
       "      <td>100.0</td>\n",
       "      <td>NaN</td>\n",
       "      <td>NaN</td>\n",
       "    </tr>\n",
       "    <tr>\n",
       "      <th>75%</th>\n",
       "      <td>2022.0</td>\n",
       "      <td>NaN</td>\n",
       "      <td>NaN</td>\n",
       "      <td>NaN</td>\n",
       "      <td>165000.0</td>\n",
       "      <td>NaN</td>\n",
       "      <td>150000.0</td>\n",
       "      <td>NaN</td>\n",
       "      <td>100.0</td>\n",
       "      <td>NaN</td>\n",
       "      <td>NaN</td>\n",
       "    </tr>\n",
       "    <tr>\n",
       "      <th>max</th>\n",
       "      <td>2022.0</td>\n",
       "      <td>NaN</td>\n",
       "      <td>NaN</td>\n",
       "      <td>NaN</td>\n",
       "      <td>30400000.0</td>\n",
       "      <td>NaN</td>\n",
       "      <td>600000.0</td>\n",
       "      <td>NaN</td>\n",
       "      <td>100.0</td>\n",
       "      <td>NaN</td>\n",
       "      <td>NaN</td>\n",
       "    </tr>\n",
       "  </tbody>\n",
       "</table>\n",
       "</div>"
      ],
      "text/plain": [
       "        work_year experience_level employment_type       job_title  \\\n",
       "count       607.0              607             607             607   \n",
       "unique        NaN                4               4              50   \n",
       "top           NaN               SE              FT  Data Scientist   \n",
       "freq          NaN              280             588             143   \n",
       "mean       2021.0              NaN             NaN             NaN   \n",
       "std           1.0              NaN             NaN             NaN   \n",
       "min        2020.0              NaN             NaN             NaN   \n",
       "25%        2021.0              NaN             NaN             NaN   \n",
       "50%        2022.0              NaN             NaN             NaN   \n",
       "75%        2022.0              NaN             NaN             NaN   \n",
       "max        2022.0              NaN             NaN             NaN   \n",
       "\n",
       "            salary salary_currency  salary_in_usd employee_residence  \\\n",
       "count        607.0             607          607.0                607   \n",
       "unique         NaN              17            NaN                 57   \n",
       "top            NaN             USD            NaN                 US   \n",
       "freq           NaN             398            NaN                332   \n",
       "mean      324000.0             NaN       112298.0                NaN   \n",
       "std      1544357.0             NaN        70957.0                NaN   \n",
       "min         4000.0             NaN         2859.0                NaN   \n",
       "25%        70000.0             NaN        62726.0                NaN   \n",
       "50%       115000.0             NaN       101570.0                NaN   \n",
       "75%       165000.0             NaN       150000.0                NaN   \n",
       "max     30400000.0             NaN       600000.0                NaN   \n",
       "\n",
       "        remote_ratio company_location company_size  \n",
       "count          607.0              607          607  \n",
       "unique           NaN               50            3  \n",
       "top              NaN               US            M  \n",
       "freq             NaN              355          326  \n",
       "mean            71.0              NaN          NaN  \n",
       "std             41.0              NaN          NaN  \n",
       "min              0.0              NaN          NaN  \n",
       "25%             50.0              NaN          NaN  \n",
       "50%            100.0              NaN          NaN  \n",
       "75%            100.0              NaN          NaN  \n",
       "max            100.0              NaN          NaN  "
      ]
     },
     "metadata": {},
     "output_type": "display_data"
    }
   ],
   "source": [
    "# Выведем основную статистическую информацию о столбцах.\n",
    "display(data.describe(include='all').round())"
   ]
  },
  {
   "cell_type": "markdown",
   "id": "f1ad2b24-c26a-4b90-90ba-b39351de2db8",
   "metadata": {},
   "source": [
    "В датасете, 607 записей без пропусков.  \n",
    "Присутствуют дубликаты в кол-ве 42 штук. \n",
    "Некоторые признаки, для удобства восприятия, требуют некоторой предобработки.  \n",
    "Большая часть признаков является котегориальными. "
   ]
  },
  {
   "cell_type": "markdown",
   "id": "48cd36dc-edf7-435d-b888-9b88da3e21d2",
   "metadata": {},
   "source": [
    "## Преобразование данных  \n",
    "[❎ **К ОГЛАВЛЕНИЮ**](#ОГЛАВЛЕНИЕ)"
   ]
  },
  {
   "cell_type": "markdown",
   "id": "227eb907-7339-4557-acfb-36fb0209ab57",
   "metadata": {},
   "source": [
    "Стоит удалить признаки `salary` и `salary_currency` так как в датасете имеется более информативный признак `salary_in_usd`, позволяющий сравнить между собой уровни ЗП получаемый в разных странах."
   ]
  },
  {
   "cell_type": "code",
   "execution_count": 5,
   "id": "00328b3b-c289-4e10-b9b1-4e66b217d497",
   "metadata": {},
   "outputs": [
    {
     "name": "stdout",
     "output_type": "stream",
     "text": [
      "Размер таблицы после удаления дубликатов: (565, 9)\n"
     ]
    }
   ],
   "source": [
    "# удалим не нужные признаки и дубликаты\n",
    "data.drop(columns=['salary', 'salary_currency'], inplace=True)\n",
    "data.drop_duplicates(inplace=True)\n",
    "print('Размер таблицы после удаления дубликатов: {}'.format(data.shape))"
   ]
  },
  {
   "cell_type": "markdown",
   "id": "1f85ead7-48e3-4636-9469-89fae1e0de25",
   "metadata": {},
   "source": [
    "Из оставшихся признаков числовым(непрерывным) является только признак `salary_in_usd`, а оставшиеся с типом данным `int64` (`work_year` и `remote_ratio`), ввиду малочисленности уникальных значений, стоит рассматривать как категориальные. "
   ]
  },
  {
   "cell_type": "code",
   "execution_count": 6,
   "id": "8b1a5935-b17f-4d64-be2e-13c8211abb30",
   "metadata": {},
   "outputs": [],
   "source": [
    "# привести `work_year` и `remote_ratio` к типу данных `object`\n",
    "new_types = {\n",
    "    'work_year': 'object',\n",
    "    'remote_ratio': 'object'\n",
    "}\n",
    "data = data.astype(new_types)"
   ]
  },
  {
   "cell_type": "markdown",
   "id": "34e463e9-4f4d-4a1f-a42f-82beb2d07a4a",
   "metadata": {},
   "source": [
    "### признак job_title  \n",
    "*Роль, в которой соискатель работал в течение года.*"
   ]
  },
  {
   "cell_type": "markdown",
   "id": "9473a388-0803-4218-be78-fdc975729b81",
   "metadata": {},
   "source": [
    "Посмотрим на уникальные значения признака"
   ]
  },
  {
   "cell_type": "code",
   "execution_count": 7,
   "id": "3457145b-146d-4ce1-b594-90e2dab06b88",
   "metadata": {},
   "outputs": [
    {
     "name": "stdout",
     "output_type": "stream",
     "text": [
      "Кол-во уникальных значений: 50\n",
      "['3D Computer Vision Researcher',\n",
      " 'AI Scientist',\n",
      " 'Analytics Engineer',\n",
      " 'Applied Data Scientist',\n",
      " 'Applied Machine Learning Scientist',\n",
      " 'BI Data Analyst',\n",
      " 'Big Data Architect',\n",
      " 'Big Data Engineer',\n",
      " 'Business Data Analyst',\n",
      " 'Cloud Data Engineer',\n",
      " 'Computer Vision Engineer',\n",
      " 'Computer Vision Software Engineer',\n",
      " 'Data Analyst',\n",
      " 'Data Analytics Engineer',\n",
      " 'Data Analytics Lead',\n",
      " 'Data Analytics Manager',\n",
      " 'Data Architect',\n",
      " 'Data Engineer',\n",
      " 'Data Engineering Manager',\n",
      " 'Data Science Consultant',\n",
      " 'Data Science Engineer',\n",
      " 'Data Science Manager',\n",
      " 'Data Scientist',\n",
      " 'Data Specialist',\n",
      " 'Director of Data Engineering',\n",
      " 'Director of Data Science',\n",
      " 'ETL Developer',\n",
      " 'Finance Data Analyst',\n",
      " 'Financial Data Analyst',\n",
      " 'Head of Data',\n",
      " 'Head of Data Science',\n",
      " 'Head of Machine Learning',\n",
      " 'Lead Data Analyst',\n",
      " 'Lead Data Engineer',\n",
      " 'Lead Data Scientist',\n",
      " 'Lead Machine Learning Engineer',\n",
      " 'ML Engineer',\n",
      " 'Machine Learning Developer',\n",
      " 'Machine Learning Engineer',\n",
      " 'Machine Learning Infrastructure Engineer',\n",
      " 'Machine Learning Manager',\n",
      " 'Machine Learning Scientist',\n",
      " 'Marketing Data Analyst',\n",
      " 'NLP Engineer',\n",
      " 'Principal Data Analyst',\n",
      " 'Principal Data Engineer',\n",
      " 'Principal Data Scientist',\n",
      " 'Product Data Analyst',\n",
      " 'Research Scientist',\n",
      " 'Staff Data Scientist']\n"
     ]
    }
   ],
   "source": [
    "print(f\"Кол-во уникальных значений: {data.job_title.nunique()}\")\n",
    "pprint(sorted(data.job_title.unique().tolist()))"
   ]
  },
  {
   "cell_type": "markdown",
   "id": "70ed90ae-c6b8-4965-bc3b-ebd3c9edcf03",
   "metadata": {},
   "source": [
    "Кол-во уникальных значений чрезмерно велико, при этом из данных видно, что часть ролей имеет одинаковое по смыслу значение, но различное написание, например:  \n",
    "- `Big Data Engineer`, `Lead Data Engineer`, `Data Engineer`, `Cloud Data Engineer`, `Principal Data Engineer`, `Data Science Engineer` можно обобщить как `Data Engineer`\n",
    "- `Data Scientist`, `Data Science Consultant`,  `Lead Data Scientist`, `Principal Data Scientist`, `Applied Data Scientist`, `Data Specialist`  можно обобщить как `Data Scientist`\n",
    "- `Machine Learning Scientist`, `Machine Learning Engineer`, `ML Engineer`, `Applied Machine Learning Scientist`, `Machine Learning Developer`, `Machine Learning Infrastructure Engineer`, `Lead Machine Learning Engineer`, `Head of Machine Learning` можно обобщить как `Machine Learning Engineer`\n",
    "- `Data Analyst`, `Analytics Engineer`, `Data Analytics Engineer`, `Lead Data Analyst`, `Principal Data Analyst`, `Product Data Analyst`, `Finance Data Analyst`, `Marketing Data Analyst`, `Data Analytics Lead` можно обобщить как `Data Analyst`\n",
    "- `Computer Vision Engineer`, `Computer Vision Software Engineer` можно обобщить как `Computer Vision Engineer`\n",
    "- `Data Architect`, `Big Data Architect` обобщить как `Data Architect`\n",
    "\n",
    "Так же допустим, что такие роли как `Director of Data Science`, `Head of Data Science` или `Data Science Manager`, `Head of Data` имеют приставку в роли типа `Director of` или `Head of`, что говорит об уровне ответственности сотрудника. Этот факт так же отражен в признаке `experience_level`. Поэтому, может привести подобные записи к общему значению `Data Scientist`.   \n",
    "\n",
    "Так как должность `AI Scientist` обычно относится к роли `Data Scientist`, поскольку она связана с исследованием и разработкой алгоритмов и моделей искусственного интеллекта, то приведем это значение к `Data Scientist`.\n",
    "\n",
    "Приведем роли к стандартизированным значениям."
   ]
  },
  {
   "cell_type": "code",
   "execution_count": 8,
   "id": "542af5b3-de0f-43ca-972d-68f209509623",
   "metadata": {},
   "outputs": [],
   "source": [
    "def standardize_job_titles(title):\n",
    "    \"\"\"\n",
    "    На входе строка - название роли\n",
    "\n",
    "    Возвращает стандартизированное название\n",
    "    \"\"\"\n",
    "    if ('Data' in title and 'Engineer' in title) or \\\n",
    "       ('Data' in title and 'Manager' in title) or \\\n",
    "       ('Data Engineering' in title and 'Director of' in title):\n",
    "        return 'Data Engineer'\n",
    "    elif ('Data' in title and 'Scientist' in title) or \\\n",
    "         ('AI' in title and 'Scientist' in title) or \\\n",
    "         ('Data Science' in title and 'Consultant' in title) or \\\n",
    "         ('Data' in title and 'Specialist' in title) or \\\n",
    "         ('Data' in title and 'Director of' in title) or \\\n",
    "         ('Data' in title and 'Head of' in title):\n",
    "        return 'Data Scientist'\n",
    "    elif 'Machine Learning' in title or 'ML' in title:\n",
    "        return 'ML Engineer'\n",
    "    elif 'Data Analyst' in title or 'Analytics' in title:\n",
    "        return 'Data Analyst'\n",
    "    elif 'Computer Vision' in title or '':\n",
    "        return 'CV Engineer'\n",
    "    elif 'Data Architect' in title:\n",
    "        return 'Data Architect'\n",
    "\n",
    "    # для остальных случаев\n",
    "    return title\n",
    "\n",
    "\n",
    "data['job_title'] = data.job_title.apply(standardize_job_titles)\n",
    "    "
   ]
  },
  {
   "cell_type": "markdown",
   "id": "bc5e2efd-61c3-4b83-ace2-855187e9ec19",
   "metadata": {},
   "source": [
    "### признак employee_residence  \n",
    "*Основная страна проживания сотрудника*  \n",
    "\n",
    "Значения признака приведены в виде кода страны ISO 3166.  \n",
    "Для лучшего понимание стоит, перевести их в более удобный вид."
   ]
  },
  {
   "cell_type": "code",
   "execution_count": 9,
   "id": "8435e8bf-7413-476f-a5b5-4a3ec99fc8ec",
   "metadata": {},
   "outputs": [],
   "source": [
    "cc = country_converter.CountryConverter()\n",
    "data['employee_residence'] = cc.convert(data['employee_residence'], to='name_short')"
   ]
  },
  {
   "cell_type": "markdown",
   "id": "4d068951-c176-43f2-86e5-ad2b8139faf6",
   "metadata": {},
   "source": [
    "### признак company_location  \n",
    "*Страна главного офиса работодателя*  \n",
    "\n",
    "Значения признака приведены в виде кода страны ISO 3166.  \n",
    "Для лучшего понимание стоит, перевести их в более удобный вид."
   ]
  },
  {
   "cell_type": "code",
   "execution_count": 10,
   "id": "25d6801e-8e4a-4440-b82b-57cfb534e22c",
   "metadata": {},
   "outputs": [],
   "source": [
    "data['company_location'] = cc.convert(data['company_location'], to='name_short')"
   ]
  },
  {
   "cell_type": "markdown",
   "id": "5c35aeaa-e62c-4932-89c9-0eb0234e6b09",
   "metadata": {},
   "source": [
    "## Разведывательный анализ - EDA\n",
    "[❎ **К ОГЛАВЛЕНИЮ**](#ОГЛАВЛЕНИЕ)"
   ]
  },
  {
   "cell_type": "code",
   "execution_count": 11,
   "id": "6861b3f5-bdff-40c9-8f85-2d15423b7428",
   "metadata": {},
   "outputs": [],
   "source": [
    "# вспомогательная функция для отображения пропорции от общего\n",
    "def show_percentage_of_total(row):\n",
    "    \"\"\"\n",
    "    \"\"\"\n",
    "    counts = row.value_counts()\n",
    "    proportion = np.round(row.value_counts(normalize=True)*100, 2)\n",
    "    counts_sorted = counts.sort_values(ascending=False)\n",
    "    \n",
    "    data = pd.DataFrame(data={'count': counts.values,\n",
    "                                    'proportion': proportion.values,\n",
    "                                   }, \n",
    "                              index=counts.index\n",
    "                             )\n",
    "    display(data)\n",
    "\n",
    "# Вспомогательная функция для визуализации \n",
    "def show_categorical_metrics(row, name='None', figsize=(8, 4)):\n",
    "    \"\"\"\n",
    "    _summary_\n",
    "\n",
    "    Args:\n",
    "        row (_type_): _description_\n",
    "        name (str, optional): _description_. Defaults to 'None'.\n",
    "        figsize (tuple, optional): _description_. Defaults to (8, 4).\n",
    "    \n",
    "    \"\"\"\n",
    "    counts = row.value_counts()\n",
    "    # proportion = np.round(feature.value_counts(normalize=True)*100, 2)\n",
    "    counts_sorted = counts.sort_values(ascending=False)\n",
    "    \n",
    "    # visualization\n",
    "    fig = plt.figure(figsize=figsize)\n",
    "    ax = fig.add_axes((1, 1, 1, 1))\n",
    "    \n",
    "    pie = ax.pie(\n",
    "        counts_sorted,\n",
    "        labels=counts_sorted.index,\n",
    "        autopct='%1.1f%%',\n",
    "        startangle=90\n",
    "    )\n",
    "    title = ax.set_title(f'Признак: {name}', fontsize=16)\n",
    "    plt.show(pie)\n",
    "    \n",
    "    show_percentage_of_total(row)\n",
    "\n",
    "    # feature_data = pd.DataFrame(data={'count': counts.values,\n",
    "    #                                 'proportion': proportion.values,\n",
    "    #                                }, \n",
    "    #                           index=counts.index\n",
    "    #                          )\n",
    "    # display(feature_data)\n",
    "\n",
    "\n",
    "# функция для построения многоуровневой столбчатой диаграммы\n",
    "def barplot_categorical_feature(row, title, xlabel, ylabel):\n",
    "    \"\"\"\n",
    "    Description....\n",
    "    \"\"\"\n",
    "    obj_counted = row.value_counts()\n",
    "    # отобразим только первые 10 \n",
    "    if len(obj_counted.index) > 10:\n",
    "        obj_counted = obj_counted[:10]\n",
    "        \n",
    "    plt.figure(figsize=(10,6))\n",
    "    sns.barplot(y=obj_counted.index,\n",
    "                x=obj_counted.values,\n",
    "                palette=sns.cubehelix_palette(start=.5, rot=-.75))\n",
    "    \n",
    "    for index, value in enumerate(obj_counted.values):\n",
    "        plt.text(value, index, str(value))\n",
    "\n",
    "    # добавим названия \n",
    "    plt.title(title,fontdict={'fontsize':14,'fontweight':'bold'})\n",
    "    plt.xlabel(xlabel)\n",
    "    plt.ylabel(ylabel)\n",
    "    plt.show()\n",
    "    \n",
    "    # show top 10 by proportion\n",
    "    show_percentage_of_total(row)\n",
    "    \n",
    "    # counts = obj_series.value_counts()\n",
    "    # proportion = np.round(obj_series.value_counts(normalize=True)*100, 2)\n",
    "    # feature_data = pd.DataFrame(data={'count': counts.values,\n",
    "    #                                 'proportion': proportion.values,\n",
    "    #                                }, \n",
    "    #                           index=counts.index\n",
    "    #                          )\n",
    "    # display(feature_data)\n",
    "\n",
    "\n",
    "# функция для поиска выбросов и очистки от них набора данных\n",
    "def outliers_iqr_mod(data, feature, left=1.5, right=1.5):\n",
    "    x = data[feature]\n",
    "    quartile_1, quartile_3 = x.quantile(0.25), x.quantile(0.75),\n",
    "    iqr = quartile_3 - quartile_1\n",
    "    lower_bound = quartile_1 - (iqr * left)\n",
    "    upper_bound = quartile_3 + (iqr * right)\n",
    "    outliers = data[(x < lower_bound) | (x > upper_bound)]\n",
    "    cleaned = data[(x >= lower_bound) & (x <= upper_bound)]\n",
    "    \n",
    "    return outliers, cleaned\n",
    "\n",
    "\n",
    "# функция для принятия решения о нормальности\n",
    "def decision_normality(p, alpha=0.05):\n",
    "    print('p-value = {:.3f}'.format(p))\n",
    "    if p <= alpha:\n",
    "        print('p-значение меньше, чем заданный уровень значимости {:.2f}. Распределение отлично от нормального'.format(alpha))\n",
    "    else:\n",
    "        print('p-значение больше, чем заданный уровень значимости {:.2f}. Распределение является нормальным'.format(alpha))\n",
    "\n",
    "\n",
    "# функция для принятия решения об отклонении нулевой гипотезы\n",
    "def decision_hypothesis(p, alpha=0.05):\n",
    "    print('p-value = {:.3f}'.format(p))\n",
    "    if p <= alpha:\n",
    "        print('p-значение меньше, чем заданный уровень значимости {:.2f}. Отвергаем нулевую гипотезу в пользу альтернативной.'.format(alpha))\n",
    "    else:\n",
    "        print('p-значение больше, чем заданный уровень значимости {:.2f}. У нас нет оснований отвергнуть нулевую гипотезу.'.format(alpha))\n",
    "\n",
    "\n",
    "# функция для проверки на нормальность распределения\n",
    "def shapiro_distribution_tests(data_pairs, alpha=0.05):\n",
    "    \"\"\"\n",
    "    data_pairs - список из пар объектов: \n",
    "        pd.Series (распределение признака), \n",
    "        str (название распределения)\n",
    "    \"\"\"\n",
    "    for distribution, title in data_pairs:\n",
    "        print(f\"{title}:\")\n",
    "        # проверка на минимальное кол-во сэмплов (требуется минимум 3)\n",
    "        if distribution.shape[0] <= 3:\n",
    "            print('Не достаточно сэмплов для теста Шапиро-Уилка!\\n')\n",
    "            continue\n",
    "            \n",
    "        # тест Шапиро-Уилка\n",
    "        _, p = stats.shapiro(distribution)\n",
    "        decision_normality(p, alpha)\n",
    "        print('_'*18, '\\n')\n",
    "\n",
    "\n",
    "#  функция для проверки равенства дисперсий - тест Левена \n",
    "def levene_test(seq_1, seq_2, alpha=0.05):\n",
    "    print('Тест на равенство дисперсий')\n",
    "    _, p = stats.levene(seq_1, seq_2)\n",
    "    print('p-value = {:.3f}'.format(p))\n",
    "\n",
    "    # интерпретируем результат\n",
    "    if p <= alpha:\n",
    "        print('Дисперсии не одинаковы, в stats.ttest_ind используем параметр equal_var=False.')\n",
    "    else:\n",
    "        print('Дисперсии одинаковы, в stats.ttest_ind используем параметр equal_var=True.')\n",
    "\n",
    "    return p > alpha\n",
    "\n",
    "\n",
    "#  тест Левена на равенство дисперсий\n",
    "def levene_test(seq_1, seq_2, alpha=0.05):\n",
    "    print('Тест на равенство дисперсий')\n",
    "    _, p = stats.levene(salary_ds, salary_de)\n",
    "    print('p-value = {:.3f}'.format(p))\n",
    "\n",
    "    # интерпретируем результат\n",
    "    if p <= alpha:\n",
    "        print('Дисперсии не одинаковы, в stats.ttest_ind используем параметр equal_var=False.')\n",
    "    else:\n",
    "        print('Дисперсии одинаковы, в stats.ttest_ind используем параметр equal_var=True.')\n",
    "\n",
    "    return p > alpha\n",
    "\n",
    "\n",
    "# функция для визуализации распределения колличественных признаков\n",
    "def draw_histplot_with_boxplot(data, title, xlabel, ylabel):\n",
    "    \"\"\"\n",
    "    Нарисуем гистограмму и коробчатую диаграмму  \n",
    "    распределения количественного признака.\n",
    "    \"\"\"\n",
    "    fig, axes = plt.subplots(1, 2, figsize=(15, 5))\n",
    "\n",
    "    sns.histplot(data, kde=True, ax=axes[0])\n",
    "    axes[0].set(xlabel=xlabel, ylabel=ylabel)\n",
    "    axes[0].set_title(title)\n",
    "    axes[0].axvline(data.mean(), color='red', linestyle='--', linewidth=0.8)\n",
    "    \n",
    "    sns.boxplot(data, ax=axes[1], orient='h', medianprops={\"color\": \"red\", \"linestyle\": '--'})\n",
    "    axes[1].set(xlabel=xlabel)\n",
    "    axes[1].set_title(title)\n",
    "    \n",
    "    plt.show()"
   ]
  },
  {
   "cell_type": "markdown",
   "id": "6c4ed719-d89d-441a-9a5f-1e135cfcad95",
   "metadata": {},
   "source": [
    "### признак salary_in_usd  \n",
    "*Зарплата в долларах США*"
   ]
  },
  {
   "cell_type": "code",
   "execution_count": 12,
   "id": "3bea4125-67d3-4d2d-ad3d-679090dee5aa",
   "metadata": {},
   "outputs": [
    {
     "name": "stderr",
     "output_type": "stream",
     "text": [
      "/opt/anaconda3/envs/python3_12/lib/python3.12/site-packages/seaborn/_oldcore.py:1119: FutureWarning: use_inf_as_na option is deprecated and will be removed in a future version. Convert inf values to NaN before operating instead.\n",
      "  with pd.option_context('mode.use_inf_as_na', True):\n"
     ]
    },
    {
     "data": {
      "image/png": "[encoded data removed]",
      "text/plain": [
       "<Figure size 1500x500 with 2 Axes>"
      ]
     },
     "metadata": {},
     "output_type": "display_data"
    }
   ],
   "source": [
    "draw_histplot_with_boxplot(data['salary_in_usd'], \n",
    "                           'Распределение заработных плат для всех сотрудников', \n",
    "                           'Размер заработных плат', \n",
    "                           'Частота')"
   ]
  },
  {
   "cell_type": "code",
   "execution_count": 13,
   "id": "a047563d-a6cd-4cc8-af88-89e364dd8d21",
   "metadata": {},
   "outputs": [
    {
     "data": {
      "text/html": [
       "<div>\n",
       "<style scoped>\n",
       "    .dataframe tbody tr th:only-of-type {\n",
       "        vertical-align: middle;\n",
       "    }\n",
       "\n",
       "    .dataframe tbody tr th {\n",
       "        vertical-align: top;\n",
       "    }\n",
       "\n",
       "    .dataframe thead th {\n",
       "        text-align: right;\n",
       "    }\n",
       "</style>\n",
       "<table border=\"1\" class=\"dataframe\">\n",
       "  <thead>\n",
       "    <tr style=\"text-align: right;\">\n",
       "      <th></th>\n",
       "      <th>salary_in_usd</th>\n",
       "    </tr>\n",
       "  </thead>\n",
       "  <tbody>\n",
       "    <tr>\n",
       "      <th>count</th>\n",
       "      <td>565.00</td>\n",
       "    </tr>\n",
       "    <tr>\n",
       "      <th>mean</th>\n",
       "      <td>110610.34</td>\n",
       "    </tr>\n",
       "    <tr>\n",
       "      <th>std</th>\n",
       "      <td>72280.70</td>\n",
       "    </tr>\n",
       "    <tr>\n",
       "      <th>min</th>\n",
       "      <td>2859.00</td>\n",
       "    </tr>\n",
       "    <tr>\n",
       "      <th>25%</th>\n",
       "      <td>60757.00</td>\n",
       "    </tr>\n",
       "    <tr>\n",
       "      <th>50%</th>\n",
       "      <td>100000.00</td>\n",
       "    </tr>\n",
       "    <tr>\n",
       "      <th>75%</th>\n",
       "      <td>150000.00</td>\n",
       "    </tr>\n",
       "    <tr>\n",
       "      <th>max</th>\n",
       "      <td>600000.00</td>\n",
       "    </tr>\n",
       "  </tbody>\n",
       "</table>\n",
       "</div>"
      ],
      "text/plain": [
       "       salary_in_usd\n",
       "count         565.00\n",
       "mean       110610.34\n",
       "std         72280.70\n",
       "min          2859.00\n",
       "25%         60757.00\n",
       "50%        100000.00\n",
       "75%        150000.00\n",
       "max        600000.00"
      ]
     },
     "execution_count": 13,
     "metadata": {},
     "output_type": "execute_result"
    }
   ],
   "source": [
    "data_agg = data['salary_in_usd'].describe().round(2).to_frame()\n",
    "data_agg"
   ]
  },
  {
   "cell_type": "markdown",
   "id": "042c65d7-a87d-4e23-9de4-e66027cabb05",
   "metadata": {},
   "source": [
    "Распределение заработных плат отлично от нормального, имеются выбросы.  "
   ]
  },
  {
   "cell_type": "markdown",
   "id": "d839f44f-6c7f-43da-920d-16f47261a31c",
   "metadata": {},
   "source": [
    "Посмотрим на распределение логарифмированного признака salary."
   ]
  },
  {
   "cell_type": "code",
   "execution_count": 14,
   "id": "25a5727b-cfde-4c6e-a3d3-ec11f739bcb1",
   "metadata": {},
   "outputs": [
    {
     "name": "stderr",
     "output_type": "stream",
     "text": [
      "/opt/anaconda3/envs/python3_12/lib/python3.12/site-packages/seaborn/_oldcore.py:1119: FutureWarning: use_inf_as_na option is deprecated and will be removed in a future version. Convert inf values to NaN before operating instead.\n",
      "  with pd.option_context('mode.use_inf_as_na', True):\n"
     ]
    },
    {
     "data": {
      "image/png": "[encoded data removed]",
      "text/plain": [
       "<Figure size 1500x500 with 2 Axes>"
      ]
     },
     "metadata": {},
     "output_type": "display_data"
    }
   ],
   "source": [
    "data['salary_log'] = np.log(data['salary_in_usd'])\n",
    "\n",
    "draw_histplot_with_boxplot(data['salary_log'],\n",
    "                           title='Распределение заработных плат для всех сотрудников log',\n",
    "                           xlabel='Размер заработных плат, $', \n",
    "                           ylabel='Частота')"
   ]
  },
  {
   "cell_type": "markdown",
   "id": "b76ee3a9-1208-4945-8277-976251e9ddab",
   "metadata": {},
   "source": [
    "Логарифмированное распределение так же не похоже на нормальное, но имеет уже левый хвост.  \n",
    "Удалим salary_log"
   ]
  },
  {
   "cell_type": "code",
   "execution_count": 15,
   "id": "a3e7390f-dfbb-4774-adf4-6e9a8a020f3a",
   "metadata": {},
   "outputs": [],
   "source": [
    "data.drop(columns='salary_log', inplace=True)"
   ]
  },
  {
   "cell_type": "markdown",
   "id": "b730254f-ec27-4621-835a-540e8c7ab321",
   "metadata": {},
   "source": [
    "Проверим на кол-во выбросов"
   ]
  },
  {
   "cell_type": "code",
   "execution_count": 16,
   "id": "c0184f2e-347d-4033-b8a0-75ada2a18ee5",
   "metadata": {},
   "outputs": [
    {
     "name": "stdout",
     "output_type": "stream",
     "text": [
      "Outliers count: 10\n"
     ]
    }
   ],
   "source": [
    "outliers, cleaned = outliers_iqr_mod(data, 'salary_in_usd')\n",
    "\n",
    "print(f\"Outliers count: {outliers.shape[0]}\")"
   ]
  },
  {
   "cell_type": "code",
   "execution_count": 17,
   "id": "a22502e3-911a-46a2-9eff-a3a3102395b6",
   "metadata": {},
   "outputs": [
    {
     "data": {
      "text/html": [
       "<div>\n",
       "<style scoped>\n",
       "    .dataframe tbody tr th:only-of-type {\n",
       "        vertical-align: middle;\n",
       "    }\n",
       "\n",
       "    .dataframe tbody tr th {\n",
       "        vertical-align: top;\n",
       "    }\n",
       "\n",
       "    .dataframe thead th {\n",
       "        text-align: right;\n",
       "    }\n",
       "</style>\n",
       "<table border=\"1\" class=\"dataframe\">\n",
       "  <thead>\n",
       "    <tr style=\"text-align: right;\">\n",
       "      <th></th>\n",
       "      <th>work_year</th>\n",
       "      <th>experience_level</th>\n",
       "      <th>employment_type</th>\n",
       "      <th>job_title</th>\n",
       "      <th>salary_in_usd</th>\n",
       "      <th>employee_residence</th>\n",
       "      <th>remote_ratio</th>\n",
       "      <th>company_location</th>\n",
       "      <th>company_size</th>\n",
       "    </tr>\n",
       "  </thead>\n",
       "  <tbody>\n",
       "    <tr>\n",
       "      <th>25</th>\n",
       "      <td>2020</td>\n",
       "      <td>EX</td>\n",
       "      <td>FT</td>\n",
       "      <td>Data Scientist</td>\n",
       "      <td>325000</td>\n",
       "      <td>United States</td>\n",
       "      <td>100</td>\n",
       "      <td>United States</td>\n",
       "      <td>L</td>\n",
       "    </tr>\n",
       "    <tr>\n",
       "      <th>33</th>\n",
       "      <td>2020</td>\n",
       "      <td>MI</td>\n",
       "      <td>FT</td>\n",
       "      <td>Research Scientist</td>\n",
       "      <td>450000</td>\n",
       "      <td>United States</td>\n",
       "      <td>0</td>\n",
       "      <td>United States</td>\n",
       "      <td>M</td>\n",
       "    </tr>\n",
       "    <tr>\n",
       "      <th>63</th>\n",
       "      <td>2020</td>\n",
       "      <td>SE</td>\n",
       "      <td>FT</td>\n",
       "      <td>Data Scientist</td>\n",
       "      <td>412000</td>\n",
       "      <td>United States</td>\n",
       "      <td>100</td>\n",
       "      <td>United States</td>\n",
       "      <td>L</td>\n",
       "    </tr>\n",
       "    <tr>\n",
       "      <th>97</th>\n",
       "      <td>2021</td>\n",
       "      <td>MI</td>\n",
       "      <td>FT</td>\n",
       "      <td>Data Analyst</td>\n",
       "      <td>450000</td>\n",
       "      <td>United States</td>\n",
       "      <td>100</td>\n",
       "      <td>United States</td>\n",
       "      <td>L</td>\n",
       "    </tr>\n",
       "    <tr>\n",
       "      <th>157</th>\n",
       "      <td>2021</td>\n",
       "      <td>MI</td>\n",
       "      <td>FT</td>\n",
       "      <td>ML Engineer</td>\n",
       "      <td>423000</td>\n",
       "      <td>United States</td>\n",
       "      <td>50</td>\n",
       "      <td>United States</td>\n",
       "      <td>L</td>\n",
       "    </tr>\n",
       "    <tr>\n",
       "      <th>225</th>\n",
       "      <td>2021</td>\n",
       "      <td>EX</td>\n",
       "      <td>CT</td>\n",
       "      <td>Data Scientist</td>\n",
       "      <td>416000</td>\n",
       "      <td>United States</td>\n",
       "      <td>100</td>\n",
       "      <td>United States</td>\n",
       "      <td>S</td>\n",
       "    </tr>\n",
       "    <tr>\n",
       "      <th>252</th>\n",
       "      <td>2021</td>\n",
       "      <td>EX</td>\n",
       "      <td>FT</td>\n",
       "      <td>Data Engineer</td>\n",
       "      <td>600000</td>\n",
       "      <td>United States</td>\n",
       "      <td>100</td>\n",
       "      <td>United States</td>\n",
       "      <td>L</td>\n",
       "    </tr>\n",
       "    <tr>\n",
       "      <th>482</th>\n",
       "      <td>2022</td>\n",
       "      <td>EX</td>\n",
       "      <td>FT</td>\n",
       "      <td>Data Engineer</td>\n",
       "      <td>324000</td>\n",
       "      <td>United States</td>\n",
       "      <td>100</td>\n",
       "      <td>United States</td>\n",
       "      <td>M</td>\n",
       "    </tr>\n",
       "    <tr>\n",
       "      <th>519</th>\n",
       "      <td>2022</td>\n",
       "      <td>SE</td>\n",
       "      <td>FT</td>\n",
       "      <td>Data Scientist</td>\n",
       "      <td>380000</td>\n",
       "      <td>United States</td>\n",
       "      <td>100</td>\n",
       "      <td>United States</td>\n",
       "      <td>L</td>\n",
       "    </tr>\n",
       "    <tr>\n",
       "      <th>523</th>\n",
       "      <td>2022</td>\n",
       "      <td>SE</td>\n",
       "      <td>FT</td>\n",
       "      <td>Data Analyst</td>\n",
       "      <td>405000</td>\n",
       "      <td>United States</td>\n",
       "      <td>100</td>\n",
       "      <td>United States</td>\n",
       "      <td>L</td>\n",
       "    </tr>\n",
       "  </tbody>\n",
       "</table>\n",
       "</div>"
      ],
      "text/plain": [
       "    work_year experience_level employment_type           job_title  \\\n",
       "25       2020               EX              FT      Data Scientist   \n",
       "33       2020               MI              FT  Research Scientist   \n",
       "63       2020               SE              FT      Data Scientist   \n",
       "97       2021               MI              FT        Data Analyst   \n",
       "157      2021               MI              FT         ML Engineer   \n",
       "225      2021               EX              CT      Data Scientist   \n",
       "252      2021               EX              FT       Data Engineer   \n",
       "482      2022               EX              FT       Data Engineer   \n",
       "519      2022               SE              FT      Data Scientist   \n",
       "523      2022               SE              FT        Data Analyst   \n",
       "\n",
       "     salary_in_usd employee_residence remote_ratio company_location  \\\n",
       "25          325000      United States          100    United States   \n",
       "33          450000      United States            0    United States   \n",
       "63          412000      United States          100    United States   \n",
       "97          450000      United States          100    United States   \n",
       "157         423000      United States           50    United States   \n",
       "225         416000      United States          100    United States   \n",
       "252         600000      United States          100    United States   \n",
       "482         324000      United States          100    United States   \n",
       "519         380000      United States          100    United States   \n",
       "523         405000      United States          100    United States   \n",
       "\n",
       "    company_size  \n",
       "25             L  \n",
       "33             M  \n",
       "63             L  \n",
       "97             L  \n",
       "157            L  \n",
       "225            S  \n",
       "252            L  \n",
       "482            M  \n",
       "519            L  \n",
       "523            L  "
      ]
     },
     "execution_count": 17,
     "metadata": {},
     "output_type": "execute_result"
    }
   ],
   "source": [
    "outliers"
   ]
  },
  {
   "cell_type": "code",
   "execution_count": 18,
   "id": "9da3aea3-2683-4727-bb2d-54ff7faef6b1",
   "metadata": {},
   "outputs": [],
   "source": [
    "# присвоим очищенному датасету название data\n",
    "data = cleaned.copy(deep=True)"
   ]
  },
  {
   "cell_type": "markdown",
   "id": "5fe610d0-ba9b-4455-bdcf-46b169aa20f1",
   "metadata": {},
   "source": [
    "**Проверка на нормальность распределения признака *salary_in_usd***"
   ]
  },
  {
   "cell_type": "code",
   "execution_count": 19,
   "id": "3c2c0f15-5df8-4351-b8a1-2dbcaf76460b",
   "metadata": {},
   "outputs": [
    {
     "data": {
      "image/png": "[encoded data removed]",
      "text/plain": [
       "<Figure size 640x480 with 1 Axes>"
      ]
     },
     "metadata": {},
     "output_type": "display_data"
    }
   ],
   "source": [
    "# задаём параметры квантиль-квантиль графика\n",
    "sm.qqplot(data.salary_in_usd, line='s')\n",
    "plt.title('Квантиль-квантиль график \\n для распределения зарплат в usd')\n",
    "\n",
    "# отображаем квантиль-квантиль график\n",
    "plt.show()"
   ]
  },
  {
   "cell_type": "markdown",
   "id": "073b16bb-d57b-49a4-ba6a-0443eda3d79c",
   "metadata": {},
   "source": [
    "Так как не все точки лежат вдоль диагонали, то распределение признака не нормальное. Для большей уверенности в этом, проведем тест на нормальность распределения признака."
   ]
  },
  {
   "cell_type": "code",
   "execution_count": 20,
   "id": "11e0fa6a-b129-434e-9730-bdedd41d8c40",
   "metadata": {},
   "outputs": [
    {
     "name": "stdout",
     "output_type": "stream",
     "text": [
      "salary_in_usd:\n",
      "p-value = 0.000\n",
      "p-значение меньше, чем заданный уровень значимости 0.05. Распределение отлично от нормального\n",
      "__________________ \n",
      "\n"
     ]
    }
   ],
   "source": [
    "# проведем проверку на нормальность распределения используя стат. тест Шапиро — Уилка\n",
    "# зададим уровень значимости\n",
    "alpha = 0.05 \n",
    "\n",
    "# проверим на нормальность распределение с помощью теста Шапиро-Уилка\n",
    "shapiro_distribution_tests([[data.salary_in_usd, 'salary_in_usd']], alpha=alpha)\n"
   ]
  },
  {
   "cell_type": "markdown",
   "id": "52cb3b5d-a79a-4464-8427-6a8578c7c6f5",
   "metadata": {},
   "source": [
    "Выводы:  \n",
    "- QQ-plot и тест Шапиро-Уилка однозначно подтверждает, что распределение признака не нормальное\n",
    "- в данных имеется 10 выбросов (значения от \\\\$324000 и выше)\n",
    "\n",
    "Интересные наблюдения:  \n",
    "- Все сотрудники, посчитанные как выброс, проживают в США\n",
    "- Страной головного офиса работодателя в выборке с выбросами, так же является США"
   ]
  },
  {
   "cell_type": "markdown",
   "id": "0cf7c14d-d3dd-4943-950c-8b4e2ee6b76b",
   "metadata": {},
   "source": [
    "### признак `work_year`  \n",
    "*Год, в котором была выплачена зарплата*."
   ]
  },
  {
   "cell_type": "code",
   "execution_count": 21,
   "id": "eac168ea-199f-47ee-aead-106b559d358f",
   "metadata": {},
   "outputs": [
    {
     "data": {
      "image/png": "[encoded data removed]",
      "text/plain": [
       "<Figure size 800x400 with 1 Axes>"
      ]
     },
     "metadata": {},
     "output_type": "display_data"
    },
    {
     "data": {
      "text/html": [
       "<div>\n",
       "<style scoped>\n",
       "    .dataframe tbody tr th:only-of-type {\n",
       "        vertical-align: middle;\n",
       "    }\n",
       "\n",
       "    .dataframe tbody tr th {\n",
       "        vertical-align: top;\n",
       "    }\n",
       "\n",
       "    .dataframe thead th {\n",
       "        text-align: right;\n",
       "    }\n",
       "</style>\n",
       "<table border=\"1\" class=\"dataframe\">\n",
       "  <thead>\n",
       "    <tr style=\"text-align: right;\">\n",
       "      <th></th>\n",
       "      <th>count</th>\n",
       "      <th>proportion</th>\n",
       "    </tr>\n",
       "    <tr>\n",
       "      <th>work_year</th>\n",
       "      <th></th>\n",
       "      <th></th>\n",
       "    </tr>\n",
       "  </thead>\n",
       "  <tbody>\n",
       "    <tr>\n",
       "      <th>2022</th>\n",
       "      <td>275</td>\n",
       "      <td>49.55</td>\n",
       "    </tr>\n",
       "    <tr>\n",
       "      <th>2021</th>\n",
       "      <td>211</td>\n",
       "      <td>38.02</td>\n",
       "    </tr>\n",
       "    <tr>\n",
       "      <th>2020</th>\n",
       "      <td>69</td>\n",
       "      <td>12.43</td>\n",
       "    </tr>\n",
       "  </tbody>\n",
       "</table>\n",
       "</div>"
      ],
      "text/plain": [
       "           count  proportion\n",
       "work_year                   \n",
       "2022         275       49.55\n",
       "2021         211       38.02\n",
       "2020          69       12.43"
      ]
     },
     "metadata": {},
     "output_type": "display_data"
    }
   ],
   "source": [
    "show_categorical_metrics(data.work_year, name='work_year')"
   ]
  },
  {
   "cell_type": "markdown",
   "id": "4a6e5271-65f9-4aaa-b5cf-7818cb1915e9",
   "metadata": {},
   "source": [
    "Выводы:  \n",
    "- Почти 50% наблюдений относятся к 2022 году,\n",
    "- 38% к 2021.\n",
    "- 12% наблюдений за 2020 год "
   ]
  },
  {
   "cell_type": "markdown",
   "id": "d0b91215-347c-4c31-9ec2-a1d99ecc9c15",
   "metadata": {},
   "source": [
    "### признак `experience_level`  \n",
    "*Опыт работы на этой должности в течение года*"
   ]
  },
  {
   "cell_type": "code",
   "execution_count": 22,
   "id": "c90afbb0-464d-46fb-b8da-2bb2c7986db5",
   "metadata": {},
   "outputs": [
    {
     "data": {
      "image/png": "[encoded data removed]",
      "text/plain": [
       "<Figure size 800x400 with 1 Axes>"
      ]
     },
     "metadata": {},
     "output_type": "display_data"
    },
    {
     "data": {
      "text/html": [
       "<div>\n",
       "<style scoped>\n",
       "    .dataframe tbody tr th:only-of-type {\n",
       "        vertical-align: middle;\n",
       "    }\n",
       "\n",
       "    .dataframe tbody tr th {\n",
       "        vertical-align: top;\n",
       "    }\n",
       "\n",
       "    .dataframe thead th {\n",
       "        text-align: right;\n",
       "    }\n",
       "</style>\n",
       "<table border=\"1\" class=\"dataframe\">\n",
       "  <thead>\n",
       "    <tr style=\"text-align: right;\">\n",
       "      <th></th>\n",
       "      <th>count</th>\n",
       "      <th>proportion</th>\n",
       "    </tr>\n",
       "    <tr>\n",
       "      <th>experience_level</th>\n",
       "      <th></th>\n",
       "      <th></th>\n",
       "    </tr>\n",
       "  </thead>\n",
       "  <tbody>\n",
       "    <tr>\n",
       "      <th>SE</th>\n",
       "      <td>240</td>\n",
       "      <td>43.24</td>\n",
       "    </tr>\n",
       "    <tr>\n",
       "      <th>MI</th>\n",
       "      <td>205</td>\n",
       "      <td>36.94</td>\n",
       "    </tr>\n",
       "    <tr>\n",
       "      <th>EN</th>\n",
       "      <td>88</td>\n",
       "      <td>15.86</td>\n",
       "    </tr>\n",
       "    <tr>\n",
       "      <th>EX</th>\n",
       "      <td>22</td>\n",
       "      <td>3.96</td>\n",
       "    </tr>\n",
       "  </tbody>\n",
       "</table>\n",
       "</div>"
      ],
      "text/plain": [
       "                  count  proportion\n",
       "experience_level                   \n",
       "SE                  240       43.24\n",
       "MI                  205       36.94\n",
       "EN                   88       15.86\n",
       "EX                   22        3.96"
      ]
     },
     "metadata": {},
     "output_type": "display_data"
    }
   ],
   "source": [
    "show_categorical_metrics(data.experience_level, name='experience_level')"
   ]
  },
  {
   "cell_type": "markdown",
   "id": "c53f266a-e9dc-4bf6-a9ff-49bc56a83307",
   "metadata": {},
   "source": [
    "Выводы:  \n",
    "- Большую часть рынка 80% составляют работники с опытом работы SE(Senior) и MI(Middle):  43% и 37% соответственно.\n",
    "- Начинающие специалисты занимают лишь 15% рынка.\n",
    "- На руководящих позициях трудятся 4.6% "
   ]
  },
  {
   "cell_type": "markdown",
   "id": "ca5d02df-8390-4af8-b035-8263be5f152f",
   "metadata": {},
   "source": [
    "### признак `employment_type`  \n",
    "*Тип трудоустройства*"
   ]
  },
  {
   "cell_type": "code",
   "execution_count": 23,
   "id": "4d890cb0-3a0c-470d-814d-d57adcb27b42",
   "metadata": {},
   "outputs": [
    {
     "data": {
      "image/png": "[encoded data removed]",
      "text/plain": [
       "<Figure size 800x400 with 1 Axes>"
      ]
     },
     "metadata": {},
     "output_type": "display_data"
    },
    {
     "data": {
      "text/html": [
       "<div>\n",
       "<style scoped>\n",
       "    .dataframe tbody tr th:only-of-type {\n",
       "        vertical-align: middle;\n",
       "    }\n",
       "\n",
       "    .dataframe tbody tr th {\n",
       "        vertical-align: top;\n",
       "    }\n",
       "\n",
       "    .dataframe thead th {\n",
       "        text-align: right;\n",
       "    }\n",
       "</style>\n",
       "<table border=\"1\" class=\"dataframe\">\n",
       "  <thead>\n",
       "    <tr style=\"text-align: right;\">\n",
       "      <th></th>\n",
       "      <th>count</th>\n",
       "      <th>proportion</th>\n",
       "    </tr>\n",
       "    <tr>\n",
       "      <th>employment_type</th>\n",
       "      <th></th>\n",
       "      <th></th>\n",
       "    </tr>\n",
       "  </thead>\n",
       "  <tbody>\n",
       "    <tr>\n",
       "      <th>FT</th>\n",
       "      <td>537</td>\n",
       "      <td>96.76</td>\n",
       "    </tr>\n",
       "    <tr>\n",
       "      <th>PT</th>\n",
       "      <td>10</td>\n",
       "      <td>1.80</td>\n",
       "    </tr>\n",
       "    <tr>\n",
       "      <th>CT</th>\n",
       "      <td>4</td>\n",
       "      <td>0.72</td>\n",
       "    </tr>\n",
       "    <tr>\n",
       "      <th>FL</th>\n",
       "      <td>4</td>\n",
       "      <td>0.72</td>\n",
       "    </tr>\n",
       "  </tbody>\n",
       "</table>\n",
       "</div>"
      ],
      "text/plain": [
       "                 count  proportion\n",
       "employment_type                   \n",
       "FT                 537       96.76\n",
       "PT                  10        1.80\n",
       "CT                   4        0.72\n",
       "FL                   4        0.72"
      ]
     },
     "metadata": {},
     "output_type": "display_data"
    }
   ],
   "source": [
    "show_categorical_metrics(data.employment_type, name='employment_type')"
   ]
  },
  {
   "cell_type": "markdown",
   "id": "e716f178-d052-443a-86a7-b8ed7a1a9deb",
   "metadata": {},
   "source": [
    "Выводы:  \n",
    "- Почти 97% работников трудоустроены по графику \"Полный рабочий день\"\n",
    "- Почти 1.8% трудоустроены на \"Не полный рабочий день\""
   ]
  },
  {
   "cell_type": "markdown",
   "id": "3d048191-4841-4132-9fc8-fa2aeb1ac03d",
   "metadata": {},
   "source": [
    "### признак job_title  \n",
    "*Роль, в которой соискатель работал в течение года.*"
   ]
  },
  {
   "cell_type": "code",
   "execution_count": 24,
   "id": "99b9eeab-972f-460e-b7a9-6f7588c15c5c",
   "metadata": {},
   "outputs": [
    {
     "data": {
      "image/png": "[encoded data removed]",
      "text/plain": [
       "<Figure size 1000x600 with 1 Axes>"
      ]
     },
     "metadata": {},
     "output_type": "display_data"
    },
    {
     "data": {
      "text/html": [
       "<div>\n",
       "<style scoped>\n",
       "    .dataframe tbody tr th:only-of-type {\n",
       "        vertical-align: middle;\n",
       "    }\n",
       "\n",
       "    .dataframe tbody tr th {\n",
       "        vertical-align: top;\n",
       "    }\n",
       "\n",
       "    .dataframe thead th {\n",
       "        text-align: right;\n",
       "    }\n",
       "</style>\n",
       "<table border=\"1\" class=\"dataframe\">\n",
       "  <thead>\n",
       "    <tr style=\"text-align: right;\">\n",
       "      <th></th>\n",
       "      <th>count</th>\n",
       "      <th>proportion</th>\n",
       "    </tr>\n",
       "    <tr>\n",
       "      <th>job_title</th>\n",
       "      <th></th>\n",
       "      <th></th>\n",
       "    </tr>\n",
       "  </thead>\n",
       "  <tbody>\n",
       "    <tr>\n",
       "      <th>Data Scientist</th>\n",
       "      <td>173</td>\n",
       "      <td>31.17</td>\n",
       "    </tr>\n",
       "    <tr>\n",
       "      <th>Data Engineer</th>\n",
       "      <td>171</td>\n",
       "      <td>30.81</td>\n",
       "    </tr>\n",
       "    <tr>\n",
       "      <th>Data Analyst</th>\n",
       "      <td>107</td>\n",
       "      <td>19.28</td>\n",
       "    </tr>\n",
       "    <tr>\n",
       "      <th>ML Engineer</th>\n",
       "      <td>65</td>\n",
       "      <td>11.71</td>\n",
       "    </tr>\n",
       "    <tr>\n",
       "      <th>Research Scientist</th>\n",
       "      <td>15</td>\n",
       "      <td>2.70</td>\n",
       "    </tr>\n",
       "    <tr>\n",
       "      <th>Data Architect</th>\n",
       "      <td>12</td>\n",
       "      <td>2.16</td>\n",
       "    </tr>\n",
       "    <tr>\n",
       "      <th>CV Engineer</th>\n",
       "      <td>10</td>\n",
       "      <td>1.80</td>\n",
       "    </tr>\n",
       "    <tr>\n",
       "      <th>ETL Developer</th>\n",
       "      <td>1</td>\n",
       "      <td>0.18</td>\n",
       "    </tr>\n",
       "    <tr>\n",
       "      <th>NLP Engineer</th>\n",
       "      <td>1</td>\n",
       "      <td>0.18</td>\n",
       "    </tr>\n",
       "  </tbody>\n",
       "</table>\n",
       "</div>"
      ],
      "text/plain": [
       "                    count  proportion\n",
       "job_title                            \n",
       "Data Scientist        173       31.17\n",
       "Data Engineer         171       30.81\n",
       "Data Analyst          107       19.28\n",
       "ML Engineer            65       11.71\n",
       "Research Scientist     15        2.70\n",
       "Data Architect         12        2.16\n",
       "CV Engineer            10        1.80\n",
       "ETL Developer           1        0.18\n",
       "NLP Engineer            1        0.18"
      ]
     },
     "metadata": {},
     "output_type": "display_data"
    }
   ],
   "source": [
    "barplot_categorical_feature(data.job_title, \n",
    "                            'Признак job_title', 'Кол-во', 'Должность')"
   ]
  },
  {
   "cell_type": "code",
   "execution_count": 25,
   "id": "a5b399b9-6551-4fad-baac-676bd0aeae31",
   "metadata": {},
   "outputs": [],
   "source": [
    "# show_categorical_metrics(data.job_title, name='job_title')"
   ]
  },
  {
   "cell_type": "markdown",
   "id": "d4fd05f4-bb77-4a2e-93e4-d79653e3d9f8",
   "metadata": {},
   "source": [
    "Выводы:  \n",
    "В выборке явно выделяются 4 самые крупные роли:  \n",
    "- Data Scientist - 31.33%\n",
    "- Data Engineer - 30.62%\n",
    "- Data Analyst - 19.29%\n",
    "- ML Engineer - 11.68%\n",
    "\n",
    "Они покрывают почти 93% от всей выборки.  \n",
    "Между тем стоит отметить почти равные доли таких позиций как Data Scientist и Data Engineer.  \n",
    "Самыми малочисленными ролями являются:  \n",
    "- ETL Developer - 0.18%\n",
    "- NLP Engineer - 0.18%"
   ]
  },
  {
   "cell_type": "markdown",
   "id": "e350891a-c35a-4423-ab54-aea5210b3399",
   "metadata": {},
   "source": [
    "### признак employee_residence  \n",
    "*Основная страна проживания сотрудника*  \n",
    "\n",
    "Значения признака приведены в виде кода страны ISO 3166.  \n",
    "Для лучшего понимание стоит, перевести их в более удобный вид."
   ]
  },
  {
   "cell_type": "code",
   "execution_count": 27,
   "id": "7800271c-23fc-4a5c-9149-51f959485c6f",
   "metadata": {
    "scrolled": true
   },
   "outputs": [
    {
     "data": {
      "image/png": "[encoded data removed]",
      "text/plain": [
       "<Figure size 1000x600 with 1 Axes>"
      ]
     },
     "metadata": {},
     "output_type": "display_data"
    },
    {
     "data": {
      "text/html": [
       "<div>\n",
       "<style scoped>\n",
       "    .dataframe tbody tr th:only-of-type {\n",
       "        vertical-align: middle;\n",
       "    }\n",
       "\n",
       "    .dataframe tbody tr th {\n",
       "        vertical-align: top;\n",
       "    }\n",
       "\n",
       "    .dataframe thead th {\n",
       "        text-align: right;\n",
       "    }\n",
       "</style>\n",
       "<table border=\"1\" class=\"dataframe\">\n",
       "  <thead>\n",
       "    <tr style=\"text-align: right;\">\n",
       "      <th></th>\n",
       "      <th>count</th>\n",
       "      <th>proportion</th>\n",
       "    </tr>\n",
       "    <tr>\n",
       "      <th>employee_residence</th>\n",
       "      <th></th>\n",
       "      <th></th>\n",
       "    </tr>\n",
       "  </thead>\n",
       "  <tbody>\n",
       "    <tr>\n",
       "      <th>United States</th>\n",
       "      <td>285</td>\n",
       "      <td>51.35</td>\n",
       "    </tr>\n",
       "    <tr>\n",
       "      <th>United Kingdom</th>\n",
       "      <td>43</td>\n",
       "      <td>7.75</td>\n",
       "    </tr>\n",
       "    <tr>\n",
       "      <th>India</th>\n",
       "      <td>30</td>\n",
       "      <td>5.41</td>\n",
       "    </tr>\n",
       "    <tr>\n",
       "      <th>Canada</th>\n",
       "      <td>27</td>\n",
       "      <td>4.86</td>\n",
       "    </tr>\n",
       "    <tr>\n",
       "      <th>Germany</th>\n",
       "      <td>24</td>\n",
       "      <td>4.32</td>\n",
       "    </tr>\n",
       "    <tr>\n",
       "      <th>France</th>\n",
       "      <td>18</td>\n",
       "      <td>3.24</td>\n",
       "    </tr>\n",
       "    <tr>\n",
       "      <th>Spain</th>\n",
       "      <td>15</td>\n",
       "      <td>2.70</td>\n",
       "    </tr>\n",
       "    <tr>\n",
       "      <th>Greece</th>\n",
       "      <td>12</td>\n",
       "      <td>2.16</td>\n",
       "    </tr>\n",
       "    <tr>\n",
       "      <th>Japan</th>\n",
       "      <td>7</td>\n",
       "      <td>1.26</td>\n",
       "    </tr>\n",
       "    <tr>\n",
       "      <th>Portugal</th>\n",
       "      <td>6</td>\n",
       "      <td>1.08</td>\n",
       "    </tr>\n",
       "    <tr>\n",
       "      <th>Brazil</th>\n",
       "      <td>6</td>\n",
       "      <td>1.08</td>\n",
       "    </tr>\n",
       "    <tr>\n",
       "      <th>Pakistan</th>\n",
       "      <td>6</td>\n",
       "      <td>1.08</td>\n",
       "    </tr>\n",
       "    <tr>\n",
       "      <th>Netherlands</th>\n",
       "      <td>5</td>\n",
       "      <td>0.90</td>\n",
       "    </tr>\n",
       "    <tr>\n",
       "      <th>Poland</th>\n",
       "      <td>4</td>\n",
       "      <td>0.72</td>\n",
       "    </tr>\n",
       "    <tr>\n",
       "      <th>Italy</th>\n",
       "      <td>4</td>\n",
       "      <td>0.72</td>\n",
       "    </tr>\n",
       "    <tr>\n",
       "      <th>Russia</th>\n",
       "      <td>4</td>\n",
       "      <td>0.72</td>\n",
       "    </tr>\n",
       "    <tr>\n",
       "      <th>United Arab Emirates</th>\n",
       "      <td>3</td>\n",
       "      <td>0.54</td>\n",
       "    </tr>\n",
       "    <tr>\n",
       "      <th>Austria</th>\n",
       "      <td>3</td>\n",
       "      <td>0.54</td>\n",
       "    </tr>\n",
       "    <tr>\n",
       "      <th>Vietnam</th>\n",
       "      <td>3</td>\n",
       "      <td>0.54</td>\n",
       "    </tr>\n",
       "    <tr>\n",
       "      <th>Türkiye</th>\n",
       "      <td>3</td>\n",
       "      <td>0.54</td>\n",
       "    </tr>\n",
       "    <tr>\n",
       "      <th>Australia</th>\n",
       "      <td>3</td>\n",
       "      <td>0.54</td>\n",
       "    </tr>\n",
       "    <tr>\n",
       "      <th>Romania</th>\n",
       "      <td>2</td>\n",
       "      <td>0.36</td>\n",
       "    </tr>\n",
       "    <tr>\n",
       "      <th>Belgium</th>\n",
       "      <td>2</td>\n",
       "      <td>0.36</td>\n",
       "    </tr>\n",
       "    <tr>\n",
       "      <th>Singapore</th>\n",
       "      <td>2</td>\n",
       "      <td>0.36</td>\n",
       "    </tr>\n",
       "    <tr>\n",
       "      <th>Slovenia</th>\n",
       "      <td>2</td>\n",
       "      <td>0.36</td>\n",
       "    </tr>\n",
       "    <tr>\n",
       "      <th>Denmark</th>\n",
       "      <td>2</td>\n",
       "      <td>0.36</td>\n",
       "    </tr>\n",
       "    <tr>\n",
       "      <th>Hungary</th>\n",
       "      <td>2</td>\n",
       "      <td>0.36</td>\n",
       "    </tr>\n",
       "    <tr>\n",
       "      <th>Nigeria</th>\n",
       "      <td>2</td>\n",
       "      <td>0.36</td>\n",
       "    </tr>\n",
       "    <tr>\n",
       "      <th>Mexico</th>\n",
       "      <td>2</td>\n",
       "      <td>0.36</td>\n",
       "    </tr>\n",
       "    <tr>\n",
       "      <th>Bolivia</th>\n",
       "      <td>1</td>\n",
       "      <td>0.18</td>\n",
       "    </tr>\n",
       "    <tr>\n",
       "      <th>Malaysia</th>\n",
       "      <td>1</td>\n",
       "      <td>0.18</td>\n",
       "    </tr>\n",
       "    <tr>\n",
       "      <th>Tunisia</th>\n",
       "      <td>1</td>\n",
       "      <td>0.18</td>\n",
       "    </tr>\n",
       "    <tr>\n",
       "      <th>Ireland</th>\n",
       "      <td>1</td>\n",
       "      <td>0.18</td>\n",
       "    </tr>\n",
       "    <tr>\n",
       "      <th>Algeria</th>\n",
       "      <td>1</td>\n",
       "      <td>0.18</td>\n",
       "    </tr>\n",
       "    <tr>\n",
       "      <th>Argentina</th>\n",
       "      <td>1</td>\n",
       "      <td>0.18</td>\n",
       "    </tr>\n",
       "    <tr>\n",
       "      <th>Czechia</th>\n",
       "      <td>1</td>\n",
       "      <td>0.18</td>\n",
       "    </tr>\n",
       "    <tr>\n",
       "      <th>Jersey</th>\n",
       "      <td>1</td>\n",
       "      <td>0.18</td>\n",
       "    </tr>\n",
       "    <tr>\n",
       "      <th>Luxembourg</th>\n",
       "      <td>1</td>\n",
       "      <td>0.18</td>\n",
       "    </tr>\n",
       "    <tr>\n",
       "      <th>Puerto Rico</th>\n",
       "      <td>1</td>\n",
       "      <td>0.18</td>\n",
       "    </tr>\n",
       "    <tr>\n",
       "      <th>Serbia</th>\n",
       "      <td>1</td>\n",
       "      <td>0.18</td>\n",
       "    </tr>\n",
       "    <tr>\n",
       "      <th>Estonia</th>\n",
       "      <td>1</td>\n",
       "      <td>0.18</td>\n",
       "    </tr>\n",
       "    <tr>\n",
       "      <th>Chile</th>\n",
       "      <td>1</td>\n",
       "      <td>0.18</td>\n",
       "    </tr>\n",
       "    <tr>\n",
       "      <th>Hong Kong</th>\n",
       "      <td>1</td>\n",
       "      <td>0.18</td>\n",
       "    </tr>\n",
       "    <tr>\n",
       "      <th>Kenya</th>\n",
       "      <td>1</td>\n",
       "      <td>0.18</td>\n",
       "    </tr>\n",
       "    <tr>\n",
       "      <th>Moldova</th>\n",
       "      <td>1</td>\n",
       "      <td>0.18</td>\n",
       "    </tr>\n",
       "    <tr>\n",
       "      <th>Colombia</th>\n",
       "      <td>1</td>\n",
       "      <td>0.18</td>\n",
       "    </tr>\n",
       "    <tr>\n",
       "      <th>Iran</th>\n",
       "      <td>1</td>\n",
       "      <td>0.18</td>\n",
       "    </tr>\n",
       "    <tr>\n",
       "      <th>China</th>\n",
       "      <td>1</td>\n",
       "      <td>0.18</td>\n",
       "    </tr>\n",
       "    <tr>\n",
       "      <th>Malta</th>\n",
       "      <td>1</td>\n",
       "      <td>0.18</td>\n",
       "    </tr>\n",
       "    <tr>\n",
       "      <th>Ukraine</th>\n",
       "      <td>1</td>\n",
       "      <td>0.18</td>\n",
       "    </tr>\n",
       "    <tr>\n",
       "      <th>Iraq</th>\n",
       "      <td>1</td>\n",
       "      <td>0.18</td>\n",
       "    </tr>\n",
       "    <tr>\n",
       "      <th>Honduras</th>\n",
       "      <td>1</td>\n",
       "      <td>0.18</td>\n",
       "    </tr>\n",
       "    <tr>\n",
       "      <th>Bulgaria</th>\n",
       "      <td>1</td>\n",
       "      <td>0.18</td>\n",
       "    </tr>\n",
       "    <tr>\n",
       "      <th>Croatia</th>\n",
       "      <td>1</td>\n",
       "      <td>0.18</td>\n",
       "    </tr>\n",
       "    <tr>\n",
       "      <th>Philippines</th>\n",
       "      <td>1</td>\n",
       "      <td>0.18</td>\n",
       "    </tr>\n",
       "    <tr>\n",
       "      <th>New Zealand</th>\n",
       "      <td>1</td>\n",
       "      <td>0.18</td>\n",
       "    </tr>\n",
       "    <tr>\n",
       "      <th>Switzerland</th>\n",
       "      <td>1</td>\n",
       "      <td>0.18</td>\n",
       "    </tr>\n",
       "  </tbody>\n",
       "</table>\n",
       "</div>"
      ],
      "text/plain": [
       "                      count  proportion\n",
       "employee_residence                     \n",
       "United States           285       51.35\n",
       "United Kingdom           43        7.75\n",
       "India                    30        5.41\n",
       "Canada                   27        4.86\n",
       "Germany                  24        4.32\n",
       "France                   18        3.24\n",
       "Spain                    15        2.70\n",
       "Greece                   12        2.16\n",
       "Japan                     7        1.26\n",
       "Portugal                  6        1.08\n",
       "Brazil                    6        1.08\n",
       "Pakistan                  6        1.08\n",
       "Netherlands               5        0.90\n",
       "Poland                    4        0.72\n",
       "Italy                     4        0.72\n",
       "Russia                    4        0.72\n",
       "United Arab Emirates      3        0.54\n",
       "Austria                   3        0.54\n",
       "Vietnam                   3        0.54\n",
       "Türkiye                   3        0.54\n",
       "Australia                 3        0.54\n",
       "Romania                   2        0.36\n",
       "Belgium                   2        0.36\n",
       "Singapore                 2        0.36\n",
       "Slovenia                  2        0.36\n",
       "Denmark                   2        0.36\n",
       "Hungary                   2        0.36\n",
       "Nigeria                   2        0.36\n",
       "Mexico                    2        0.36\n",
       "Bolivia                   1        0.18\n",
       "Malaysia                  1        0.18\n",
       "Tunisia                   1        0.18\n",
       "Ireland                   1        0.18\n",
       "Algeria                   1        0.18\n",
       "Argentina                 1        0.18\n",
       "Czechia                   1        0.18\n",
       "Jersey                    1        0.18\n",
       "Luxembourg                1        0.18\n",
       "Puerto Rico               1        0.18\n",
       "Serbia                    1        0.18\n",
       "Estonia                   1        0.18\n",
       "Chile                     1        0.18\n",
       "Hong Kong                 1        0.18\n",
       "Kenya                     1        0.18\n",
       "Moldova                   1        0.18\n",
       "Colombia                  1        0.18\n",
       "Iran                      1        0.18\n",
       "China                     1        0.18\n",
       "Malta                     1        0.18\n",
       "Ukraine                   1        0.18\n",
       "Iraq                      1        0.18\n",
       "Honduras                  1        0.18\n",
       "Bulgaria                  1        0.18\n",
       "Croatia                   1        0.18\n",
       "Philippines               1        0.18\n",
       "New Zealand               1        0.18\n",
       "Switzerland               1        0.18"
      ]
     },
     "metadata": {},
     "output_type": "display_data"
    }
   ],
   "source": [
    "barplot_categorical_feature(data.employee_residence, \n",
    "                            'Распределение по странам (ТОП 10)', \n",
    "                            'Кол-во проживающих', \n",
    "                            'Страна')"
   ]
  },
  {
   "cell_type": "markdown",
   "id": "0ae320ee-8386-4315-9216-a0d294dee836",
   "metadata": {},
   "source": [
    "Выводы:  \n",
    "Топ-5 стран где проживает большое всего специалистов в сфере DS:\n",
    "1. United States - 52.21%\n",
    "2. United Kingdom - 7.61%\n",
    "3. India - 5.31%\n",
    "4. Canada - 4.78%\n",
    "5. Germany - 4.25%\n",
    "\n",
    "52.2% всех сотрудников из выборки в сфере Data Science проживает и работает в США."
   ]
  },
  {
   "cell_type": "markdown",
   "id": "63610bff-55ed-4a54-b585-4489e033cec4",
   "metadata": {},
   "source": [
    "### признак company_location  \n",
    "*Страна главного офиса работодателя*  \n",
    "\n",
    "Значения признака приведены в виде кода страны ISO 3166.  \n",
    "Для лучшего понимание стоит, перевести их в более удобный вид."
   ]
  },
  {
   "cell_type": "code",
   "execution_count": 28,
   "id": "2d0fe31a-b08b-43c3-a382-efa5a144006b",
   "metadata": {},
   "outputs": [
    {
     "data": {
      "image/png": "[encoded data removed]",
      "text/plain": [
       "<Figure size 1000x600 with 1 Axes>"
      ]
     },
     "metadata": {},
     "output_type": "display_data"
    },
    {
     "data": {
      "text/html": [
       "<div>\n",
       "<style scoped>\n",
       "    .dataframe tbody tr th:only-of-type {\n",
       "        vertical-align: middle;\n",
       "    }\n",
       "\n",
       "    .dataframe tbody tr th {\n",
       "        vertical-align: top;\n",
       "    }\n",
       "\n",
       "    .dataframe thead th {\n",
       "        text-align: right;\n",
       "    }\n",
       "</style>\n",
       "<table border=\"1\" class=\"dataframe\">\n",
       "  <thead>\n",
       "    <tr style=\"text-align: right;\">\n",
       "      <th></th>\n",
       "      <th>count</th>\n",
       "      <th>proportion</th>\n",
       "    </tr>\n",
       "    <tr>\n",
       "      <th>company_location</th>\n",
       "      <th></th>\n",
       "      <th></th>\n",
       "    </tr>\n",
       "  </thead>\n",
       "  <tbody>\n",
       "    <tr>\n",
       "      <th>United States</th>\n",
       "      <td>308</td>\n",
       "      <td>55.50</td>\n",
       "    </tr>\n",
       "    <tr>\n",
       "      <th>United Kingdom</th>\n",
       "      <td>46</td>\n",
       "      <td>8.29</td>\n",
       "    </tr>\n",
       "    <tr>\n",
       "      <th>Canada</th>\n",
       "      <td>28</td>\n",
       "      <td>5.05</td>\n",
       "    </tr>\n",
       "    <tr>\n",
       "      <th>Germany</th>\n",
       "      <td>27</td>\n",
       "      <td>4.86</td>\n",
       "    </tr>\n",
       "    <tr>\n",
       "      <th>India</th>\n",
       "      <td>24</td>\n",
       "      <td>4.32</td>\n",
       "    </tr>\n",
       "    <tr>\n",
       "      <th>France</th>\n",
       "      <td>15</td>\n",
       "      <td>2.70</td>\n",
       "    </tr>\n",
       "    <tr>\n",
       "      <th>Spain</th>\n",
       "      <td>14</td>\n",
       "      <td>2.52</td>\n",
       "    </tr>\n",
       "    <tr>\n",
       "      <th>Greece</th>\n",
       "      <td>10</td>\n",
       "      <td>1.80</td>\n",
       "    </tr>\n",
       "    <tr>\n",
       "      <th>Japan</th>\n",
       "      <td>6</td>\n",
       "      <td>1.08</td>\n",
       "    </tr>\n",
       "    <tr>\n",
       "      <th>Netherlands</th>\n",
       "      <td>4</td>\n",
       "      <td>0.72</td>\n",
       "    </tr>\n",
       "    <tr>\n",
       "      <th>Austria</th>\n",
       "      <td>4</td>\n",
       "      <td>0.72</td>\n",
       "    </tr>\n",
       "    <tr>\n",
       "      <th>Portugal</th>\n",
       "      <td>4</td>\n",
       "      <td>0.72</td>\n",
       "    </tr>\n",
       "    <tr>\n",
       "      <th>Poland</th>\n",
       "      <td>4</td>\n",
       "      <td>0.72</td>\n",
       "    </tr>\n",
       "    <tr>\n",
       "      <th>Luxembourg</th>\n",
       "      <td>3</td>\n",
       "      <td>0.54</td>\n",
       "    </tr>\n",
       "    <tr>\n",
       "      <th>Pakistan</th>\n",
       "      <td>3</td>\n",
       "      <td>0.54</td>\n",
       "    </tr>\n",
       "    <tr>\n",
       "      <th>Brazil</th>\n",
       "      <td>3</td>\n",
       "      <td>0.54</td>\n",
       "    </tr>\n",
       "    <tr>\n",
       "      <th>United Arab Emirates</th>\n",
       "      <td>3</td>\n",
       "      <td>0.54</td>\n",
       "    </tr>\n",
       "    <tr>\n",
       "      <th>Mexico</th>\n",
       "      <td>3</td>\n",
       "      <td>0.54</td>\n",
       "    </tr>\n",
       "    <tr>\n",
       "      <th>Australia</th>\n",
       "      <td>3</td>\n",
       "      <td>0.54</td>\n",
       "    </tr>\n",
       "    <tr>\n",
       "      <th>Türkiye</th>\n",
       "      <td>3</td>\n",
       "      <td>0.54</td>\n",
       "    </tr>\n",
       "    <tr>\n",
       "      <th>Denmark</th>\n",
       "      <td>3</td>\n",
       "      <td>0.54</td>\n",
       "    </tr>\n",
       "    <tr>\n",
       "      <th>Italy</th>\n",
       "      <td>2</td>\n",
       "      <td>0.36</td>\n",
       "    </tr>\n",
       "    <tr>\n",
       "      <th>Czechia</th>\n",
       "      <td>2</td>\n",
       "      <td>0.36</td>\n",
       "    </tr>\n",
       "    <tr>\n",
       "      <th>Slovenia</th>\n",
       "      <td>2</td>\n",
       "      <td>0.36</td>\n",
       "    </tr>\n",
       "    <tr>\n",
       "      <th>Russia</th>\n",
       "      <td>2</td>\n",
       "      <td>0.36</td>\n",
       "    </tr>\n",
       "    <tr>\n",
       "      <th>Switzerland</th>\n",
       "      <td>2</td>\n",
       "      <td>0.36</td>\n",
       "    </tr>\n",
       "    <tr>\n",
       "      <th>Nigeria</th>\n",
       "      <td>2</td>\n",
       "      <td>0.36</td>\n",
       "    </tr>\n",
       "    <tr>\n",
       "      <th>China</th>\n",
       "      <td>2</td>\n",
       "      <td>0.36</td>\n",
       "    </tr>\n",
       "    <tr>\n",
       "      <th>Belgium</th>\n",
       "      <td>2</td>\n",
       "      <td>0.36</td>\n",
       "    </tr>\n",
       "    <tr>\n",
       "      <th>Vietnam</th>\n",
       "      <td>1</td>\n",
       "      <td>0.18</td>\n",
       "    </tr>\n",
       "    <tr>\n",
       "      <th>Estonia</th>\n",
       "      <td>1</td>\n",
       "      <td>0.18</td>\n",
       "    </tr>\n",
       "    <tr>\n",
       "      <th>American Samoa</th>\n",
       "      <td>1</td>\n",
       "      <td>0.18</td>\n",
       "    </tr>\n",
       "    <tr>\n",
       "      <th>Algeria</th>\n",
       "      <td>1</td>\n",
       "      <td>0.18</td>\n",
       "    </tr>\n",
       "    <tr>\n",
       "      <th>Malaysia</th>\n",
       "      <td>1</td>\n",
       "      <td>0.18</td>\n",
       "    </tr>\n",
       "    <tr>\n",
       "      <th>Moldova</th>\n",
       "      <td>1</td>\n",
       "      <td>0.18</td>\n",
       "    </tr>\n",
       "    <tr>\n",
       "      <th>Kenya</th>\n",
       "      <td>1</td>\n",
       "      <td>0.18</td>\n",
       "    </tr>\n",
       "    <tr>\n",
       "      <th>Singapore</th>\n",
       "      <td>1</td>\n",
       "      <td>0.18</td>\n",
       "    </tr>\n",
       "    <tr>\n",
       "      <th>Colombia</th>\n",
       "      <td>1</td>\n",
       "      <td>0.18</td>\n",
       "    </tr>\n",
       "    <tr>\n",
       "      <th>Iran</th>\n",
       "      <td>1</td>\n",
       "      <td>0.18</td>\n",
       "    </tr>\n",
       "    <tr>\n",
       "      <th>Chile</th>\n",
       "      <td>1</td>\n",
       "      <td>0.18</td>\n",
       "    </tr>\n",
       "    <tr>\n",
       "      <th>Malta</th>\n",
       "      <td>1</td>\n",
       "      <td>0.18</td>\n",
       "    </tr>\n",
       "    <tr>\n",
       "      <th>Israel</th>\n",
       "      <td>1</td>\n",
       "      <td>0.18</td>\n",
       "    </tr>\n",
       "    <tr>\n",
       "      <th>Ukraine</th>\n",
       "      <td>1</td>\n",
       "      <td>0.18</td>\n",
       "    </tr>\n",
       "    <tr>\n",
       "      <th>Iraq</th>\n",
       "      <td>1</td>\n",
       "      <td>0.18</td>\n",
       "    </tr>\n",
       "    <tr>\n",
       "      <th>Romania</th>\n",
       "      <td>1</td>\n",
       "      <td>0.18</td>\n",
       "    </tr>\n",
       "    <tr>\n",
       "      <th>Croatia</th>\n",
       "      <td>1</td>\n",
       "      <td>0.18</td>\n",
       "    </tr>\n",
       "    <tr>\n",
       "      <th>New Zealand</th>\n",
       "      <td>1</td>\n",
       "      <td>0.18</td>\n",
       "    </tr>\n",
       "    <tr>\n",
       "      <th>Hungary</th>\n",
       "      <td>1</td>\n",
       "      <td>0.18</td>\n",
       "    </tr>\n",
       "    <tr>\n",
       "      <th>Honduras</th>\n",
       "      <td>1</td>\n",
       "      <td>0.18</td>\n",
       "    </tr>\n",
       "    <tr>\n",
       "      <th>Ireland</th>\n",
       "      <td>1</td>\n",
       "      <td>0.18</td>\n",
       "    </tr>\n",
       "  </tbody>\n",
       "</table>\n",
       "</div>"
      ],
      "text/plain": [
       "                      count  proportion\n",
       "company_location                       \n",
       "United States           308       55.50\n",
       "United Kingdom           46        8.29\n",
       "Canada                   28        5.05\n",
       "Germany                  27        4.86\n",
       "India                    24        4.32\n",
       "France                   15        2.70\n",
       "Spain                    14        2.52\n",
       "Greece                   10        1.80\n",
       "Japan                     6        1.08\n",
       "Netherlands               4        0.72\n",
       "Austria                   4        0.72\n",
       "Portugal                  4        0.72\n",
       "Poland                    4        0.72\n",
       "Luxembourg                3        0.54\n",
       "Pakistan                  3        0.54\n",
       "Brazil                    3        0.54\n",
       "United Arab Emirates      3        0.54\n",
       "Mexico                    3        0.54\n",
       "Australia                 3        0.54\n",
       "Türkiye                   3        0.54\n",
       "Denmark                   3        0.54\n",
       "Italy                     2        0.36\n",
       "Czechia                   2        0.36\n",
       "Slovenia                  2        0.36\n",
       "Russia                    2        0.36\n",
       "Switzerland               2        0.36\n",
       "Nigeria                   2        0.36\n",
       "China                     2        0.36\n",
       "Belgium                   2        0.36\n",
       "Vietnam                   1        0.18\n",
       "Estonia                   1        0.18\n",
       "American Samoa            1        0.18\n",
       "Algeria                   1        0.18\n",
       "Malaysia                  1        0.18\n",
       "Moldova                   1        0.18\n",
       "Kenya                     1        0.18\n",
       "Singapore                 1        0.18\n",
       "Colombia                  1        0.18\n",
       "Iran                      1        0.18\n",
       "Chile                     1        0.18\n",
       "Malta                     1        0.18\n",
       "Israel                    1        0.18\n",
       "Ukraine                   1        0.18\n",
       "Iraq                      1        0.18\n",
       "Romania                   1        0.18\n",
       "Croatia                   1        0.18\n",
       "New Zealand               1        0.18\n",
       "Hungary                   1        0.18\n",
       "Honduras                  1        0.18\n",
       "Ireland                   1        0.18"
      ]
     },
     "metadata": {},
     "output_type": "display_data"
    }
   ],
   "source": [
    "barplot_categorical_feature(data.company_location, \n",
    "                            'Распределение по странам головного офиса(ТОП 10)', \n",
    "                            'Кол-во компаний', \n",
    "                            'Страна')"
   ]
  },
  {
   "cell_type": "markdown",
   "id": "1ba07a4a-9267-48be-b735-70a032390f22",
   "metadata": {},
   "source": [
    "Выводы:  \n",
    "- Признак имеет почти схожее с признаком `employee_residence` распределение, но есть различия.\n",
    "Топ 5 страны:\n",
    "1. United States - 58.48%\n",
    "2. United Kingdom - 7.74%\n",
    "3. Canada - 4.94%\n",
    "4. Germany - 4.61%\n",
    "5. India - 3.95%\n",
    "\n",
    "58.5% компаний распологаются в США "
   ]
  },
  {
   "cell_type": "markdown",
   "id": "d537ddf8-b64d-4183-95e1-3e115c4c105c",
   "metadata": {},
   "source": [
    "### признак remote_ratio  \n",
    "*Общий объём работы, выполняемой удалённо.*  "
   ]
  },
  {
   "cell_type": "code",
   "execution_count": 30,
   "id": "caf22592-3812-495d-bec4-be35df6abb2e",
   "metadata": {},
   "outputs": [
    {
     "data": {
      "image/png": "[encoded data removed]",
      "text/plain": [
       "<Figure size 800x400 with 1 Axes>"
      ]
     },
     "metadata": {},
     "output_type": "display_data"
    },
    {
     "data": {
      "text/html": [
       "<div>\n",
       "<style scoped>\n",
       "    .dataframe tbody tr th:only-of-type {\n",
       "        vertical-align: middle;\n",
       "    }\n",
       "\n",
       "    .dataframe tbody tr th {\n",
       "        vertical-align: top;\n",
       "    }\n",
       "\n",
       "    .dataframe thead th {\n",
       "        text-align: right;\n",
       "    }\n",
       "</style>\n",
       "<table border=\"1\" class=\"dataframe\">\n",
       "  <thead>\n",
       "    <tr style=\"text-align: right;\">\n",
       "      <th></th>\n",
       "      <th>count</th>\n",
       "      <th>proportion</th>\n",
       "    </tr>\n",
       "    <tr>\n",
       "      <th>remote_ratio</th>\n",
       "      <th></th>\n",
       "      <th></th>\n",
       "    </tr>\n",
       "  </thead>\n",
       "  <tbody>\n",
       "    <tr>\n",
       "      <th>100</th>\n",
       "      <td>338</td>\n",
       "      <td>60.90</td>\n",
       "    </tr>\n",
       "    <tr>\n",
       "      <th>0</th>\n",
       "      <td>120</td>\n",
       "      <td>21.62</td>\n",
       "    </tr>\n",
       "    <tr>\n",
       "      <th>50</th>\n",
       "      <td>97</td>\n",
       "      <td>17.48</td>\n",
       "    </tr>\n",
       "  </tbody>\n",
       "</table>\n",
       "</div>"
      ],
      "text/plain": [
       "              count  proportion\n",
       "remote_ratio                   \n",
       "100             338       60.90\n",
       "0               120       21.62\n",
       "50               97       17.48"
      ]
     },
     "metadata": {},
     "output_type": "display_data"
    }
   ],
   "source": [
    "show_categorical_metrics(data.remote_ratio, name='remote_ratio')"
   ]
  },
  {
   "cell_type": "markdown",
   "id": "b50e08fb-8e44-4821-bf7b-0d01640dee3e",
   "metadata": {},
   "source": [
    "Выводы:  \n",
    "- 61% респондентов работают полностю удаленно ( более 80% времени)\n",
    "- 17% половину своего рабочего времени проводят удаленно\n",
    "- 21% сотрудников работают исключительно в офисе"
   ]
  },
  {
   "cell_type": "markdown",
   "id": "568331b9-b4dc-471e-af60-dd146e684dba",
   "metadata": {},
   "source": [
    "### признак company_size  \n",
    "*Среднее количество людей, работавших в компании*  "
   ]
  },
  {
   "cell_type": "code",
   "execution_count": 31,
   "id": "0d8159e0-fc4c-4820-b727-ed7a09db5739",
   "metadata": {},
   "outputs": [
    {
     "data": {
      "image/png": "[encoded data removed]",
      "text/plain": [
       "<Figure size 800x400 with 1 Axes>"
      ]
     },
     "metadata": {},
     "output_type": "display_data"
    },
    {
     "data": {
      "text/html": [
       "<div>\n",
       "<style scoped>\n",
       "    .dataframe tbody tr th:only-of-type {\n",
       "        vertical-align: middle;\n",
       "    }\n",
       "\n",
       "    .dataframe tbody tr th {\n",
       "        vertical-align: top;\n",
       "    }\n",
       "\n",
       "    .dataframe thead th {\n",
       "        text-align: right;\n",
       "    }\n",
       "</style>\n",
       "<table border=\"1\" class=\"dataframe\">\n",
       "  <thead>\n",
       "    <tr style=\"text-align: right;\">\n",
       "      <th></th>\n",
       "      <th>count</th>\n",
       "      <th>proportion</th>\n",
       "    </tr>\n",
       "    <tr>\n",
       "      <th>company_size</th>\n",
       "      <th></th>\n",
       "      <th></th>\n",
       "    </tr>\n",
       "  </thead>\n",
       "  <tbody>\n",
       "    <tr>\n",
       "      <th>M</th>\n",
       "      <td>288</td>\n",
       "      <td>51.89</td>\n",
       "    </tr>\n",
       "    <tr>\n",
       "      <th>L</th>\n",
       "      <td>186</td>\n",
       "      <td>33.51</td>\n",
       "    </tr>\n",
       "    <tr>\n",
       "      <th>S</th>\n",
       "      <td>81</td>\n",
       "      <td>14.59</td>\n",
       "    </tr>\n",
       "  </tbody>\n",
       "</table>\n",
       "</div>"
      ],
      "text/plain": [
       "              count  proportion\n",
       "company_size                   \n",
       "M               288       51.89\n",
       "L               186       33.51\n",
       "S                81       14.59"
      ]
     },
     "metadata": {},
     "output_type": "display_data"
    }
   ],
   "source": [
    "show_categorical_metrics(data.company_size, name='company_size')"
   ]
  },
  {
   "cell_type": "markdown",
   "id": "7058d96c-09ef-4c2b-891a-3798bad20979",
   "metadata": {},
   "source": [
    "Выводы:  \n",
    "- Средние компании - 51.3% ( имеют от 50 до 250 сотрудников)\n",
    "- Крупные компании - 34.2% (имеют более 250 сотрудников)\n",
    "- Небольшие компании - 14.5% (имеют менее 50 сотрудников)"
   ]
  },
  {
   "cell_type": "markdown",
   "id": "fd32d19f-a0db-4847-9e17-57f597aac43e",
   "metadata": {},
   "source": [
    "## Ответы на вопросы бизнеса  \n",
    "[❎ **К ОГЛАВЛЕНИЮ**](#ОГЛАВЛЕНИЕ)"
   ]
  },
  {
   "cell_type": "markdown",
   "id": "70196a6f-896e-4c44-a82b-67349ebc356d",
   "metadata": {},
   "source": [
    "### 4.1 Наблюдается ли ежегодный рост зарплат у специалистов Data Scientist?\n",
    "[❎ **К ОГЛАВЛЕНИЮ**](#ОГЛАВЛЕНИЕ)"
   ]
  },
  {
   "cell_type": "code",
   "execution_count": 32,
   "id": "60fec51d-6d4d-4924-89e1-af74d2a9f190",
   "metadata": {},
   "outputs": [
    {
     "name": "stdout",
     "output_type": "stream",
     "text": [
      "Total DS entries: 173\n"
     ]
    },
    {
     "data": {
      "image/png": "[encoded data removed]",
      "text/plain": [
       "<Figure size 640x480 with 1 Axes>"
      ]
     },
     "metadata": {},
     "output_type": "display_data"
    }
   ],
   "source": [
    "# отфильтруем записи только по Data Scientist\n",
    "mask = data['job_title'] == 'Data Scientist'\n",
    "ds_data = data[mask]\n",
    "print(f'Total DS entries: {ds_data.shape[0]}')\n",
    "\n",
    "ax = sns.boxplot(ds_data, x='salary_in_usd', \n",
    "                 y='work_year', \n",
    "                 orient='h', \n",
    "                 medianprops={\"color\": \"red\", \"linestyle\": '--'})\n",
    "ax.set(xlabel='Размер ЗП', ylabel='Год')\n",
    "plt.title('Распределение ЗП по году')\n",
    "plt.show()"
   ]
  },
  {
   "cell_type": "code",
   "execution_count": 33,
   "id": "c3176878-e25e-476f-bd20-0d922009d770",
   "metadata": {},
   "outputs": [
    {
     "name": "stdout",
     "output_type": "stream",
     "text": [
      "Уровень ЗП в зависимости от года\n"
     ]
    },
    {
     "data": {
      "text/html": [
       "<div>\n",
       "<style scoped>\n",
       "    .dataframe tbody tr th:only-of-type {\n",
       "        vertical-align: middle;\n",
       "    }\n",
       "\n",
       "    .dataframe tbody tr th {\n",
       "        vertical-align: top;\n",
       "    }\n",
       "\n",
       "    .dataframe thead th {\n",
       "        text-align: right;\n",
       "    }\n",
       "</style>\n",
       "<table border=\"1\" class=\"dataframe\">\n",
       "  <thead>\n",
       "    <tr style=\"text-align: right;\">\n",
       "      <th></th>\n",
       "      <th>count</th>\n",
       "      <th>mean</th>\n",
       "      <th>std</th>\n",
       "      <th>min</th>\n",
       "      <th>25%</th>\n",
       "      <th>50%</th>\n",
       "      <th>75%</th>\n",
       "      <th>max</th>\n",
       "    </tr>\n",
       "    <tr>\n",
       "      <th>work_year</th>\n",
       "      <th></th>\n",
       "      <th></th>\n",
       "      <th></th>\n",
       "      <th></th>\n",
       "      <th></th>\n",
       "      <th></th>\n",
       "      <th></th>\n",
       "      <th></th>\n",
       "    </tr>\n",
       "  </thead>\n",
       "  <tbody>\n",
       "    <tr>\n",
       "      <th>2020</th>\n",
       "      <td>26.0</td>\n",
       "      <td>76970.96</td>\n",
       "      <td>43872.86</td>\n",
       "      <td>5707.0</td>\n",
       "      <td>43087.75</td>\n",
       "      <td>65577.0</td>\n",
       "      <td>105000.00</td>\n",
       "      <td>190000.0</td>\n",
       "    </tr>\n",
       "    <tr>\n",
       "      <th>2021</th>\n",
       "      <td>72.0</td>\n",
       "      <td>89232.92</td>\n",
       "      <td>61374.02</td>\n",
       "      <td>2859.0</td>\n",
       "      <td>40437.00</td>\n",
       "      <td>81250.0</td>\n",
       "      <td>121794.25</td>\n",
       "      <td>250000.0</td>\n",
       "    </tr>\n",
       "    <tr>\n",
       "      <th>2022</th>\n",
       "      <td>75.0</td>\n",
       "      <td>135698.04</td>\n",
       "      <td>56344.77</td>\n",
       "      <td>18442.0</td>\n",
       "      <td>99680.00</td>\n",
       "      <td>140000.0</td>\n",
       "      <td>178500.00</td>\n",
       "      <td>260000.0</td>\n",
       "    </tr>\n",
       "  </tbody>\n",
       "</table>\n",
       "</div>"
      ],
      "text/plain": [
       "           count       mean       std      min       25%       50%        75%  \\\n",
       "work_year                                                                       \n",
       "2020        26.0   76970.96  43872.86   5707.0  43087.75   65577.0  105000.00   \n",
       "2021        72.0   89232.92  61374.02   2859.0  40437.00   81250.0  121794.25   \n",
       "2022        75.0  135698.04  56344.77  18442.0  99680.00  140000.0  178500.00   \n",
       "\n",
       "                max  \n",
       "work_year            \n",
       "2020       190000.0  \n",
       "2021       250000.0  \n",
       "2022       260000.0  "
      ]
     },
     "execution_count": 33,
     "metadata": {},
     "output_type": "execute_result"
    }
   ],
   "source": [
    "data_agg = ds_data.groupby('work_year')['salary_in_usd'].describe().round(2)\n",
    "print('Уровень ЗП в зависимости от года')\n",
    "data_agg"
   ]
  },
  {
   "cell_type": "markdown",
   "id": "b7456008-0726-413b-a8dc-261ce9e96f78",
   "metadata": {},
   "source": [
    "На первый взгляд распределения ЗП в разные года различны и растут от года к году.  \n",
    "Чтобы ответить на этот вопрос наверняка, проведём статистическое тестирование."
   ]
  },
  {
   "cell_type": "markdown",
   "id": "a576c813-5e53-43ba-8e40-28671a3cc0b2",
   "metadata": {},
   "source": [
    "**Сформулируем гипотезы:**  \n",
    "- *Нулевая гипотеза* ($H_0$): размер ЗП не зависит от года: 2020 ($μ_1$), 2021 ($μ_2$), 2022 ($μ_3$) \n",
    "\n",
    "$$ H_0 : μ_1 = µ_2 = µ_3$$\n",
    "- *Альтернативная гипотеза* ($H_1$): размер ЗП зависит от года.\n",
    "\n",
    "$$H_1: µ_1 \\neq µ_2 \\neq µ_3$$ \n"
   ]
  },
  {
   "cell_type": "code",
   "execution_count": 34,
   "id": "25d55ddc-cc45-4962-8009-e5ff07f705e4",
   "metadata": {},
   "outputs": [
    {
     "name": "stdout",
     "output_type": "stream",
     "text": [
      "2020 год:\n",
      "p-value = 0.206\n",
      "p-значение больше, чем заданный уровень значимости 0.05. Распределение является нормальным\n",
      "__________________ \n",
      "\n",
      "2021 год:\n",
      "p-value = 0.002\n",
      "p-значение меньше, чем заданный уровень значимости 0.05. Распределение отлично от нормального\n",
      "__________________ \n",
      "\n",
      "2022 год:\n",
      "p-value = 0.328\n",
      "p-значение больше, чем заданный уровень значимости 0.05. Распределение является нормальным\n",
      "__________________ \n",
      "\n"
     ]
    }
   ],
   "source": [
    "# значения заработных плат по годам\n",
    "salary_2020 = ds_data.loc[ds_data['work_year']==2020, 'salary_in_usd']\n",
    "salary_2021 = ds_data.loc[ds_data['work_year']==2021, 'salary_in_usd']\n",
    "salary_2022 = ds_data.loc[ds_data['work_year']==2022, 'salary_in_usd']\n",
    "\n",
    "# проверим на нормальность распределения с помощью теста Шапиро-Уилка\n",
    "shapiro_distribution_tests([[salary_2020, '2020 год'], \n",
    "                            [salary_2021, '2021 год'], \n",
    "                            [salary_2022, '2022 год']])"
   ]
  },
  {
   "cell_type": "markdown",
   "id": "5d588fd2-624f-4b2d-9b2d-7291d7cb9f5e",
   "metadata": {},
   "source": [
    "**Выберем подходящий статистический тест**\n",
    "\n",
    "Для выбора нужного теста воспользуемся алгоритмом выбора теста. Для этого ответим на следующие вопросы:  \n",
    "- Какой тип у признака `salary_in_usd`? — Количественный.\n",
    "- Сколько сравниваемых групп? — Три.\n",
    "- Группы зависимы? — Нет.\n",
    "- Признак распределён по нормальному закону? — Нет.\n",
    "\n",
    "Для проверки нашей гипотезы можно использовать критерий Краскела-Уоллиса.\n",
    "\n",
    "**Проведём тест**"
   ]
  },
  {
   "cell_type": "code",
   "execution_count": 35,
   "id": "e30d6352-27e5-4294-a0da-95322277594d",
   "metadata": {},
   "outputs": [
    {
     "name": "stdout",
     "output_type": "stream",
     "text": [
      "p-value = 0.000\n",
      "p-значение меньше, чем заданный уровень значимости 0.05. Отвергаем нулевую гипотезу в пользу альтернативной.\n"
     ]
    }
   ],
   "source": [
    "# проводим тест\n",
    "_, p = stats.kruskal(salary_2020, salary_2021, salary_2022)\n",
    "decision_hypothesis(p)\n"
   ]
  },
  {
   "cell_type": "markdown",
   "id": "8da40b6f-da34-479d-a0c1-d9103177c152",
   "metadata": {},
   "source": [
    "**Вывод:**  \n",
    "И графически и статистически мы подтвердили, что наблюдается ежегодный рост зарплат у специалистов Data Scientist.  \n",
    "Так в 2020 году медианный уровень зп составлял \\\\$65500, в 2021 году уже \\\\$81250, а в 2022 году \\\\$140000, что говорит о востребованности данной профессии с течением времени."
   ]
  },
  {
   "cell_type": "markdown",
   "id": "aeb72b02-b35a-472b-bc6a-6ffb01a9ba60",
   "metadata": {},
   "source": [
    "### 4.2 Как соотносятся зарплаты Data Scientist и Data Engineer в 2022 году?\n",
    "[❎ **К ОГЛАВЛЕНИЮ**](#ОГЛАВЛЕНИЕ)"
   ]
  },
  {
   "cell_type": "code",
   "execution_count": 36,
   "id": "1e41d8c7-d71f-4de6-8574-2d4f3ef3d5e0",
   "metadata": {},
   "outputs": [
    {
     "data": {
      "image/png": "[encoded data removed]",
      "text/plain": [
       "<Figure size 640x480 with 1 Axes>"
      ]
     },
     "metadata": {},
     "output_type": "display_data"
    }
   ],
   "source": [
    "mask = data['work_year'] == 2022\n",
    "data_2022 = data[mask]\n",
    "\n",
    "# визуализируем распределение зп по должностям с помощью коробчатой диаграммы (boxplot)\n",
    "ax = sns.boxplot(data_2022, x='salary_in_usd', y='job_title', orient='h', medianprops={\"color\": \"red\", \"linestyle\": '--'})\n",
    "ax.set(xlabel='Размер ЗП', ylabel='Должность')\n",
    "plt.title('Распределение ЗП по должностям в 2022 году')\n",
    "plt.show()"
   ]
  },
  {
   "cell_type": "code",
   "execution_count": 37,
   "id": "50a7bb32-2905-4dcd-9264-96803f5bfd2e",
   "metadata": {},
   "outputs": [
    {
     "name": "stdout",
     "output_type": "stream",
     "text": [
      "ЗП в зависимости от должности\n"
     ]
    },
    {
     "data": {
      "text/html": [
       "<div>\n",
       "<style scoped>\n",
       "    .dataframe tbody tr th:only-of-type {\n",
       "        vertical-align: middle;\n",
       "    }\n",
       "\n",
       "    .dataframe tbody tr th {\n",
       "        vertical-align: top;\n",
       "    }\n",
       "\n",
       "    .dataframe thead th {\n",
       "        text-align: right;\n",
       "    }\n",
       "</style>\n",
       "<table border=\"1\" class=\"dataframe\">\n",
       "  <thead>\n",
       "    <tr style=\"text-align: right;\">\n",
       "      <th></th>\n",
       "      <th>count</th>\n",
       "      <th>mean</th>\n",
       "      <th>std</th>\n",
       "      <th>min</th>\n",
       "      <th>25%</th>\n",
       "      <th>50%</th>\n",
       "      <th>75%</th>\n",
       "      <th>max</th>\n",
       "    </tr>\n",
       "    <tr>\n",
       "      <th>job_title</th>\n",
       "      <th></th>\n",
       "      <th></th>\n",
       "      <th></th>\n",
       "      <th></th>\n",
       "      <th></th>\n",
       "      <th></th>\n",
       "      <th></th>\n",
       "      <th></th>\n",
       "    </tr>\n",
       "  </thead>\n",
       "  <tbody>\n",
       "    <tr>\n",
       "      <th>Data Architect</th>\n",
       "      <td>8.0</td>\n",
       "      <td>182076.62</td>\n",
       "      <td>53336.64</td>\n",
       "      <td>90700.0</td>\n",
       "      <td>147063.5</td>\n",
       "      <td>192482.0</td>\n",
       "      <td>209861.25</td>\n",
       "      <td>266400.0</td>\n",
       "    </tr>\n",
       "    <tr>\n",
       "      <th>Data Scientist</th>\n",
       "      <td>75.0</td>\n",
       "      <td>135698.04</td>\n",
       "      <td>56344.77</td>\n",
       "      <td>18442.0</td>\n",
       "      <td>99680.0</td>\n",
       "      <td>140000.0</td>\n",
       "      <td>178500.00</td>\n",
       "      <td>260000.0</td>\n",
       "    </tr>\n",
       "    <tr>\n",
       "      <th>CV Engineer</th>\n",
       "      <td>3.0</td>\n",
       "      <td>95000.00</td>\n",
       "      <td>74665.92</td>\n",
       "      <td>10000.0</td>\n",
       "      <td>67500.0</td>\n",
       "      <td>125000.0</td>\n",
       "      <td>137500.00</td>\n",
       "      <td>150000.0</td>\n",
       "    </tr>\n",
       "    <tr>\n",
       "      <th>Data Engineer</th>\n",
       "      <td>90.0</td>\n",
       "      <td>123140.01</td>\n",
       "      <td>53517.55</td>\n",
       "      <td>20000.0</td>\n",
       "      <td>78526.0</td>\n",
       "      <td>117988.0</td>\n",
       "      <td>159750.00</td>\n",
       "      <td>243900.0</td>\n",
       "    </tr>\n",
       "    <tr>\n",
       "      <th>Research Scientist</th>\n",
       "      <td>4.0</td>\n",
       "      <td>105569.00</td>\n",
       "      <td>34111.30</td>\n",
       "      <td>64849.0</td>\n",
       "      <td>86282.5</td>\n",
       "      <td>106713.5</td>\n",
       "      <td>126000.00</td>\n",
       "      <td>144000.0</td>\n",
       "    </tr>\n",
       "    <tr>\n",
       "      <th>Data Analyst</th>\n",
       "      <td>66.0</td>\n",
       "      <td>101231.48</td>\n",
       "      <td>41686.74</td>\n",
       "      <td>18442.0</td>\n",
       "      <td>69478.0</td>\n",
       "      <td>105630.0</td>\n",
       "      <td>128968.75</td>\n",
       "      <td>205300.0</td>\n",
       "    </tr>\n",
       "    <tr>\n",
       "      <th>ML Engineer</th>\n",
       "      <td>27.0</td>\n",
       "      <td>107868.70</td>\n",
       "      <td>54478.93</td>\n",
       "      <td>21983.0</td>\n",
       "      <td>73222.0</td>\n",
       "      <td>87932.0</td>\n",
       "      <td>138666.50</td>\n",
       "      <td>220000.0</td>\n",
       "    </tr>\n",
       "    <tr>\n",
       "      <th>ETL Developer</th>\n",
       "      <td>1.0</td>\n",
       "      <td>54957.00</td>\n",
       "      <td>NaN</td>\n",
       "      <td>54957.0</td>\n",
       "      <td>54957.0</td>\n",
       "      <td>54957.0</td>\n",
       "      <td>54957.00</td>\n",
       "      <td>54957.0</td>\n",
       "    </tr>\n",
       "    <tr>\n",
       "      <th>NLP Engineer</th>\n",
       "      <td>1.0</td>\n",
       "      <td>37236.00</td>\n",
       "      <td>NaN</td>\n",
       "      <td>37236.0</td>\n",
       "      <td>37236.0</td>\n",
       "      <td>37236.0</td>\n",
       "      <td>37236.00</td>\n",
       "      <td>37236.0</td>\n",
       "    </tr>\n",
       "  </tbody>\n",
       "</table>\n",
       "</div>"
      ],
      "text/plain": [
       "                    count       mean       std      min       25%       50%  \\\n",
       "job_title                                                                     \n",
       "Data Architect        8.0  182076.62  53336.64  90700.0  147063.5  192482.0   \n",
       "Data Scientist       75.0  135698.04  56344.77  18442.0   99680.0  140000.0   \n",
       "CV Engineer           3.0   95000.00  74665.92  10000.0   67500.0  125000.0   \n",
       "Data Engineer        90.0  123140.01  53517.55  20000.0   78526.0  117988.0   \n",
       "Research Scientist    4.0  105569.00  34111.30  64849.0   86282.5  106713.5   \n",
       "Data Analyst         66.0  101231.48  41686.74  18442.0   69478.0  105630.0   \n",
       "ML Engineer          27.0  107868.70  54478.93  21983.0   73222.0   87932.0   \n",
       "ETL Developer         1.0   54957.00       NaN  54957.0   54957.0   54957.0   \n",
       "NLP Engineer          1.0   37236.00       NaN  37236.0   37236.0   37236.0   \n",
       "\n",
       "                          75%       max  \n",
       "job_title                                \n",
       "Data Architect      209861.25  266400.0  \n",
       "Data Scientist      178500.00  260000.0  \n",
       "CV Engineer         137500.00  150000.0  \n",
       "Data Engineer       159750.00  243900.0  \n",
       "Research Scientist  126000.00  144000.0  \n",
       "Data Analyst        128968.75  205300.0  \n",
       "ML Engineer         138666.50  220000.0  \n",
       "ETL Developer        54957.00   54957.0  \n",
       "NLP Engineer         37236.00   37236.0  "
      ]
     },
     "execution_count": 37,
     "metadata": {},
     "output_type": "execute_result"
    }
   ],
   "source": [
    "data_agg = data_2022.groupby('job_title')['salary_in_usd'] \\\n",
    "                    .describe() \\\n",
    "                    .sort_values(by=['50%'], ascending=False) \\\n",
    "                    .round(2)\n",
    "print('ЗП в зависимости от должности')\n",
    "data_agg"
   ]
  },
  {
   "cell_type": "markdown",
   "id": "98f05962-3448-4aef-ab45-010d5884bc40",
   "metadata": {},
   "source": [
    "Исходя из описательных статистик уровня зп в 2022 году и графика распределения boxplot, можно выделить ТОП-3 роли с самыми высокими медианными заработными платами:  \n",
    "1. Data Architect - \\\\$192482.0\n",
    "2. Data Scientist - \\\\$140000.0\n",
    "3. CV Engineer - \\\\$125000.0\n",
    " \n",
    "Однако, стоит учесть, что выборка на позицию CV Engineer слишком мала(всего 3 записи).  \n",
    "Поэтому мы отдадим третье место роли Data Engineer\t- \\\\$117988.0.\n",
    "\n",
    "Исходя из полученных выше данных, можно предположить, что уровень ЗП у Data Scientist выше чем у Data Engineer.  \n",
    "Давайте проверим это с помощью статистического анализа."
   ]
  },
  {
   "cell_type": "markdown",
   "id": "ae1403c5-47f9-4215-b01f-915269fe722a",
   "metadata": {},
   "source": [
    "Предположим, что размер заработной платы для Data Scientist выше чем для Data Engineer в 2022 году. \n",
    "\n",
    "**Сформулируем нулевую и альтернативные гипотезы**\n",
    "\n",
    "*Нулевая гипотеза* ($H_0$): размер зп для Data Scientist ($μ_1$) статистически меньше либо равен размеру зп для Data Engineer ($μ_2$).\n",
    "\n",
    "$$ H_0 : μ_1 <= μ_2$$\n",
    "\n",
    "*Альтернативная гипотеза* ($H_1$): размер зп для Data Scientist ($μ_1$) статистически больше, чем размер зп для Data Engineer ($μ_2$).\n",
    "\n",
    "$$ H_1 : μ_1 > μ_2$$"
   ]
  },
  {
   "cell_type": "markdown",
   "id": "115dc1c0-632f-4eef-b3f9-6b43fc0ac34f",
   "metadata": {},
   "source": [
    "**Проверка на нормальность**\n",
    "\n",
    "С помощью теста Шапиро-Уилка проверим, распределён ли признак нормально.  \n",
    "Напомним гипотезы теста Шапиро-Уилка:  \n",
    "- *Нулевая гипотеза* ($H_0$): распределение данных является нормальным.\n",
    "- *Альтернативная гипотеза* ($H_1$): распределение данных отлично от нормального."
   ]
  },
  {
   "cell_type": "code",
   "execution_count": 38,
   "id": "ee47e1d0-057e-4e55-9843-49b35af57edb",
   "metadata": {},
   "outputs": [
    {
     "name": "stdout",
     "output_type": "stream",
     "text": [
      "Data Scientist:\n",
      "p-value = 0.328\n",
      "p-значение больше, чем заданный уровень значимости 0.05. Распределение является нормальным\n",
      "__________________ \n",
      "\n",
      "Data Engineer:\n",
      "p-value = 0.063\n",
      "p-значение больше, чем заданный уровень значимости 0.05. Распределение является нормальным\n",
      "__________________ \n",
      "\n"
     ]
    }
   ],
   "source": [
    "# значения заработных плат\n",
    "salary_ds = data_2022.loc[data_2022['job_title']=='Data Scientist', 'salary_in_usd']\n",
    "salary_de = data_2022.loc[data_2022['job_title']=='Data Engineer', 'salary_in_usd']\n",
    "\n",
    "# проверим распределения на нормальность с помощью теста Шапиро-Уилка\n",
    "shapiro_distribution_tests([[salary_ds, 'Data Scientist'], \n",
    "                            [salary_de, 'Data Engineer']])\n"
   ]
  },
  {
   "cell_type": "markdown",
   "id": "51f1f577-f43d-4cee-8edc-92c4c2d8bba9",
   "metadata": {},
   "source": [
    "**Выберем подходящий статистический тест**\n",
    "\n",
    "Для выбора нужного теста воспользуемся алгоритмом выбора теста. Для этого ответим на следующие вопросы:\n",
    "* Какой тип у признака «salary_in_usd»(Зарплата в долларах США)? — Количественный.\n",
    "* Сколько сравниваемых групп? — Две.\n",
    "* Группы зависимы? — Нет.\n",
    "* Признак распределён по нормальному закону? — Да.\n",
    "\n",
    "Чтобы проверить нашу гипотезу, можно использовать **двухвыборочный t-критерий** для сравнения средних значений в двух независимых группах.\n",
    "\n",
    "Однако, для использования этого критерия необходимо так же установить равенство (или неравенство) дисперсий в выборках. Для проверки равенства дисперсий воспользуемся тестом Левена.  "
   ]
  },
  {
   "cell_type": "markdown",
   "id": "ed20cd4b-f1f4-489b-90aa-32fe5d736837",
   "metadata": {},
   "source": [
    "**Проведём тест**"
   ]
  },
  {
   "cell_type": "code",
   "execution_count": 39,
   "id": "b44f0899-3044-4b7e-a25d-007f19850326",
   "metadata": {},
   "outputs": [
    {
     "name": "stdout",
     "output_type": "stream",
     "text": [
      "Тест на равенство дисперсий\n",
      "p-value = 0.749\n",
      "Дисперсии одинаковы, в stats.ttest_ind используем параметр equal_var=True.\n",
      "\n",
      "Тест на равенство средних\n",
      "p-value = 0.072\n",
      "p-значение больше, чем заданный уровень значимости 0.05. У нас нет оснований отвергнуть нулевую гипотезу.\n"
     ]
    }
   ],
   "source": [
    "# Проведём тест на равенство дисперсий в выборках и \n",
    "# определим значение параметра equal_var для теста stats.ttest_ind\n",
    "is_variances_equal = levene_test(salary_ds, salary_de)\n",
    "\n",
    "# проводим тест на сравнение средних в группах\n",
    "print('\\nТест на равенство средних')\n",
    "_, p = stats.ttest_ind(salary_ds, salary_de, alternative='greater', equal_var=is_variances_equal)\n",
    "decision_hypothesis(p)\n"
   ]
  },
  {
   "cell_type": "markdown",
   "id": "a4cab799-85eb-4f79-a668-dfe28ded0031",
   "metadata": {},
   "source": [
    "**Вывод:**  \n",
    "Таким образом мы с уверенность можем утверждать, что в 2022 году средний уровень ЗП Data Scientist не превышал таковой у Data Engineer."
   ]
  },
  {
   "cell_type": "markdown",
   "id": "5f3f8155-2fcd-45e9-9115-80978fb234b9",
   "metadata": {},
   "source": [
    "### 4.3 Как соотносятся зарплаты специалистов Data Scientist в компаниях различных размеров?\n",
    "[❎ **К ОГЛАВЛЕНИЮ**](#ОГЛАВЛЕНИЕ)"
   ]
  },
  {
   "cell_type": "code",
   "execution_count": 40,
   "id": "e73cc975-0d4d-4b70-a9fb-7b6eda03dad4",
   "metadata": {},
   "outputs": [
    {
     "data": {
      "image/png": "[encoded data removed]",
      "text/plain": [
       "<Figure size 640x480 with 1 Axes>"
      ]
     },
     "metadata": {},
     "output_type": "display_data"
    }
   ],
   "source": [
    "mask = data['job_title'] == 'Data Scientist'\n",
    "ds_df = data[mask]\n",
    "\n",
    "ax = sns.boxplot(ds_df, x='salary_in_usd', y='company_size', orient='h', medianprops={\"color\": \"red\", \"linestyle\": '--'})\n",
    "ax.set(xlabel='Размер ЗП', ylabel='Размеры компаний')\n",
    "plt.title('Распределение ЗП по размерам компаний')\n",
    "plt.show()"
   ]
  },
  {
   "cell_type": "code",
   "execution_count": 41,
   "id": "0fa8cdab-2f54-4ef8-9cbd-d622b33c4f6b",
   "metadata": {},
   "outputs": [
    {
     "name": "stdout",
     "output_type": "stream",
     "text": [
      "ЗП Data Scientist в зависимости от размера компании\n"
     ]
    },
    {
     "data": {
      "text/html": [
       "<div>\n",
       "<style scoped>\n",
       "    .dataframe tbody tr th:only-of-type {\n",
       "        vertical-align: middle;\n",
       "    }\n",
       "\n",
       "    .dataframe tbody tr th {\n",
       "        vertical-align: top;\n",
       "    }\n",
       "\n",
       "    .dataframe thead th {\n",
       "        text-align: right;\n",
       "    }\n",
       "</style>\n",
       "<table border=\"1\" class=\"dataframe\">\n",
       "  <thead>\n",
       "    <tr style=\"text-align: right;\">\n",
       "      <th></th>\n",
       "      <th>count</th>\n",
       "      <th>mean</th>\n",
       "      <th>std</th>\n",
       "      <th>min</th>\n",
       "      <th>25%</th>\n",
       "      <th>50%</th>\n",
       "      <th>75%</th>\n",
       "      <th>max</th>\n",
       "    </tr>\n",
       "    <tr>\n",
       "      <th>company_size</th>\n",
       "      <th></th>\n",
       "      <th></th>\n",
       "      <th></th>\n",
       "      <th></th>\n",
       "      <th></th>\n",
       "      <th></th>\n",
       "      <th></th>\n",
       "      <th></th>\n",
       "    </tr>\n",
       "  </thead>\n",
       "  <tbody>\n",
       "    <tr>\n",
       "      <th>M</th>\n",
       "      <td>78.0</td>\n",
       "      <td>121277.22</td>\n",
       "      <td>57834.12</td>\n",
       "      <td>4000.0</td>\n",
       "      <td>81250.0</td>\n",
       "      <td>120080.0</td>\n",
       "      <td>164418.5</td>\n",
       "      <td>260000.0</td>\n",
       "    </tr>\n",
       "    <tr>\n",
       "      <th>L</th>\n",
       "      <td>64.0</td>\n",
       "      <td>113121.98</td>\n",
       "      <td>63927.97</td>\n",
       "      <td>13400.0</td>\n",
       "      <td>54809.5</td>\n",
       "      <td>109518.5</td>\n",
       "      <td>157300.0</td>\n",
       "      <td>250000.0</td>\n",
       "    </tr>\n",
       "    <tr>\n",
       "      <th>S</th>\n",
       "      <td>31.0</td>\n",
       "      <td>61417.35</td>\n",
       "      <td>44984.57</td>\n",
       "      <td>2859.0</td>\n",
       "      <td>23600.5</td>\n",
       "      <td>51321.0</td>\n",
       "      <td>88869.0</td>\n",
       "      <td>190000.0</td>\n",
       "    </tr>\n",
       "  </tbody>\n",
       "</table>\n",
       "</div>"
      ],
      "text/plain": [
       "              count       mean       std      min      25%       50%  \\\n",
       "company_size                                                           \n",
       "M              78.0  121277.22  57834.12   4000.0  81250.0  120080.0   \n",
       "L              64.0  113121.98  63927.97  13400.0  54809.5  109518.5   \n",
       "S              31.0   61417.35  44984.57   2859.0  23600.5   51321.0   \n",
       "\n",
       "                   75%       max  \n",
       "company_size                      \n",
       "M             164418.5  260000.0  \n",
       "L             157300.0  250000.0  \n",
       "S              88869.0  190000.0  "
      ]
     },
     "execution_count": 41,
     "metadata": {},
     "output_type": "execute_result"
    }
   ],
   "source": [
    "data_agg = ds_df.groupby('company_size')['salary_in_usd'] \\\n",
    "                .describe() \\\n",
    "                .sort_values(by=['50%'], ascending=False) \\\n",
    "                .round(2)\n",
    "print('ЗП Data Scientist в зависимости от размера компании')\n",
    "data_agg"
   ]
  },
  {
   "cell_type": "markdown",
   "id": "cce39040-1d1b-466b-af47-97029495bb27",
   "metadata": {},
   "source": [
    "На первый взгляд кажется, что уровни ЗП в компаниях разных размеров различны.  \n",
    "Давайте выясним это опираясь на силу статистических тестов."
   ]
  },
  {
   "cell_type": "markdown",
   "id": "74d5e343-6ebf-4adf-94a3-fba2ef9f9993",
   "metadata": {},
   "source": [
    "**Сформулируем нулевую и альтернативные гипотезы**\n",
    "\n",
    "*Нулевая гипотеза* ($H_0$): уровни зп для компаний размеров S($μ_1$) M($μ_2$) и L($μ_3$) равны между собой.\n",
    "\n",
    "$$ H_0 : μ_1 = μ_2 = μ_3$$\n",
    "\n",
    "*Альтернативная гипотеза* ($H_1$): уровни зп для компаний размеров S($μ_1$) M($μ_2$) и L($μ_3$) не равны между собой.\n",
    "\n",
    "$$ H_1 : μ_1 \\neq μ_2 \\neq µ_3$$"
   ]
  },
  {
   "cell_type": "code",
   "execution_count": 42,
   "id": "cc0c8f58-e1fe-4a75-a481-6862abe03bc1",
   "metadata": {},
   "outputs": [
    {
     "name": "stdout",
     "output_type": "stream",
     "text": [
      "company_size S:\n",
      "p-value = 0.019\n",
      "p-значение меньше, чем заданный уровень значимости 0.05. Распределение отлично от нормального\n",
      "__________________ \n",
      "\n",
      "company_size M:\n",
      "p-value = 0.807\n",
      "p-значение больше, чем заданный уровень значимости 0.05. Распределение является нормальным\n",
      "__________________ \n",
      "\n",
      "company_size L:\n",
      "p-value = 0.011\n",
      "p-значение меньше, чем заданный уровень значимости 0.05. Распределение отлично от нормального\n",
      "__________________ \n",
      "\n"
     ]
    }
   ],
   "source": [
    "# значения заработных плат\n",
    "salary_size_s = ds_df.loc[ds_df['company_size']=='S', 'salary_in_usd']\n",
    "salary_size_m = ds_df.loc[ds_df['company_size']=='M', 'salary_in_usd']\n",
    "salary_size_l = ds_df.loc[ds_df['company_size']=='L', 'salary_in_usd']\n",
    "\n",
    "# проверим распределения на нормальность с помощью теста Шапиро-Уилка\n",
    "shapiro_distribution_tests([[salary_size_s, 'company_size S'], \n",
    "                            [salary_size_m, 'company_size M'],\n",
    "                           [salary_size_l, 'company_size L']])\n"
   ]
  },
  {
   "cell_type": "markdown",
   "id": "b8fc2e29-e689-4ad2-af2a-17357e376f4a",
   "metadata": {},
   "source": [
    "**Выберем подходящий статистический тест**\n",
    "\n",
    "Для выбора нужного теста воспользуемся алгоритмом выбора теста. Для этого ответим на следующие вопросы:  \n",
    "- Какой тип у признака `salary_in_usd`? — Количественный.\n",
    "- Сколько сравниваемых групп? — Три.\n",
    "- Группы зависимы? — Нет.\n",
    "- Признак распределён по нормальному закону? — Нет.\n",
    "\n",
    "Для проверки нашей гипотезы можно использовать критерий Краскела-Уоллиса.\n",
    "\n",
    "**Проведём тест**"
   ]
  },
  {
   "cell_type": "code",
   "execution_count": 43,
   "id": "2d4d57b6-2d38-46b3-8423-a5aef585b129",
   "metadata": {},
   "outputs": [
    {
     "name": "stdout",
     "output_type": "stream",
     "text": [
      "p-value = 0.000\n",
      "p-значение меньше, чем заданный уровень значимости 0.05. Отвергаем нулевую гипотезу в пользу альтернативной.\n"
     ]
    }
   ],
   "source": [
    "# проводим тест\n",
    "_, p = stats.kruskal(salary_size_s, salary_size_m, salary_size_l)\n",
    "decision_hypothesis(p)"
   ]
  },
  {
   "cell_type": "markdown",
   "id": "bd01d985-2648-4100-979e-be1c67624bcf",
   "metadata": {},
   "source": [
    "**Вывод:**  \n",
    "Мы статистически подтвердили наличия разницы в уровне заработных плат в компаниях разных размеров, а именно:  \n",
    "- меньше всего получают в компаниях размера S, медиана ЗП на уровне \\\\$51000  \n",
    "- более чем в 2 раза платят в компаниях размера L, мениана на уровне \\\\$109518 \n",
    "- больше всех платят в компаниях размера M, мениана на уровне \\\\$120080"
   ]
  },
  {
   "cell_type": "markdown",
   "id": "c1ba6ce7-84ea-4ecf-aa80-8546c0415463",
   "metadata": {},
   "source": [
    "### 4.4 Есть ли связь между наличием должностей Data Scientist и Data Engineer и размером компании?\n",
    "[❎ **К ОГЛАВЛЕНИЮ**](#ОГЛАВЛЕНИЕ)"
   ]
  },
  {
   "cell_type": "markdown",
   "id": "157420af-b272-4c1e-b618-d1889e0f7cfc",
   "metadata": {},
   "source": [
    "Чтобы ответить на этот вопрос необходимо проанализировать взаимосвязь между двумя признаками объектов одной выборки.  Для этого используем критерий Хи-квадрат.\n",
    "\n",
    "**Сформулируем нулевую и альтернативные гипотезы**\n",
    "\n",
    "*Нулевая гипотеза* ($H_0$): признаки *company_size* ($μ_1$) и *job_title* M($μ_2$) независимы.  \n",
    "*Альтернативная гипотеза* ($H_1$): признаки *company_size* ($μ_1$) и *job_title* M($μ_2$) взаимосвязаны.\n"
   ]
  },
  {
   "cell_type": "markdown",
   "id": "cbb57812-1430-4c99-9b15-de9d69dd04bf",
   "metadata": {},
   "source": [
    "Для начала нам нужно предобработаться наши данные и создать дополнительный бинарный признак *ds_or_de* - является ли должность в признаке *job_title* Data Scientist и Data Engineer."
   ]
  },
  {
   "cell_type": "code",
   "execution_count": 44,
   "id": "5b78b265-daf3-4453-bce2-77a9bb03080a",
   "metadata": {},
   "outputs": [],
   "source": [
    "# data preprocessing\n",
    "data['ds_or_de'] = 'No'\n",
    "mask = data['job_title'].isin(['Data Scientist', 'Data Engineer'])\n",
    "data.loc[mask, 'ds_or_de'] = 'Yes'"
   ]
  },
  {
   "cell_type": "markdown",
   "id": "0ea7195a-a525-4ba9-b7e5-8216d50d9f2e",
   "metadata": {},
   "source": [
    "**Сформулируем нулевую и альтернативные гипотезы**\n",
    "\n",
    "*Нулевая гипотеза* ($H_0$): между наличием должностей Data Scientist и Data Engineer и размером компании нет взаимосвязи (признаки независимы).\n",
    "\n",
    "*Альтернативная гипотеза* ($H_1$): между наличием должностей Data Scientist и Data Engineer и размером компании есть взаимосвязь (признаки зависимы)."
   ]
  },
  {
   "cell_type": "markdown",
   "id": "a91f5683-6716-4b46-814e-31f6f9e67126",
   "metadata": {},
   "source": [
    "**Выберем подходящий статистический тест**\n",
    "\n",
    "Для выбора нужного теста воспользуемся алгоритмом выбора теста. Для этого ответим на следующие вопросы:\n",
    "* Какой тип у признака «company_size»? — Категориальный.\n",
    "* Сколько сравниваемых групп? — Три.\n",
    "* Проверяется независимость групп? — Да.\n",
    "\n",
    "Для проверки нашей гипотезы можно использовать критерий ${\\chi}^2$ (хи-квадрат).\n",
    "\n",
    "**Проведём тест**"
   ]
  },
  {
   "cell_type": "code",
   "execution_count": 45,
   "id": "c9e2d055-cdb8-42a3-bac7-6bfb9b0d42b4",
   "metadata": {},
   "outputs": [
    {
     "data": {
      "image/png": "[encoded data removed]",
      "text/plain": [
       "<Figure size 640x480 with 2 Axes>"
      ]
     },
     "metadata": {},
     "output_type": "display_data"
    },
    {
     "name": "stdout",
     "output_type": "stream",
     "text": [
      "p-value = 0.289\n",
      "p-значение больше, чем заданный уровень значимости 0.05. У нас нет оснований отвергнуть нулевую гипотезу.\n"
     ]
    }
   ],
   "source": [
    "# задаём уровень значимости\n",
    "alpha = 0.05 \n",
    "\n",
    "# вычисляем таблицу сопряжённости\n",
    "cross_table = pd.crosstab(data['company_size'], data['ds_or_de'])\n",
    "\n",
    "# отобразим таблицу сопряженности\n",
    "ax = sns.heatmap(cross_table, annot=True, linewidth=.5, fmt='.0f', cmap=\"coolwarm\")\n",
    "ax.set(xlabel='Должность Data Scientist или Data Engineer', ylabel='Размер компании')\n",
    "plt.title('Таблица сопряженности')\n",
    "plt.show()\n",
    "\n",
    "\n",
    "# проводим тест\n",
    "_, p, _, _ = stats.chi2_contingency(cross_table)\n",
    "decision_hypothesis(p)\n"
   ]
  },
  {
   "cell_type": "markdown",
   "id": "47569d2f-6d63-45a6-90ab-85acfeb82522",
   "metadata": {},
   "source": [
    "**Вывод:**  \n",
    "Таким образом мы можем утверждать, что связи между этими признаками нет, они независимы."
   ]
  },
  {
   "cell_type": "markdown",
   "id": "f95e11ed-4b55-42a0-b663-fc4126dfb530",
   "metadata": {},
   "source": [
    "### 4.5 Какие факторы влияют на зарплату специалиста Data Scientist?\n",
    "[❎ **К ОГЛАВЛЕНИЮ**](#ОГЛАВЛЕНИЕ)"
   ]
  },
  {
   "cell_type": "markdown",
   "id": "84992764-64e2-452c-acea-539c6c3c72a2",
   "metadata": {},
   "source": [
    "Чтобы ответить на вопрос выше мы проанализируем отдельно взаимосвязь каждого признака с заработной платой."
   ]
  },
  {
   "cell_type": "code",
   "execution_count": 46,
   "id": "ae4cb497-5f7d-4b6b-9e4a-061e7c0eee40",
   "metadata": {},
   "outputs": [
    {
     "name": "stdout",
     "output_type": "stream",
     "text": [
      "Total DS entries: 173\n"
     ]
    }
   ],
   "source": [
    "# отфильтруем записи только по Data Scientist\n",
    "mask = data['job_title'] == 'Data Scientist'\n",
    "ds_data = data[mask]\n",
    "print(f'Total DS entries: {ds_data.shape[0]}')"
   ]
  },
  {
   "cell_type": "markdown",
   "id": "ab7131e0-d3ff-4a37-9e50-8e0bcba2af2c",
   "metadata": {},
   "source": [
    "**4.4.1 признак work_year**  \n",
    "Влияет ли год получения зп на ее уровень?  \n",
    "\n",
    "На этот вопрос был получен ответ в п 4.1 данного проекта. "
   ]
  },
  {
   "cell_type": "markdown",
   "id": "2ee72799-93d8-4eca-a96d-03bb58cf745a",
   "metadata": {},
   "source": [
    "**4.4.2 признак experience_level**  \n",
    "Влияет ли опыт работы на уровень заработной платы?"
   ]
  },
  {
   "cell_type": "markdown",
   "id": "a586f0a7-0df1-414d-8d79-2b19027f84f2",
   "metadata": {},
   "source": [
    "**Сформулируем гипотезы:**  \n",
    "- *Нулевая гипотеза* ($H_0$): размер ЗП не зависит от опыта работы: EN ($μ_1$), MI ($μ_2$), SE ($μ_3$), EX ($μ_4$) \n",
    "\n",
    "$$ H_0 : μ_1 = μ_2 = μ_3 = μ_4$$\n",
    "- *Альтернативная гипотеза* ($H_1$): размер ЗП зависит от опыта работы.\n",
    "\n",
    "$$ H_1 : μ_1 \\neq μ_2 \\neq μ_3 \\neq μ_4$$ \n"
   ]
  },
  {
   "cell_type": "code",
   "execution_count": 65,
   "id": "f2ae733e-1da6-4289-b746-1ec7d09b3e68",
   "metadata": {},
   "outputs": [
    {
     "name": "stdout",
     "output_type": "stream",
     "text": [
      "experience_level EN:\n",
      "p-value = 0.092\n",
      "p-значение больше, чем заданный уровень значимости 0.05. Распределение является нормальным\n",
      "__________________ \n",
      "\n",
      "experience_level MI:\n",
      "p-value = 0.094\n",
      "p-значение больше, чем заданный уровень значимости 0.05. Распределение является нормальным\n",
      "__________________ \n",
      "\n",
      "experience_level SE:\n",
      "p-value = 0.869\n",
      "p-значение больше, чем заданный уровень значимости 0.05. Распределение является нормальным\n",
      "__________________ \n",
      "\n",
      "experience_level EX:\n",
      "p-value = 0.474\n",
      "p-значение больше, чем заданный уровень значимости 0.05. Распределение является нормальным\n",
      "__________________ \n",
      "\n"
     ]
    }
   ],
   "source": [
    "# значения заработных плат\n",
    "salary_en = ds_data.loc[ds_data['experience_level']=='EN', 'salary_in_usd']\n",
    "salary_mi = ds_data.loc[ds_data['experience_level']=='MI', 'salary_in_usd']\n",
    "salary_se = ds_data.loc[ds_data['experience_level']=='SE', 'salary_in_usd']\n",
    "salary_ex = ds_data.loc[ds_data['experience_level']=='EX', 'salary_in_usd']\n",
    "\n",
    "# проверим на нормальность распределения с помощью теста Шапиро-Уилка\n",
    "shapiro_distribution_tests([[salary_en, 'experience_level EN'], \n",
    "                            [salary_mi, 'experience_level MI'], \n",
    "                            [salary_se, 'experience_level SE'],\n",
    "                            [salary_ex, 'experience_level EX']])\n",
    "\n"
   ]
  },
  {
   "cell_type": "markdown",
   "id": "bd5b9364-195e-40a5-8fa9-09595ac54e08",
   "metadata": {},
   "source": [
    "**Выберем подходящий статистический тест**\n",
    "\n",
    "Для выбора нужного теста воспользуемся алгоритмом выбора теста. Для этого ответим на следующие вопросы:  \n",
    "- Какой тип у признака `salary_in_usd`? — Количественный.\n",
    "- Сколько сравниваемых групп? — Четыре.\n",
    "- Группы зависимы? — Нет.\n",
    "- Признак распределён по нормальному закону? — Да.\n",
    "<!-- - Признак распределён по нормальному закону? — Нет, так как не все выборки распределены нормально. -->\n",
    "\n",
    "Для проверки нашей гипотезы можно использовать Однофакторный дисперсионный анализ (ANOVA)\n",
    "<!-- критерий Краскела — Уоллиса. -->\n",
    "\n",
    "Для проведения теста ANOVA требуется проверить распределения в группах на равенство дисперсий. Сделаем это с помощью теста Левена."
   ]
  },
  {
   "cell_type": "code",
   "execution_count": 66,
   "id": "af27e1cb-afe8-4a1b-be0f-017e22af19b4",
   "metadata": {},
   "outputs": [
    {
     "name": "stdout",
     "output_type": "stream",
     "text": [
      "Тест на равенство дисперсий\n",
      "p-value = 0.033\n",
      "p-значение меньше, чем заданный уровень значимости 0.05. Отвергаем нулевую гипотезу в пользу альтернативной.\n"
     ]
    }
   ],
   "source": [
    "# проводим тест Левена на равенство дисперсий\n",
    "print('Тест на равенство дисперсий')\n",
    "result = stats.levene(salary_en, salary_mi, salary_se, salary_ex)\n",
    "p = result[1]\n",
    "decision_hypothesis(p)"
   ]
  },
  {
   "cell_type": "markdown",
   "id": "25b6384c-ff23-4bb0-bc76-947ec92a4682",
   "metadata": {},
   "source": [
    "Таким образом равенство дисперсий в выборках не подтвердилась и мы не можем использовать Однофакторный дисперсионный анализ (ANOVA). Поэтому воспользуемся тестом Уэлча (Welch's ANOVA) - это модификация стандартного ANOVA, которая не требует равенства дисперсий. Тест Уэлча более устойчив к различиям в дисперсиях между группами и является хорошей альтернативой в случае нарушения этого предположения."
   ]
  },
  {
   "cell_type": "markdown",
   "id": "5cd5e686-163e-49fa-88ce-32b8e5aab8dc",
   "metadata": {},
   "source": [
    "Тест Уэлча реализован в бибилиотеке pingouin, которую необходимо заранее установить."
   ]
  },
  {
   "cell_type": "code",
   "execution_count": 68,
   "id": "4f07137f-5347-4b7e-85cc-ec2184323573",
   "metadata": {},
   "outputs": [],
   "source": [
    "# !pip install -q pingouin"
   ]
  },
  {
   "cell_type": "code",
   "execution_count": 69,
   "id": "3c1cba92-de4d-4613-a63d-fd2c172f30e9",
   "metadata": {},
   "outputs": [],
   "source": [
    "import pingouin as pg "
   ]
  },
  {
   "cell_type": "markdown",
   "id": "a18df4ec-1831-48eb-ab60-dadb0a5438ef",
   "metadata": {},
   "source": [
    "Подготовим наши данные для подачи в тест Уэлча"
   ]
  },
  {
   "cell_type": "code",
   "execution_count": 102,
   "id": "c063705e-2451-4c28-b980-f2a7647203a4",
   "metadata": {},
   "outputs": [
    {
     "data": {
      "text/html": [
       "<div>\n",
       "<style scoped>\n",
       "    .dataframe tbody tr th:only-of-type {\n",
       "        vertical-align: middle;\n",
       "    }\n",
       "\n",
       "    .dataframe tbody tr th {\n",
       "        vertical-align: top;\n",
       "    }\n",
       "\n",
       "    .dataframe thead th {\n",
       "        text-align: right;\n",
       "    }\n",
       "</style>\n",
       "<table border=\"1\" class=\"dataframe\">\n",
       "  <thead>\n",
       "    <tr style=\"text-align: right;\">\n",
       "      <th></th>\n",
       "      <th>salary</th>\n",
       "      <th>level</th>\n",
       "    </tr>\n",
       "  </thead>\n",
       "  <tbody>\n",
       "    <tr>\n",
       "      <th>105</th>\n",
       "      <td>53192</td>\n",
       "      <td>level SE</td>\n",
       "    </tr>\n",
       "    <tr>\n",
       "      <th>4</th>\n",
       "      <td>21669</td>\n",
       "      <td>level EN</td>\n",
       "    </tr>\n",
       "    <tr>\n",
       "      <th>84</th>\n",
       "      <td>200000</td>\n",
       "      <td>level MI</td>\n",
       "    </tr>\n",
       "    <tr>\n",
       "      <th>56</th>\n",
       "      <td>5679</td>\n",
       "      <td>level MI</td>\n",
       "    </tr>\n",
       "    <tr>\n",
       "      <th>44</th>\n",
       "      <td>42197</td>\n",
       "      <td>level MI</td>\n",
       "    </tr>\n",
       "  </tbody>\n",
       "</table>\n",
       "</div>"
      ],
      "text/plain": [
       "     salary     level\n",
       "105   53192  level SE\n",
       "4     21669  level EN\n",
       "84   200000  level MI\n",
       "56     5679  level MI\n",
       "44    42197  level MI"
      ]
     },
     "metadata": {},
     "output_type": "display_data"
    },
    {
     "name": "stdout",
     "output_type": "stream",
     "text": [
      "Summary Welch's ANOVA test:\n"
     ]
    },
    {
     "data": {
      "text/html": [
       "<div>\n",
       "<style scoped>\n",
       "    .dataframe tbody tr th:only-of-type {\n",
       "        vertical-align: middle;\n",
       "    }\n",
       "\n",
       "    .dataframe tbody tr th {\n",
       "        vertical-align: top;\n",
       "    }\n",
       "\n",
       "    .dataframe thead th {\n",
       "        text-align: right;\n",
       "    }\n",
       "</style>\n",
       "<table border=\"1\" class=\"dataframe\">\n",
       "  <thead>\n",
       "    <tr style=\"text-align: right;\">\n",
       "      <th></th>\n",
       "      <th>Source</th>\n",
       "      <th>ddof1</th>\n",
       "      <th>ddof2</th>\n",
       "      <th>F</th>\n",
       "      <th>p-unc</th>\n",
       "      <th>np2</th>\n",
       "    </tr>\n",
       "  </thead>\n",
       "  <tbody>\n",
       "    <tr>\n",
       "      <th>0</th>\n",
       "      <td>level</td>\n",
       "      <td>3</td>\n",
       "      <td>41.022571</td>\n",
       "      <td>42.40137</td>\n",
       "      <td>1.224605e-12</td>\n",
       "      <td>0.400183</td>\n",
       "    </tr>\n",
       "  </tbody>\n",
       "</table>\n",
       "</div>"
      ],
      "text/plain": [
       "  Source  ddof1      ddof2         F         p-unc       np2\n",
       "0  level      3  41.022571  42.40137  1.224605e-12  0.400183"
      ]
     },
     "metadata": {},
     "output_type": "display_data"
    },
    {
     "name": "stdout",
     "output_type": "stream",
     "text": [
      "p-value = 0.000\n",
      "p-значение меньше, чем заданный уровень значимости 0.05. Отвергаем нулевую гипотезу в пользу альтернативной.\n"
     ]
    }
   ],
   "source": [
    "# размерности групп\n",
    "en_shape = salary_en.shape[0]\n",
    "mi_shape = salary_mi.shape[0]\n",
    "se_shape = salary_se.shape[0]\n",
    "ex_shape = salary_ex.shape[0]\n",
    "\n",
    "\n",
    "experience_levels = ['level EN'] * en_shape + \\\n",
    "                    ['level MI'] * mi_shape + \\\n",
    "                    ['level SE'] * se_shape + \\\n",
    "                    ['level EX'] * ex_shape\n",
    "\n",
    "\n",
    "# добавим все значения зп по группам в один массив np.array\n",
    "salaries = np.concatenate([salary_en.values,\n",
    "                           salary_mi.values,\n",
    "                           salary_se.values,\n",
    "                           salary_ex.values])\n",
    "\n",
    "\n",
    "salaries_df = pd.DataFrame({'salary': salaries, \n",
    "                            'level': experience_levels,\n",
    "                           }) \n",
    "\n",
    "# проводим тест Welch's ANOVA \n",
    "welch_res = pg.welch_anova(dv='salary', between='level', data=salaries_df) \n",
    "print(\"Summary Welch's ANOVA test:\")\n",
    "display(welch_res)\n",
    "p = welch_res['p-unc'].values[0]\n",
    "decision_hypothesis(p)"
   ]
  },
  {
   "cell_type": "markdown",
   "id": "cc79c4d9-ecd4-4e33-8ae7-23e53d69de81",
   "metadata": {},
   "source": [
    "Теперь мы с уверенностью можем утверждать, что опыт работы влияет на уровень заработной платы."
   ]
  },
  {
   "cell_type": "markdown",
   "id": "7ad95cff-4c3e-4ffa-a2f3-6f5c36296f4a",
   "metadata": {},
   "source": [
    "**4.4.3 признак employment_type**  \n",
    "Влияет ли тип трудоустройства на уровень заработной платы?"
   ]
  },
  {
   "cell_type": "markdown",
   "id": "91dc15a1-7750-47fb-a9aa-aba9d29714a5",
   "metadata": {},
   "source": [
    "**Сформулируем гипотезы:**  \n",
    "- *Нулевая гипотеза* ($H_0$): размер ЗП не зависит от типа трудоустройства: FT ($μ_1$), CT ($μ_2$), PT ($μ_3$), FL ($μ_4$)\n",
    "\n",
    "$$ H_0 : μ_1 = μ_2 = μ_3 = μ_4$$\n",
    "- *Альтернативная гипотеза* ($H_1$): размер ЗП зависит от типа трудоустройства:\n",
    "\n",
    "$$ H_1 : μ_1 \\neq μ_2 \\neq μ_3 \\neq μ_4$$ \n"
   ]
  },
  {
   "cell_type": "code",
   "execution_count": 103,
   "id": "86068d30-5cef-4d13-a562-53b3c805dc1a",
   "metadata": {},
   "outputs": [
    {
     "name": "stdout",
     "output_type": "stream",
     "text": [
      "FT - полный рабочий день:\n",
      "p-value = 0.003\n",
      "p-значение меньше, чем заданный уровень значимости 0.05. Распределение отлично от нормального\n",
      "__________________ \n",
      "\n",
      "PT — неполный рабочий день:\n",
      "p-value = 0.014\n",
      "p-значение меньше, чем заданный уровень значимости 0.05. Распределение отлично от нормального\n",
      "__________________ \n",
      "\n",
      "CT — контракт:\n",
      "Не достаточно сэмплов для теста Шапиро-Уилка!\n",
      "\n",
      "FL — фриланс:\n",
      "Не достаточно сэмплов для теста Шапиро-Уилка!\n",
      "\n"
     ]
    }
   ],
   "source": [
    "# значения заработных плат\n",
    "salary_ft = ds_data.loc[ds_data['employment_type']=='FT', 'salary_in_usd']\n",
    "salary_pt = ds_data.loc[ds_data['employment_type']=='PT', 'salary_in_usd']\n",
    "salary_ct = ds_data.loc[ds_data['employment_type']=='CT', 'salary_in_usd']\n",
    "salary_fl = ds_data.loc[ds_data['employment_type']=='FL', 'salary_in_usd']\n",
    "\n",
    "# проверим на нормальность распределения с помощью теста Шапиро-Уилка\n",
    "shapiro_distribution_tests([[salary_ft, 'FT - полный рабочий день'], \n",
    "                            [salary_pt, 'PT — неполный рабочий день'], \n",
    "                            [salary_ct, 'CT — контракт'],\n",
    "                            [salary_fl, 'FL — фриланс']])\n"
   ]
  },
  {
   "cell_type": "markdown",
   "id": "b4cd4a41-55d7-41c8-b517-ad0dd7270b90",
   "metadata": {},
   "source": [
    "**Выберем подходящий статистический тест**\n",
    "\n",
    "Для выбора нужного теста воспользуемся алгоритмом выбора теста. Для этого ответим на следующие вопросы:  \n",
    "- Какой тип у признака `salary_in_usd`? — Количественный.\n",
    "- Сколько сравниваемых групп? — Четыре.\n",
    "- Группы зависимы? — Нет.\n",
    "- Признак распределён по нормальному закону? — Нет\n",
    "\n",
    "Для проверки нашей гипотезы можно использовать критерий Краскела — Уоллиса.\n",
    "\n",
    "**Проведём тест**"
   ]
  },
  {
   "cell_type": "code",
   "execution_count": 104,
   "id": "413a3bb4-84d7-4a91-8da0-c5bcf700ea1b",
   "metadata": {},
   "outputs": [
    {
     "name": "stdout",
     "output_type": "stream",
     "text": [
      "p-value = 0.016\n",
      "p-значение меньше, чем заданный уровень значимости 0.05. Отвергаем нулевую гипотезу в пользу альтернативной.\n"
     ]
    }
   ],
   "source": [
    "# проводим тест\n",
    "_, p = stats.kruskal(salary_ft, salary_pt)\n",
    "decision_hypothesis(p)"
   ]
  },
  {
   "cell_type": "markdown",
   "id": "42ed3cbb-6945-4c80-b734-518c2f15cedb",
   "metadata": {},
   "source": [
    "Теперь мы с уверенностью можем утверждать, что тип трудоустройства влияет на уровень заработной платы."
   ]
  },
  {
   "cell_type": "markdown",
   "id": "4efec72c-4ee1-4948-a8c5-78caeea2b3b6",
   "metadata": {},
   "source": [
    "**4.4.4 признак employee_residence**  \n",
    "Влияет ли страна проживания сотрудника на уровень заработной платы?  \n",
    "\n"
   ]
  },
  {
   "cell_type": "markdown",
   "id": "d407d9af-8109-46d9-8da8-e0fdf0f13fd9",
   "metadata": {},
   "source": [
    "Посмотрим сначала на медианы заработных плат в разрезе стран проживания"
   ]
  },
  {
   "cell_type": "code",
   "execution_count": 133,
   "id": "3881163d-645b-4012-b360-7f2eac9920c3",
   "metadata": {},
   "outputs": [
    {
     "data": {
      "text/html": [
       "<div>\n",
       "<style scoped>\n",
       "    .dataframe tbody tr th:only-of-type {\n",
       "        vertical-align: middle;\n",
       "    }\n",
       "\n",
       "    .dataframe tbody tr th {\n",
       "        vertical-align: top;\n",
       "    }\n",
       "\n",
       "    .dataframe thead th {\n",
       "        text-align: right;\n",
       "    }\n",
       "</style>\n",
       "<table border=\"1\" class=\"dataframe\">\n",
       "  <thead>\n",
       "    <tr style=\"text-align: right;\">\n",
       "      <th></th>\n",
       "      <th>employee_residence</th>\n",
       "      <th>salary_in_usd</th>\n",
       "      <th>count</th>\n",
       "    </tr>\n",
       "  </thead>\n",
       "  <tbody>\n",
       "    <tr>\n",
       "      <th>0</th>\n",
       "      <td>Malaysia</td>\n",
       "      <td>200000.0</td>\n",
       "      <td>1</td>\n",
       "    </tr>\n",
       "    <tr>\n",
       "      <th>1</th>\n",
       "      <td>United States</td>\n",
       "      <td>141300.0</td>\n",
       "      <td>81</td>\n",
       "    </tr>\n",
       "    <tr>\n",
       "      <th>2</th>\n",
       "      <td>Switzerland</td>\n",
       "      <td>122346.0</td>\n",
       "      <td>1</td>\n",
       "    </tr>\n",
       "    <tr>\n",
       "      <th>3</th>\n",
       "      <td>Singapore</td>\n",
       "      <td>119059.0</td>\n",
       "      <td>1</td>\n",
       "    </tr>\n",
       "    <tr>\n",
       "      <th>4</th>\n",
       "      <td>United Arab Emirates</td>\n",
       "      <td>115000.0</td>\n",
       "      <td>1</td>\n",
       "    </tr>\n",
       "    <tr>\n",
       "      <th>5</th>\n",
       "      <td>Japan</td>\n",
       "      <td>104000.0</td>\n",
       "      <td>2</td>\n",
       "    </tr>\n",
       "    <tr>\n",
       "      <th>6</th>\n",
       "      <td>Slovenia</td>\n",
       "      <td>102839.0</td>\n",
       "      <td>1</td>\n",
       "    </tr>\n",
       "    <tr>\n",
       "      <th>7</th>\n",
       "      <td>Algeria</td>\n",
       "      <td>100000.0</td>\n",
       "      <td>1</td>\n",
       "    </tr>\n",
       "    <tr>\n",
       "      <th>8</th>\n",
       "      <td>Austria</td>\n",
       "      <td>91237.0</td>\n",
       "      <td>1</td>\n",
       "    </tr>\n",
       "    <tr>\n",
       "      <th>9</th>\n",
       "      <td>Canada</td>\n",
       "      <td>87738.0</td>\n",
       "      <td>7</td>\n",
       "    </tr>\n",
       "  </tbody>\n",
       "</table>\n",
       "</div>"
      ],
      "text/plain": [
       "     employee_residence  salary_in_usd  count\n",
       "0              Malaysia       200000.0      1\n",
       "1         United States       141300.0     81\n",
       "2           Switzerland       122346.0      1\n",
       "3             Singapore       119059.0      1\n",
       "4  United Arab Emirates       115000.0      1\n",
       "5                 Japan       104000.0      2\n",
       "6              Slovenia       102839.0      1\n",
       "7               Algeria       100000.0      1\n",
       "8               Austria        91237.0      1\n",
       "9                Canada        87738.0      7"
      ]
     },
     "metadata": {},
     "output_type": "display_data"
    }
   ],
   "source": [
    "country_grouped = ds_data.groupby('employee_residence').salary_in_usd.median().reset_index()\n",
    "top_10_by_median_salary = country_grouped.sort_values(by='salary_in_usd', ascending=False)[:10]\n",
    "\n",
    "# посчитаем кол-во проживающих в этих странах\n",
    "mask = ds_data.employee_residence.isin(top_10_by_median_salary.employee_residence.tolist())\n",
    "quantity_per_countries = ds_data[mask]['employee_residence'].value_counts(ascending=False) \\\n",
    "                                                            .reset_index()\n",
    "\n",
    "# сведем расчеты выше в один датафрейм\n",
    "joined_top_10_med_countries = top_10_by_median_salary.merge(\n",
    "    quantity_per_countries,\n",
    "    on='employee_residence',\n",
    "    how='left'\n",
    ")\n",
    "display(joined_top_10_med_countries)"
   ]
  },
  {
   "cell_type": "markdown",
   "id": "bbf85a87-5630-4823-9aa4-ace336b27a30",
   "metadata": {},
   "source": [
    "Из таблицы выше видно, что больше всех медиана зп в Малайзии, так как там всего 1 работник, который, скорее всего работает на Американскую компанию. \n",
    "Давайте проверим эту догатку ниже"
   ]
  },
  {
   "cell_type": "code",
   "execution_count": 158,
   "id": "b2d4d5b7-2f34-44c0-bd74-ee222e3e80c9",
   "metadata": {},
   "outputs": [
    {
     "data": {
      "text/html": [
       "<div>\n",
       "<style scoped>\n",
       "    .dataframe tbody tr th:only-of-type {\n",
       "        vertical-align: middle;\n",
       "    }\n",
       "\n",
       "    .dataframe tbody tr th {\n",
       "        vertical-align: top;\n",
       "    }\n",
       "\n",
       "    .dataframe thead th {\n",
       "        text-align: right;\n",
       "    }\n",
       "</style>\n",
       "<table border=\"1\" class=\"dataframe\">\n",
       "  <thead>\n",
       "    <tr style=\"text-align: right;\">\n",
       "      <th></th>\n",
       "      <th>work_year</th>\n",
       "      <th>experience_level</th>\n",
       "      <th>employment_type</th>\n",
       "      <th>job_title</th>\n",
       "      <th>salary_in_usd</th>\n",
       "      <th>employee_residence</th>\n",
       "      <th>remote_ratio</th>\n",
       "      <th>company_location</th>\n",
       "      <th>company_size</th>\n",
       "      <th>ds_or_de</th>\n",
       "    </tr>\n",
       "  </thead>\n",
       "  <tbody>\n",
       "    <tr>\n",
       "      <th>490</th>\n",
       "      <td>2022</td>\n",
       "      <td>SE</td>\n",
       "      <td>FT</td>\n",
       "      <td>Data Scientist</td>\n",
       "      <td>200000</td>\n",
       "      <td>Malaysia</td>\n",
       "      <td>100</td>\n",
       "      <td>United States</td>\n",
       "      <td>M</td>\n",
       "      <td>Yes</td>\n",
       "    </tr>\n",
       "  </tbody>\n",
       "</table>\n",
       "</div>"
      ],
      "text/plain": [
       "    work_year experience_level employment_type       job_title  salary_in_usd  \\\n",
       "490      2022               SE              FT  Data Scientist         200000   \n",
       "\n",
       "    employee_residence remote_ratio company_location company_size ds_or_de  \n",
       "490           Malaysia          100    United States            M      Yes  "
      ]
     },
     "execution_count": 158,
     "metadata": {},
     "output_type": "execute_result"
    }
   ],
   "source": [
    "mask = ds_data.employee_residence == 'Malaysia'\n",
    "malaysia_data = ds_data[mask]\n",
    "malaysia_data"
   ]
  },
  {
   "cell_type": "markdown",
   "id": "5d47653d-d735-43be-b1ee-9f73b92b4306",
   "metadata": {},
   "source": [
    "Так и есть. Один сотрудник из Малайзии, который работает полностью удаленно на Американскую компанию. \n",
    "Таким образом он не плохо экономит на налогах и расходах на жизнь, но не уже другая история...."
   ]
  },
  {
   "cell_type": "markdown",
   "id": "f0ffe26d-c442-4f14-bd04-d8c7a5d875a4",
   "metadata": {},
   "source": [
    "Для более информативного анализа стоит стоит рассмотреть страны с самым большим кол-вом респондентов.  Так мы получим более точные статистики на тестах."
   ]
  },
  {
   "cell_type": "code",
   "execution_count": 159,
   "id": "a6cd68f8-faf0-4fb0-b244-f333d0195b0b",
   "metadata": {},
   "outputs": [
    {
     "data": {
      "text/html": [
       "<div>\n",
       "<style scoped>\n",
       "    .dataframe tbody tr th:only-of-type {\n",
       "        vertical-align: middle;\n",
       "    }\n",
       "\n",
       "    .dataframe tbody tr th {\n",
       "        vertical-align: top;\n",
       "    }\n",
       "\n",
       "    .dataframe thead th {\n",
       "        text-align: right;\n",
       "    }\n",
       "</style>\n",
       "<table border=\"1\" class=\"dataframe\">\n",
       "  <thead>\n",
       "    <tr style=\"text-align: right;\">\n",
       "      <th></th>\n",
       "      <th>employee_residence</th>\n",
       "      <th>salary_in_usd</th>\n",
       "      <th>count</th>\n",
       "    </tr>\n",
       "  </thead>\n",
       "  <tbody>\n",
       "    <tr>\n",
       "      <th>0</th>\n",
       "      <td>United States</td>\n",
       "      <td>141300.0</td>\n",
       "      <td>81</td>\n",
       "    </tr>\n",
       "    <tr>\n",
       "      <th>1</th>\n",
       "      <td>Canada</td>\n",
       "      <td>87738.0</td>\n",
       "      <td>7</td>\n",
       "    </tr>\n",
       "    <tr>\n",
       "      <th>2</th>\n",
       "      <td>Italy</td>\n",
       "      <td>87668.0</td>\n",
       "      <td>2</td>\n",
       "    </tr>\n",
       "    <tr>\n",
       "      <th>3</th>\n",
       "      <td>Russia</td>\n",
       "      <td>85000.0</td>\n",
       "      <td>3</td>\n",
       "    </tr>\n",
       "    <tr>\n",
       "      <th>4</th>\n",
       "      <td>Germany</td>\n",
       "      <td>84243.5</td>\n",
       "      <td>14</td>\n",
       "    </tr>\n",
       "    <tr>\n",
       "      <th>5</th>\n",
       "      <td>United Kingdom</td>\n",
       "      <td>76958.0</td>\n",
       "      <td>13</td>\n",
       "    </tr>\n",
       "    <tr>\n",
       "      <th>6</th>\n",
       "      <td>France</td>\n",
       "      <td>51321.0</td>\n",
       "      <td>9</td>\n",
       "    </tr>\n",
       "    <tr>\n",
       "      <th>7</th>\n",
       "      <td>Spain</td>\n",
       "      <td>42792.5</td>\n",
       "      <td>4</td>\n",
       "    </tr>\n",
       "    <tr>\n",
       "      <th>8</th>\n",
       "      <td>India</td>\n",
       "      <td>28399.0</td>\n",
       "      <td>13</td>\n",
       "    </tr>\n",
       "    <tr>\n",
       "      <th>9</th>\n",
       "      <td>Brazil</td>\n",
       "      <td>12901.0</td>\n",
       "      <td>3</td>\n",
       "    </tr>\n",
       "  </tbody>\n",
       "</table>\n",
       "</div>"
      ],
      "text/plain": [
       "  employee_residence  salary_in_usd  count\n",
       "0      United States       141300.0     81\n",
       "1             Canada        87738.0      7\n",
       "2              Italy        87668.0      2\n",
       "3             Russia        85000.0      3\n",
       "4            Germany        84243.5     14\n",
       "5     United Kingdom        76958.0     13\n",
       "6             France        51321.0      9\n",
       "7              Spain        42792.5      4\n",
       "8              India        28399.0     13\n",
       "9             Brazil        12901.0      3"
      ]
     },
     "metadata": {},
     "output_type": "display_data"
    }
   ],
   "source": [
    "# Посмотрим на топ 10 стран с самым большим кол-вом работников\n",
    "top_10_countries = ds_data.employee_residence.value_counts(ascending=False)[:10] \\\n",
    "                          .reset_index()\n",
    "\n",
    "# расчитаем медианы зп в топ-10 странах с самым большим кол-вом работников \n",
    "mask = ds_data.employee_residence.isin(top_10_countries.employee_residence.tolist())\n",
    "median_salary_by_top_10 = ds_data[mask].groupby('employee_residence').salary_in_usd \\\n",
    "                                       .median() \\\n",
    "                                       .reset_index() \\\n",
    "                                       .sort_values(by='salary_in_usd', ascending=False)\n",
    "\n",
    "\n",
    "# сведем данные в одну таблицу\n",
    "joined_top_10_med_countries = median_salary_by_top_10.merge(\n",
    "    top_10_countries,\n",
    "    on='employee_residence',\n",
    "    how='left'\n",
    ")\n",
    "# отсортируем по уровню зп по убыванию для удобства восприятия\n",
    "joined_top_10_med_countries_sorted = joined_top_10_med_countries.sort_values(by='salary_in_usd', ascending=False)\n",
    "display(joined_top_10_med_countries_sorted)"
   ]
  },
  {
   "cell_type": "markdown",
   "id": "7c7ccca0-5a94-45d4-9123-4990fcd2780b",
   "metadata": {},
   "source": [
    "Визуально оценим распределения заработных плат по странам проживания, которые мы получили в таблице joined_top_10_med_countries_sorted"
   ]
  },
  {
   "cell_type": "code",
   "execution_count": 160,
   "id": "eea721ca-b6e5-409a-9f2f-f1b2ae855886",
   "metadata": {},
   "outputs": [
    {
     "data": {
      "image/png": "[encoded data removed]",
      "text/plain": [
       "<Figure size 1000x1600 with 1 Axes>"
      ]
     },
     "metadata": {},
     "output_type": "display_data"
    }
   ],
   "source": [
    "mask = ds_data.employee_residence.isin(joined_top_10_med_countries_sorted.employee_residence.tolist())\n",
    "top_10_ds_data = ds_data[mask]\n",
    "\n",
    "# построим коробчатую диаграмму в разрезе страны и заработной платы.\n",
    "fig = plt.figure(figsize=(10, 16))\n",
    "boxplot = sns.boxplot(\n",
    "    data=top_10_ds_data,\n",
    "    y='employee_residence',\n",
    "    x='salary_in_usd',\n",
    "    orient='h',\n",
    "    width=0.9,\n",
    "    medianprops={\"color\": \"red\", \"linestyle\": '--'}\n",
    ")\n",
    "boxplot.set_title('Распределение ЗП по странам проживания для Data Scientist');\n",
    "boxplot.set_xlabel('Заработная плата');\n",
    "boxplot.set_ylabel('Страна');\n",
    "boxplot.grid()"
   ]
  },
  {
   "cell_type": "markdown",
   "id": "6ae52f25-414c-45ab-88cf-ef649068c620",
   "metadata": {},
   "source": [
    "По данным \"ящика с усами\" можно сделать предположение, что уровень зп зависит от страны проживания.\n",
    "\n",
    "Однако, так как с таблице по некоторым странам представлены слишком малое кол-во резидентов, то для качества дальнего тестирования, выберем только те страны, в которых проживает 5 и более работников. Данное ограничение скажется положительно, ведь чем больше данных, тем точнее будет результат теста."
   ]
  },
  {
   "cell_type": "code",
   "execution_count": 148,
   "id": "b2576aa0-c56e-4814-8c94-35412b2cc1b6",
   "metadata": {},
   "outputs": [
    {
     "name": "stdout",
     "output_type": "stream",
     "text": [
      "Selected countries: ['United States', 'Germany', 'India', 'United Kingdom', 'France', 'Canada']\n"
     ]
    }
   ],
   "source": [
    "# отберем страны с кол-вом проживающих 5+\n",
    "mask = top_10_countries['count'] >= 5\n",
    "countries_for_test = top_10_countries[mask].employee_residence.tolist()\n",
    "print('Filtered countries:', countries_for_test)\n"
   ]
  },
  {
   "cell_type": "code",
   "execution_count": 149,
   "id": "a087d6c0-766a-4d70-a645-3c626247177c",
   "metadata": {},
   "outputs": [
    {
     "name": "stdout",
     "output_type": "stream",
     "text": [
      "United States:\n",
      "p-value = 0.097\n",
      "p-значение больше, чем заданный уровень значимости 0.05. Распределение является нормальным\n",
      "__________________ \n",
      "\n",
      "United Kingdom:\n",
      "p-value = 0.193\n",
      "p-значение больше, чем заданный уровень значимости 0.05. Распределение является нормальным\n",
      "__________________ \n",
      "\n",
      "India:\n",
      "p-value = 0.000\n",
      "p-значение меньше, чем заданный уровень значимости 0.05. Распределение отлично от нормального\n",
      "__________________ \n",
      "\n",
      "France:\n",
      "p-value = 0.619\n",
      "p-значение больше, чем заданный уровень значимости 0.05. Распределение является нормальным\n",
      "__________________ \n",
      "\n",
      "Germany:\n",
      "p-value = 0.064\n",
      "p-значение больше, чем заданный уровень значимости 0.05. Распределение является нормальным\n",
      "__________________ \n",
      "\n",
      "Canada:\n",
      "p-value = 0.051\n",
      "p-значение больше, чем заданный уровень значимости 0.05. Распределение является нормальным\n",
      "__________________ \n",
      "\n"
     ]
    }
   ],
   "source": [
    "# значения заработных плат\n",
    "salary_us = ds_data.loc[ds_data['employee_residence']=='United States', 'salary_in_usd']\n",
    "salary_gb = ds_data.loc[ds_data['employee_residence']=='United Kingdom', 'salary_in_usd']\n",
    "salary_in = ds_data.loc[ds_data['employee_residence']=='India', 'salary_in_usd']\n",
    "salary_ca = ds_data.loc[ds_data['employee_residence']=='Canada', 'salary_in_usd']\n",
    "salary_fr = ds_data.loc[ds_data['employee_residence']=='France', 'salary_in_usd']\n",
    "salary_de = ds_data.loc[ds_data['employee_residence']=='Germany', 'salary_in_usd']\n",
    "\n",
    "# проверим на нормальность распределения с помощью теста Шапиро-Уилка\n",
    "shapiro_distribution_tests([[salary_us, 'United States'], \n",
    "                            [salary_gb, 'United Kingdom'], \n",
    "                            [salary_in, 'India'],\n",
    "                            [salary_fr, 'France'],\n",
    "                            [salary_de, 'Germany'],\n",
    "                            [salary_ca, 'Canada'],])"
   ]
  },
  {
   "cell_type": "markdown",
   "id": "301186c9-1bce-4d5d-8d2f-ba8ba1e227a2",
   "metadata": {},
   "source": [
    "**Сформулируем гипотезы:**    \n",
    "- *Нулевая гипотеза* ($H_0$): размер ЗП не зависит от страны проживания: United States ($μ_1$), United Kingdom ($μ_2$), India ($μ_3$), Canada ($μ_4$), Germany ($μ_5$), France ($μ_6$)\n",
    "\n",
    "$$ H_0 : μ_1 = μ_2 = μ_3 = μ_4 = μ_5 = μ_6$$\n",
    "- *Альтернативная гипотеза* ($H_1$): размер ЗП зависит от страны проживания:\n",
    "\n",
    "$$ H_1 : μ_1 \\neq μ_2 \\neq μ_3 \\neq μ_4 \\neq μ_5 \\neq μ_6$$ \n"
   ]
  },
  {
   "cell_type": "markdown",
   "id": "2252d35d-92b7-4d56-89bd-aa8e3be0f4ba",
   "metadata": {},
   "source": [
    "**Выберем подходящий статистический тест**\n",
    "\n",
    "Для выбора нужного теста воспользуемся алгоритмом выбора теста. Для этого ответим на следующие вопросы:  \n",
    "- Какой тип у признака `salary_in_usd`? — Количественный.\n",
    "- Сколько сравниваемых групп? — Шесть.\n",
    "- Группы зависимы? — Нет.\n",
    "- Признак распределён по нормальному закону? — Нет, так как не все выборки распределены нормально.\n",
    "\n",
    "Для проверки нашей гипотезы можно использовать критерий Краскела — Уоллиса.\n",
    "\n",
    "**Проведём тест**"
   ]
  },
  {
   "cell_type": "code",
   "execution_count": 156,
   "id": "c86106f3-2714-47d7-9564-ff753caff8da",
   "metadata": {},
   "outputs": [
    {
     "name": "stdout",
     "output_type": "stream",
     "text": [
      "p-value = 0.000\n",
      "p-значение меньше, чем заданный уровень значимости 0.05. Отвергаем нулевую гипотезу в пользу альтернативной.\n"
     ]
    }
   ],
   "source": [
    "_, p = stats.kruskal(salary_us, salary_gb, salary_in, salary_fr, salary_de, salary_ca)\n",
    "\n",
    "decision_hypothesis(p)"
   ]
  },
  {
   "cell_type": "markdown",
   "id": "87e31977-90e6-4b9c-b1dd-fedb39f51ead",
   "metadata": {},
   "source": [
    "**Вывод:**  \n",
    "Мы с уверенностью можем утверждать, что страна проживания влияет на уровень заработной платы."
   ]
  },
  {
   "cell_type": "markdown",
   "id": "9cf71e66-4b37-4fb8-9f86-f60eb81edfdb",
   "metadata": {},
   "source": [
    "**4.4.5 признак remote_ratio**  \n",
    "Влияет ли объём работы, выполняемой удалённо на уровень заработной платы?"
   ]
  },
  {
   "cell_type": "markdown",
   "id": "ac745949-99a1-42c7-98e1-fb138910924c",
   "metadata": {},
   "source": [
    "remote_ratio:  \n",
    "- 0 — удалённой работы нет (менее 20 %);\n",
    "- 50 — частично удалённая работа;\n",
    "- 100 — полностью удалённая работа (более 80 %)."
   ]
  },
  {
   "cell_type": "markdown",
   "id": "7fb2fafe-bab3-481b-a28d-a32122faccb3",
   "metadata": {},
   "source": [
    "**Сформулируем гипотезы:**  \n",
    "- *Нулевая гипотеза* ($H_0$): размер ЗП не зависит от наличия удаленки: 0 ($μ_1$), 50 ($μ_2$), 100 ($μ_3$)\n",
    "\n",
    "$$ H_0 : μ_1 = μ_2 = μ_3$$\n",
    "- *Альтернативная гипотеза* ($H_1$): размер ЗП зависит от наличия удаленки:\n",
    "\n",
    "$$ H_1 : μ_1 \\neq μ_2 \\neq μ_3$$ \n"
   ]
  },
  {
   "cell_type": "code",
   "execution_count": 161,
   "id": "55370afd-6066-4d85-ba5a-e65ebee40211",
   "metadata": {},
   "outputs": [
    {
     "name": "stdout",
     "output_type": "stream",
     "text": [
      "remote_ratio: 0:\n",
      "p-value = 0.490\n",
      "p-значение больше, чем заданный уровень значимости 0.05. Распределение является нормальным\n",
      "__________________ \n",
      "\n",
      "remote_ratio: 50:\n",
      "p-value = 0.012\n",
      "p-значение меньше, чем заданный уровень значимости 0.05. Распределение отлично от нормального\n",
      "__________________ \n",
      "\n",
      "remote_ratio: 100:\n",
      "p-value = 0.043\n",
      "p-значение меньше, чем заданный уровень значимости 0.05. Распределение отлично от нормального\n",
      "__________________ \n",
      "\n"
     ]
    }
   ],
   "source": [
    "# значения заработных плат\n",
    "salary_no_remote = ds_data.loc[ds_data['remote_ratio']==0, 'salary_in_usd']\n",
    "salary_half_remote = ds_data.loc[ds_data['remote_ratio']==50, 'salary_in_usd']\n",
    "salary_full_remote = ds_data.loc[ds_data['remote_ratio']==100, 'salary_in_usd']\n",
    "\n",
    "# проверим на нормальность распределения с помощью теста Шапиро-Уилка\n",
    "shapiro_distribution_tests([[salary_no_remote, 'remote_ratio: 0'], \n",
    "                            [salary_half_remote, 'remote_ratio: 50'], \n",
    "                            [salary_full_remote, 'remote_ratio: 100']])\n"
   ]
  },
  {
   "cell_type": "markdown",
   "id": "8de07f04-a81e-4840-bbd3-27c5a56952e2",
   "metadata": {},
   "source": [
    "**Выберем подходящий статистический тест**\n",
    "\n",
    "Для выбора нужного теста воспользуемся алгоритмом выбора теста. Для этого ответим на следующие вопросы:  \n",
    "- Какой тип у признака `salary_in_usd`? — Количественный.\n",
    "- Сколько сравниваемых групп? — Три.\n",
    "- Группы зависимы? — Нет.\n",
    "- Признак распределён по нормальному закону? — Нет.\n",
    "\n",
    "Для проверки нашей гипотезы можно использовать критерий Краскела — Уоллиса.\n",
    "\n",
    "**Проведём тест**"
   ]
  },
  {
   "cell_type": "code",
   "execution_count": 162,
   "id": "d5cac21c-70a8-40af-8a83-87306213fcc8",
   "metadata": {},
   "outputs": [
    {
     "name": "stdout",
     "output_type": "stream",
     "text": [
      "p-value = 0.009\n",
      "p-значение меньше, чем заданный уровень значимости 0.05. Отвергаем нулевую гипотезу в пользу альтернативной.\n"
     ]
    }
   ],
   "source": [
    "_, p = stats.kruskal(salary_no_remote, salary_half_remote, salary_full_remote)\n",
    "decision_hypothesis(p)"
   ]
  },
  {
   "cell_type": "markdown",
   "id": "3c0e2c39-b07a-4cf6-b3ce-771c90369128",
   "metadata": {},
   "source": [
    "**Вывод:**  \n",
    "Мы с уверенностью можем утверждать, что работа на удаленке влияет на уровень заработной платы"
   ]
  },
  {
   "cell_type": "markdown",
   "id": "90b194f4-a324-4074-9a73-a0c51093a4b3",
   "metadata": {},
   "source": [
    "**4.4.6 признак company_location**  \n",
    "Влияет ли расположение головного офиса компании на уровень заработной платы?"
   ]
  },
  {
   "cell_type": "code",
   "execution_count": 170,
   "id": "5d3d9734-5e55-47bd-a43e-98dbd212da1d",
   "metadata": {},
   "outputs": [
    {
     "data": {
      "text/html": [
       "<div>\n",
       "<style scoped>\n",
       "    .dataframe tbody tr th:only-of-type {\n",
       "        vertical-align: middle;\n",
       "    }\n",
       "\n",
       "    .dataframe tbody tr th {\n",
       "        vertical-align: top;\n",
       "    }\n",
       "\n",
       "    .dataframe thead th {\n",
       "        text-align: right;\n",
       "    }\n",
       "</style>\n",
       "<table border=\"1\" class=\"dataframe\">\n",
       "  <thead>\n",
       "    <tr style=\"text-align: right;\">\n",
       "      <th></th>\n",
       "      <th>company_location</th>\n",
       "      <th>count</th>\n",
       "    </tr>\n",
       "  </thead>\n",
       "  <tbody>\n",
       "    <tr>\n",
       "      <th>0</th>\n",
       "      <td>United States</td>\n",
       "      <td>91</td>\n",
       "    </tr>\n",
       "    <tr>\n",
       "      <th>1</th>\n",
       "      <td>Germany</td>\n",
       "      <td>14</td>\n",
       "    </tr>\n",
       "    <tr>\n",
       "      <th>2</th>\n",
       "      <td>United Kingdom</td>\n",
       "      <td>12</td>\n",
       "    </tr>\n",
       "    <tr>\n",
       "      <th>3</th>\n",
       "      <td>India</td>\n",
       "      <td>10</td>\n",
       "    </tr>\n",
       "    <tr>\n",
       "      <th>4</th>\n",
       "      <td>Canada</td>\n",
       "      <td>7</td>\n",
       "    </tr>\n",
       "    <tr>\n",
       "      <th>5</th>\n",
       "      <td>France</td>\n",
       "      <td>7</td>\n",
       "    </tr>\n",
       "    <tr>\n",
       "      <th>6</th>\n",
       "      <td>Spain</td>\n",
       "      <td>5</td>\n",
       "    </tr>\n",
       "    <tr>\n",
       "      <th>7</th>\n",
       "      <td>Russia</td>\n",
       "      <td>2</td>\n",
       "    </tr>\n",
       "    <tr>\n",
       "      <th>8</th>\n",
       "      <td>Poland</td>\n",
       "      <td>2</td>\n",
       "    </tr>\n",
       "    <tr>\n",
       "      <th>9</th>\n",
       "      <td>Austria</td>\n",
       "      <td>2</td>\n",
       "    </tr>\n",
       "    <tr>\n",
       "      <th>10</th>\n",
       "      <td>Chile</td>\n",
       "      <td>1</td>\n",
       "    </tr>\n",
       "    <tr>\n",
       "      <th>11</th>\n",
       "      <td>Slovenia</td>\n",
       "      <td>1</td>\n",
       "    </tr>\n",
       "    <tr>\n",
       "      <th>12</th>\n",
       "      <td>Algeria</td>\n",
       "      <td>1</td>\n",
       "    </tr>\n",
       "    <tr>\n",
       "      <th>13</th>\n",
       "      <td>Estonia</td>\n",
       "      <td>1</td>\n",
       "    </tr>\n",
       "    <tr>\n",
       "      <th>14</th>\n",
       "      <td>Türkiye</td>\n",
       "      <td>1</td>\n",
       "    </tr>\n",
       "    <tr>\n",
       "      <th>15</th>\n",
       "      <td>Malaysia</td>\n",
       "      <td>1</td>\n",
       "    </tr>\n",
       "    <tr>\n",
       "      <th>16</th>\n",
       "      <td>American Samoa</td>\n",
       "      <td>1</td>\n",
       "    </tr>\n",
       "    <tr>\n",
       "      <th>17</th>\n",
       "      <td>Vietnam</td>\n",
       "      <td>1</td>\n",
       "    </tr>\n",
       "    <tr>\n",
       "      <th>18</th>\n",
       "      <td>Australia</td>\n",
       "      <td>1</td>\n",
       "    </tr>\n",
       "    <tr>\n",
       "      <th>19</th>\n",
       "      <td>Brazil</td>\n",
       "      <td>1</td>\n",
       "    </tr>\n",
       "    <tr>\n",
       "      <th>20</th>\n",
       "      <td>Japan</td>\n",
       "      <td>1</td>\n",
       "    </tr>\n",
       "    <tr>\n",
       "      <th>21</th>\n",
       "      <td>Mexico</td>\n",
       "      <td>1</td>\n",
       "    </tr>\n",
       "    <tr>\n",
       "      <th>22</th>\n",
       "      <td>Israel</td>\n",
       "      <td>1</td>\n",
       "    </tr>\n",
       "    <tr>\n",
       "      <th>23</th>\n",
       "      <td>Ukraine</td>\n",
       "      <td>1</td>\n",
       "    </tr>\n",
       "    <tr>\n",
       "      <th>24</th>\n",
       "      <td>Nigeria</td>\n",
       "      <td>1</td>\n",
       "    </tr>\n",
       "    <tr>\n",
       "      <th>25</th>\n",
       "      <td>Luxembourg</td>\n",
       "      <td>1</td>\n",
       "    </tr>\n",
       "    <tr>\n",
       "      <th>26</th>\n",
       "      <td>Italy</td>\n",
       "      <td>1</td>\n",
       "    </tr>\n",
       "    <tr>\n",
       "      <th>27</th>\n",
       "      <td>Denmark</td>\n",
       "      <td>1</td>\n",
       "    </tr>\n",
       "    <tr>\n",
       "      <th>28</th>\n",
       "      <td>United Arab Emirates</td>\n",
       "      <td>1</td>\n",
       "    </tr>\n",
       "    <tr>\n",
       "      <th>29</th>\n",
       "      <td>Hungary</td>\n",
       "      <td>1</td>\n",
       "    </tr>\n",
       "    <tr>\n",
       "      <th>30</th>\n",
       "      <td>Switzerland</td>\n",
       "      <td>1</td>\n",
       "    </tr>\n",
       "  </tbody>\n",
       "</table>\n",
       "</div>"
      ],
      "text/plain": [
       "        company_location  count\n",
       "0          United States     91\n",
       "1                Germany     14\n",
       "2         United Kingdom     12\n",
       "3                  India     10\n",
       "4                 Canada      7\n",
       "5                 France      7\n",
       "6                  Spain      5\n",
       "7                 Russia      2\n",
       "8                 Poland      2\n",
       "9                Austria      2\n",
       "10                 Chile      1\n",
       "11              Slovenia      1\n",
       "12               Algeria      1\n",
       "13               Estonia      1\n",
       "14               Türkiye      1\n",
       "15              Malaysia      1\n",
       "16        American Samoa      1\n",
       "17               Vietnam      1\n",
       "18             Australia      1\n",
       "19                Brazil      1\n",
       "20                 Japan      1\n",
       "21                Mexico      1\n",
       "22                Israel      1\n",
       "23               Ukraine      1\n",
       "24               Nigeria      1\n",
       "25            Luxembourg      1\n",
       "26                 Italy      1\n",
       "27               Denmark      1\n",
       "28  United Arab Emirates      1\n",
       "29               Hungary      1\n",
       "30           Switzerland      1"
      ]
     },
     "execution_count": 170,
     "metadata": {},
     "output_type": "execute_result"
    }
   ],
   "source": [
    "# посмотрим на распределение по странам \n",
    "company_loc_counted = ds_data.company_location.value_counts(ascending=False) \\\n",
    "                                           .reset_index()\n",
    "company_loc_counted"
   ]
  },
  {
   "cell_type": "markdown",
   "id": "56acdaa1-feec-4cce-b1d4-e6e0faf9720a",
   "metadata": {},
   "source": [
    "Как видно мы получили очень похожие с признаком страны проживания сотрудника значения.  \n",
    "Поэтому, оставим только страны, которые представлены более 5 записями в таблице."
   ]
  },
  {
   "cell_type": "code",
   "execution_count": 181,
   "id": "f5165a4a-a6a1-44d6-affc-f91be78bee2c",
   "metadata": {},
   "outputs": [
    {
     "name": "stdout",
     "output_type": "stream",
     "text": [
      "'Top 5 countries:'\n",
      "['United States', 'Germany', 'United Kingdom', 'India', 'Canada', 'France']\n"
     ]
    }
   ],
   "source": [
    "# отберем страны с кол-вом 5+\n",
    "mask = comp_loc_counted['count'] > 5\n",
    "top_countries = comp_loc_counted[mask].company_location.tolist()\n",
    "pprint('Top 5 countries:')\n",
    "print(top_countries)"
   ]
  },
  {
   "cell_type": "code",
   "execution_count": 182,
   "id": "6cf608c3-c2ed-49fc-add0-6a3a117ff36f",
   "metadata": {},
   "outputs": [
    {
     "data": {
      "image/png": "[encoded data removed]",
      "text/plain": [
       "<Figure size 1000x1600 with 1 Axes>"
      ]
     },
     "metadata": {},
     "output_type": "display_data"
    }
   ],
   "source": [
    "mask = ds_data.company_location.isin(top_countries)\n",
    "top_countries_data = ds_data[mask]\n",
    "\n",
    "# построим коробчатую диаграмму в разрезе страны и заработной платы.\n",
    "fig = plt.figure(figsize=(10, 16))\n",
    "boxplot = sns.boxplot(\n",
    "    data=top_countries_data,\n",
    "    y='company_location',\n",
    "    x='salary_in_usd',\n",
    "    orient='h',\n",
    "    width=0.9,\n",
    "    medianprops={\"color\": \"red\", \"linestyle\": '--'}\n",
    ")\n",
    "boxplot.set_title('Распределение ЗП по странам головного офиса для Data Scientist');\n",
    "boxplot.set_xlabel('Заработная плата');\n",
    "boxplot.set_ylabel('Страна');\n",
    "boxplot.grid()"
   ]
  },
  {
   "cell_type": "markdown",
   "id": "50eec6f7-2fc7-410e-a649-fe42ef0ac454",
   "metadata": {},
   "source": [
    "Из графика boxplot видно, что уровни ЗП по странам распределены не одинаково, основные статистики различны.  \n",
    "Ввиду этого ответить на поставленный вопрос с некоторой уверенностью возможно лишь проведя статистические тесты, что мы сейчас и сделаем."
   ]
  },
  {
   "cell_type": "markdown",
   "id": "7e229d8b-daf3-4375-944d-69bcdb78bd3d",
   "metadata": {},
   "source": [
    "\n",
    "**Сформулируем гипотезы:**    \n",
    "- *Нулевая гипотеза* ($H_0$): размер ЗП не зависит от расположения головного офиса: United States ($μ_1$), United Kingdom ($μ_2$), Canada ($μ_3$), Germany ($μ_4$), India ($μ_5$), France ($µ_6$)\n",
    "\n",
    "$$ H_0 : μ_1 = μ_2 = μ_3 = μ_4 = μ_5 = µ_6$$\n",
    "- *Альтернативная гипотеза* ($H_1$): размер ЗП зависит от расположения головного офиса:\n",
    "\n",
    "$$ H_1 : μ_1 \\neq μ_2 \\neq μ_3 \\neq μ_4 \\neq μ_5 \\neq μ_6$$  \n"
   ]
  },
  {
   "cell_type": "code",
   "execution_count": 183,
   "id": "a59ac319-499f-4325-90f4-65114e6bf4b9",
   "metadata": {},
   "outputs": [
    {
     "name": "stdout",
     "output_type": "stream",
     "text": [
      "United States:\n",
      "p-value = 0.596\n",
      "p-значение больше, чем заданный уровень значимости 0.05. Распределение является нормальным\n",
      "__________________ \n",
      "\n",
      "United Kingdom:\n",
      "p-value = 0.335\n",
      "p-значение больше, чем заданный уровень значимости 0.05. Распределение является нормальным\n",
      "__________________ \n",
      "\n",
      "Canada:\n",
      "p-value = 0.023\n",
      "p-значение меньше, чем заданный уровень значимости 0.05. Распределение отлично от нормального\n",
      "__________________ \n",
      "\n",
      "Germany:\n",
      "p-value = 0.369\n",
      "p-значение больше, чем заданный уровень значимости 0.05. Распределение является нормальным\n",
      "__________________ \n",
      "\n",
      "India:\n",
      "p-value = 0.435\n",
      "p-значение больше, чем заданный уровень значимости 0.05. Распределение является нормальным\n",
      "__________________ \n",
      "\n",
      "France:\n",
      "p-value = 0.128\n",
      "p-значение больше, чем заданный уровень значимости 0.05. Распределение является нормальным\n",
      "__________________ \n",
      "\n"
     ]
    }
   ],
   "source": [
    "# значения заработных плат\n",
    "salary_us = ds_data.loc[ds_data['company_location']=='United States', 'salary_in_usd']\n",
    "salary_gb = ds_data.loc[ds_data['company_location']=='United Kingdom', 'salary_in_usd']\n",
    "salary_ca = ds_data.loc[ds_data['company_location']=='Canada', 'salary_in_usd']\n",
    "salary_de = ds_data.loc[ds_data['company_location']=='Germany', 'salary_in_usd']\n",
    "salary_in = ds_data.loc[ds_data['company_location']=='India', 'salary_in_usd']\n",
    "salary_fr = ds_data.loc[ds_data['company_location']=='France', 'salary_in_usd']\n",
    "\n",
    "# проверим на нормальность распределения с помощью теста Шапиро-Уилка\n",
    "shapiro_distribution_tests([[salary_us, 'United States'], \n",
    "                            [salary_gb, 'United Kingdom'], \n",
    "                            [salary_ca, 'Canada'],\n",
    "                            [salary_de, 'Germany'],\n",
    "                            [salary_in, 'India'],\n",
    "                            [salary_fr, 'France']])"
   ]
  },
  {
   "cell_type": "markdown",
   "id": "b910ca4b-db05-4089-8bd7-5da0e0833c2a",
   "metadata": {},
   "source": [
    "**Выберем подходящий статистический тест**\n",
    "\n",
    "Для выбора нужного теста воспользуемся алгоритмом выбора теста. Для этого ответим на следующие вопросы:  \n",
    "- Какой тип у признака `salary_in_usd`? — Количественный.\n",
    "- Сколько сравниваемых групп? — Шесть.\n",
    "- Группы зависимы? — Нет.\n",
    "- Признак распределён по нормальному закону? — Нет, так как не все выборки распределены нормально.\n",
    "\n",
    "Для проверки нашей гипотезы можно использовать критерий Краскела — Уоллиса.\n",
    "\n",
    "**Проведём тест**"
   ]
  },
  {
   "cell_type": "code",
   "execution_count": 184,
   "id": "ad0fcb3c-56bb-415d-8901-9860826a2f7b",
   "metadata": {},
   "outputs": [
    {
     "name": "stdout",
     "output_type": "stream",
     "text": [
      "p-value = 0.000\n",
      "p-значение меньше, чем заданный уровень значимости 0.05. Отвергаем нулевую гипотезу в пользу альтернативной.\n"
     ]
    }
   ],
   "source": [
    "_, p = stats.kruskal(salary_us, salary_gb, salary_ca, salary_de, salary_in, salary_fr)\n",
    "decision_hypothesis(p)"
   ]
  },
  {
   "cell_type": "markdown",
   "id": "76aa2519-c55c-4398-9ffc-7cdd2b6718ee",
   "metadata": {},
   "source": [
    "В целом результат полностью совпадает с проводимым ранее тестом в вопросе №3. Страна в которой находится головной офис компании влияет на уровень ЗП. "
   ]
  },
  {
   "cell_type": "markdown",
   "id": "ceb30e9a-fa95-449f-bf04-bfdf06f37e47",
   "metadata": {},
   "source": [
    "**4.4.7 признак company_size**  \n",
    "Влияет ли размер компании на уровень заработной платы?"
   ]
  },
  {
   "cell_type": "code",
   "execution_count": 189,
   "id": "983a58d6-72c4-4220-bdd2-c01aa73749da",
   "metadata": {},
   "outputs": [
    {
     "data": {
      "image/png": "[encoded data removed]",
      "text/plain": [
       "<Figure size 800x800 with 1 Axes>"
      ]
     },
     "metadata": {},
     "output_type": "display_data"
    }
   ],
   "source": [
    "# построим коробчатую диаграмму в разрезе размера компании и заработной платы.\n",
    "fig = plt.figure(figsize=(8, 8))\n",
    "boxplot = sns.boxplot(\n",
    "    data=ds_data,\n",
    "    y='company_size',\n",
    "    x='salary_in_usd',\n",
    "    orient='h',\n",
    "    width=0.9,\n",
    "    medianprops={\"color\": \"red\", \"linestyle\": '--'}\n",
    ")\n",
    "boxplot.set_title('Распределение ЗП по размерам компаний для Data Scientist');\n",
    "boxplot.set_xlabel('Заработная плата');\n",
    "boxplot.set_ylabel('Размер компании');\n",
    "boxplot.grid()"
   ]
  },
  {
   "cell_type": "markdown",
   "id": "906b2a8e-e008-48f6-b9d6-de8054499bd4",
   "metadata": {},
   "source": [
    "На первый взгляд размер компании влияет на уровень ЗП.  \n",
    "Давайте попробуем подтвердить этот тезис статистически."
   ]
  },
  {
   "cell_type": "markdown",
   "id": "3fa66d53-1fc3-44eb-afd4-cb8bb6673eae",
   "metadata": {},
   "source": [
    "**Сформулируем гипотезы:**    \n",
    "- *Нулевая гипотеза* ($H_0$): размер ЗП не зависит от размера компании:  S ($μ_1$), M ($μ_2$), L ($μ_3$)\n",
    "\n",
    "$$ H_0 : μ_1 = μ_2 = μ_3$$\n",
    "- *Альтернативная гипотеза* ($H_1$): размер ЗП зависит от размера компании:\n",
    "\n",
    "$$ H_1 : μ_1 \\neq μ_2 \\neq μ_3$$ "
   ]
  },
  {
   "cell_type": "code",
   "execution_count": 190,
   "id": "6036c51b-c1e3-4ca9-82b6-6773ed13755c",
   "metadata": {},
   "outputs": [
    {
     "name": "stdout",
     "output_type": "stream",
     "text": [
      "company_size: S:\n",
      "p-value = 0.019\n",
      "p-значение меньше, чем заданный уровень значимости 0.05. Распределение отлично от нормального\n",
      "__________________ \n",
      "\n",
      "company_size: M:\n",
      "p-value = 0.807\n",
      "p-значение больше, чем заданный уровень значимости 0.05. Распределение является нормальным\n",
      "__________________ \n",
      "\n",
      "company_size: L:\n",
      "p-value = 0.011\n",
      "p-значение меньше, чем заданный уровень значимости 0.05. Распределение отлично от нормального\n",
      "__________________ \n",
      "\n"
     ]
    }
   ],
   "source": [
    "# значения заработных плат\n",
    "salary_s = ds_data.loc[ds_data['company_size']=='S', 'salary_in_usd']\n",
    "salary_m = ds_data.loc[ds_data['company_size']=='M', 'salary_in_usd']\n",
    "salary_l = ds_data.loc[ds_data['company_size']=='L', 'salary_in_usd']\n",
    "\n",
    "# проверим на нормальность распределения с помощью теста Шапиро-Уилка\n",
    "shapiro_distribution_tests([[salary_s, 'company_size: S'], \n",
    "                            [salary_m, 'company_size: M'], \n",
    "                            [salary_l, 'company_size: L']])\n"
   ]
  },
  {
   "cell_type": "markdown",
   "id": "82c0f22c-020c-4d0e-879e-f9519e6088da",
   "metadata": {},
   "source": [
    "**Выберем подходящий статистический тест**\n",
    "\n",
    "Для выбора нужного теста воспользуемся алгоритмом выбора теста. Для этого ответим на следующие вопросы:  \n",
    "- Какой тип у признака `salary_in_usd`? — Количественный.\n",
    "- Сколько сравниваемых групп? — 3.\n",
    "- Группы зависимы? — Нет.\n",
    "- Признак распределён по нормальному закону? — Нет, так как не все выборки распределены нормально.\n",
    "\n",
    "Для проверки нашей гипотезы можно использовать критерий Краскела — Уоллиса.\n",
    "\n",
    "**Проведём тест**"
   ]
  },
  {
   "cell_type": "code",
   "execution_count": 192,
   "id": "5cc09836-5631-4ad4-a973-47af1b1f6912",
   "metadata": {},
   "outputs": [
    {
     "name": "stdout",
     "output_type": "stream",
     "text": [
      "p-value = 0.000\n",
      "p-значение меньше, чем заданный уровень значимости 0.05. Отвергаем нулевую гипотезу в пользу альтернативной.\n"
     ]
    }
   ],
   "source": [
    "_, p = stats.kruskal(salary_s, salary_m, salary_l)\n",
    "decision_hypothesis(p)\n"
   ]
  },
  {
   "cell_type": "markdown",
   "id": "fd50399b-53d1-4447-a6f0-c5d437a24144",
   "metadata": {},
   "source": [
    "Таким образом размер компании влияет на размер ЗП."
   ]
  },
  {
   "cell_type": "markdown",
   "id": "672e3e9d-516b-40e3-990b-ff551023a068",
   "metadata": {},
   "source": [
    "## Ответы на поставленные вопросы\n",
    "[❎ **К ОГЛАВЛЕНИЮ**](#ОГЛАВЛЕНИЕ)"
   ]
  },
  {
   "cell_type": "markdown",
   "id": "f6c13816-a3e4-417e-9ffd-33ecf5460a22",
   "metadata": {},
   "source": [
    "1. Какие факторы влияют на зарплату специалиста Data Scientist?\n",
    "\n",
    "    На ЗП специалиста Data Scientist влияют следующие факторы:  \n",
    "    - work_year - Год, в котором была выплачена зарплата\n",
    "    - experience_level - Опыт работы на этой должности в течение года\n",
    "    - employment_type - Тип трудоустройства для этой роли\n",
    "    - employee_residence - Основная страна проживания сотрудника\n",
    "    - remote_ratio - Объём работы, выполняемой удалённо.\n",
    "    - company_location - Страна главного офиса работодателя или филиала\n",
    "    - company_size - Среднее количество людей, работавших в компании\n",
    "\n",
    " \n",
    "2. Наблюдается ли ежегодный рост зарплат у специалистов Data Scientist?\n",
    "\n",
    "   Да, наблюдается ежегодный рост заработных плат. \n",
    "\n",
    "\n",
    "3. Как соотносятся зарплаты Data Scientist и Data Engineer в 2022 году?\n",
    "\n",
    "    Мы с уверенность можем утверждать, что в 2022 году средний уровень ЗП Data Scientist не превышал таковой у Data Engineer.\n",
    "\n",
    "\n",
    "4. Как соотносятся зарплаты специалистов Data Scientist в компаниях различных размеров?\n",
    " \n",
    "     Мы статистически подтвердили наличия разницы в уровне заработных плат в компаниях разных размеров, а именно:\n",
    "   - меньше всего получают в компаниях размера S, медиана ЗП на уровне \\\\$51000  \n",
    "   - более чем в 2 раза платят в компаниях размера L, мениана на уровне \\\\$109518  \n",
    "   - больше всех платят в компаниях размера M, мениана на уровне \\\\$120080\n",
    "\n",
    "\n",
    "6. Есть ли связь между наличием должностей Data Scientist и Data Engineer и размером компании?\n",
    "\n",
    "    Мы можем утверждать, что связи между наличием должностей Data Scientist и Data Engineer и размером компании нет, они независимы."
   ]
  },
  {
   "cell_type": "markdown",
   "id": "b3e395d4-9995-43d8-9e91-3515d9d8776f",
   "metadata": {},
   "source": [
    "## Итоги\n",
    "[❎ **К ОГЛАВЛЕНИЮ**](#ОГЛАВЛЕНИЕ)"
   ]
  },
  {
   "cell_type": "markdown",
   "id": "0112de73-2845-497a-8cf3-d59a1c7be856",
   "metadata": {},
   "source": [
    "Проект помог дополнительно попрактиковаться в предобработке и разведывательном анализе данных (EDA).  \n",
    "В рамках данного проекта были отработаны на практике такие темы как:  \n",
    "- проверка данных на нормальность распределения\n",
    "- критерии выбора статистических тестов\n",
    "- параметрические тесты\n",
    "- непараметрические тесты\n",
    "- статистические тесты для категориальных признаков\n",
    "\n"
   ]
  },
  {
   "cell_type": "markdown",
   "id": "fd0e91f9-8841-45a4-afa6-3b623aa0192a",
   "metadata": {},
   "source": [
    "### "
   ]
  }
 ],
 "metadata": {
  "kernelspec": {
   "display_name": "Python 3 (ipykernel)",
   "language": "python",
   "name": "python3"
  },
  "language_info": {
   "codemirror_mode": {
    "name": "ipython",
    "version": 3
   },
   "file_extension": ".py",
   "mimetype": "text/x-python",
   "name": "python",
   "nbconvert_exporter": "python",
   "pygments_lexer": "ipython3",
   "version": "3.12.3"
  }
 },
 "nbformat": 4,
 "nbformat_minor": 5
}
